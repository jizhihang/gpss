{
 "cells": [
  {
   "cell_type": "markdown",
   "metadata": {
    "slideshow": {
     "slide_type": "slide"
    }
   },
   "source": [
    "## Gaussian Processes\n",
    "\n",
    "### Neil D. Lawrence\n",
    "\n",
    "### 12th May 2016"
   ]
  },
  {
   "cell_type": "code",
   "execution_count": 22,
   "metadata": {
    "collapsed": false,
    "slideshow": {
     "slide_type": "skip"
    }
   },
   "outputs": [],
   "source": [
    "import numpy as np\n",
    "import pandas as pd\n",
    "import pods\n",
    "import matplotlib.pyplot as plt\n",
    "import mlai\n",
    "%matplotlib inline"
   ]
  },
  {
   "cell_type": "markdown",
   "metadata": {
    "slideshow": {
     "slide_type": "slide"
    }
   },
   "source": [
    "<img src=\"./diagrams/9780262182539-f30.jpg\">\n",
    "@Rasmussen:book06"
   ]
  },
  {
   "cell_type": "markdown",
   "metadata": {
    "slideshow": {
     "slide_type": "slide"
    }
   },
   "source": [
    "### What is Machine Learning?\n",
    "\n",
    "$$ \\text{data} + \\text{model} = \\text{prediction}$$\n",
    "\n",
    "-   $\\text{data}$ : observations, could be actively or passively\n",
    "    acquired (meta-data).\n",
    "\n",
    "-   $\\text{model}$ : assumptions, based on previous experience (other data!\n",
    "    transfer learning etc), or beliefs about the regularities of\n",
    "    the universe. Inductive bias.\n",
    "\n",
    "-   $\\text{prediction}$ : an action to be taken or a categorization or a\n",
    "    quality score."
   ]
  },
  {
   "cell_type": "markdown",
   "metadata": {
    "slideshow": {
     "slide_type": "slide"
    }
   },
   "source": [
    "### Olympic Marathon Data\n",
    "\n",
    "-   Gold medal times for Olympic Marathon since 1896.\n",
    "\n",
    "-   Marathons before 1924 didn’t have a standardised distance.\n",
    "\n",
    "-   Present results using pace per km.\n",
    "\n",
    "-   In 1904 Marathon was badly organised leading to very slow times.\n",
    "\n",
    "![image](./diagrams/Stephen_Kiprotich.jpg)\n",
    "Image from Wikimedia Commons <http://bit.ly/16kMKHQ>"
   ]
  },
  {
   "cell_type": "markdown",
   "metadata": {
    "slideshow": {
     "slide_type": "slide"
    }
   },
   "source": [
    "### Olympic Marathon Data"
   ]
  },
  {
   "cell_type": "code",
   "execution_count": 23,
   "metadata": {
    "collapsed": false
   },
   "outputs": [
    {
     "data": {
      "text/plain": [
       "[<matplotlib.lines.Line2D at 0x119f41ac8>]"
      ]
     },
     "execution_count": 23,
     "metadata": {},
     "output_type": "execute_result"
    },
    {
     "data": {
      "image/png": "[encoded data removed]",
      "text/plain": [
       "<matplotlib.figure.Figure at 0x119f41f60>"
      ]
     },
     "metadata": {},
     "output_type": "display_data"
    }
   ],
   "source": [
    "data = pods.datasets.olympic_marathon_men()\n",
    "f, ax = plt.subplots(figsize=(7,7))\n",
    "ax.plot(data['X'], data['Y'], 'ro',markersize=10)"
   ]
  },
  {
   "cell_type": "markdown",
   "metadata": {
    "slideshow": {
     "slide_type": "slide"
    }
   },
   "source": [
    "# Overdetermined System\n",
    "\n",
    "![](diagrams/straight_line7.svg)"
   ]
  },
  {
   "cell_type": "code",
   "execution_count": 24,
   "metadata": {
    "collapsed": false
   },
   "outputs": [
    {
     "data": {
      "image/svg+xml": [
       "<svg height=\"360pt\" version=\"1.1\" viewBox=\"0 0 360 360\" width=\"360pt\" xmlns=\"http://www.w3.org/2000/svg\" xmlns:xlink=\"http://www.w3.org/1999/xlink\">\n",
       " <defs>\n",
       "  <style type=\"text/css\">\n",
       "*{stroke-linecap:butt;stroke-linejoin:round;}\n",
       "  </style>\n",
       " </defs>\n",
       " <g id=\"figure_1\">\n",
       "  <g id=\"patch_1\">\n",
       "   <path d=\" M0 360 L360 360 L360 0 L0 0 z \" style=\"fill:#ffffff;\"/>\n",
       "  </g>\n",
       "  <g id=\"axes_1\">\n",
       "   <g id=\"patch_2\">\n",
       "    <path d=\" M45 315 L324 315 L324 36 L45 36 z \" style=\"fill:#ffffff;\"/>\n",
       "   </g>\n",
       "   <g id=\"line2d_1\">\n",
       "    <path clip-path=\"url(#pd0c2820aef)\" d=\" M45 91.8 L314.2 361\" style=\"fill:none;stroke:#0000ff;stroke-linecap:square;stroke-width:3;\"/>\n",
       "   </g>\n",
       "   <g id=\"line2d_2\">\n",
       "    <path clip-path=\"url(#pd0c2820aef)\" d=\" M128.7 231.3 L184.5 231.3\" style=\"fill:none;stroke:#000000;stroke-linecap:square;\"/>\n",
       "   </g>\n",
       "   <g id=\"line2d_3\">\n",
       "    <path clip-path=\"url(#pd0c2820aef)\" d=\" M128.7 175.5 L128.7 231.3\" style=\"fill:none;stroke:#000000;stroke-linecap:square;\"/>\n",
       "   </g>\n",
       "   <g id=\"line2d_4\">\n",
       "    <defs>\n",
       "     <path d=\" M0 5 C1.32602 5 2.5979 4.47317 3.53553 3.53553 C4.47317 2.5979 5 1.32602 5 0 C5 -1.32602 4.47317 -2.5979 3.53553 -3.53553 C2.5979 -4.47317 1.32602 -5 0 -5 C-1.32602 -5 -2.5979 -4.47317 -3.53553 -3.53553 C-4.47317 -2.5979 -5 -1.32602 -5 0 C-5 1.32602 -4.47317 2.5979 -3.53553 3.53553 C-2.5979 4.47317 -1.32602 5 0 5 z \" id=\"mfd7b842f2b\" style=\"stroke:#ff0000;stroke-width:0.5;\"/>\n",
       "    </defs>\n",
       "    <g clip-path=\"url(#pd0c2820aef)\">\n",
       "     <use style=\"fill:#ff0000;stroke:#ff0000;stroke-width:0.5;\" x=\"100.8\" xlink:href=\"#mfd7b842f2b\" y=\"147.6\"/>\n",
       "     <use style=\"fill:#ff0000;stroke:#ff0000;stroke-width:0.5;\" x=\"212.4\" xlink:href=\"#mfd7b842f2b\" y=\"259.2\"/>\n",
       "    </g>\n",
       "   </g>\n",
       "   <g id=\"line2d_5\">\n",
       "    <defs>\n",
       "     <path d=\" M0 5 C1.32602 5 2.5979 4.47317 3.53553 3.53553 C4.47317 2.5979 5 1.32602 5 0 C5 -1.32602 4.47317 -2.5979 3.53553 -3.53553 C2.5979 -4.47317 1.32602 -5 0 -5 C-1.32602 -5 -2.5979 -4.47317 -3.53553 -3.53553 C-4.47317 -2.5979 -5 -1.32602 -5 0 C-5 1.32602 -4.47317 2.5979 -3.53553 3.53553 C-2.5979 4.47317 -1.32602 5 0 5 z \" id=\"m3b9e8fe8ba\" style=\"stroke:#00ff00;stroke-width:0.5;\"/>\n",
       "    </defs>\n",
       "    <g clip-path=\"url(#pd0c2820aef)\">\n",
       "     <use style=\"fill:#00ff00;stroke:#00ff00;stroke-width:0.5;\" x=\"156.6\" xlink:href=\"#m3b9e8fe8ba\" y=\"186.66\"/>\n",
       "    </g>\n",
       "   </g>\n",
       "   <g id=\"patch_3\">\n",
       "    <path d=\" M45 315 L324 315\" style=\"fill:none;stroke:#000000;stroke-linecap:square;stroke-linejoin:miter;\"/>\n",
       "   </g>\n",
       "   <g id=\"patch_4\">\n",
       "    <path d=\" M324 315 L324 36\" style=\"fill:none;stroke:#000000;stroke-linecap:square;stroke-linejoin:miter;\"/>\n",
       "   </g>\n",
       "   <g id=\"patch_5\">\n",
       "    <path d=\" M45 36 L324 36\" style=\"fill:none;stroke:#000000;stroke-linecap:square;stroke-linejoin:miter;\"/>\n",
       "   </g>\n",
       "   <g id=\"patch_6\">\n",
       "    <path d=\" M45 315 L45 36\" style=\"fill:none;stroke:#000000;stroke-linecap:square;stroke-linejoin:miter;\"/>\n",
       "   </g>\n",
       "   <g id=\"matplotlib.axis_1\">\n",
       "    <g id=\"xtick_1\">\n",
       "     <g id=\"line2d_6\">\n",
       "      <defs>\n",
       "       <path d=\" M0 0 L0 -4\" id=\"mc7db9fdffb\" style=\"stroke:#000000;stroke-width:0.5;\"/>\n",
       "      </defs>\n",
       "      <g>\n",
       "       <use style=\"stroke:#000000;stroke-width:0.5;\" x=\"45.0\" xlink:href=\"#mc7db9fdffb\" y=\"315.0\"/>\n",
       "      </g>\n",
       "     </g>\n",
       "     <g id=\"line2d_7\">\n",
       "      <defs>\n",
       "       <path d=\" M0 0 L0 4\" id=\"m5a7d422ac3\" style=\"stroke:#000000;stroke-width:0.5;\"/>\n",
       "      </defs>\n",
       "      <g>\n",
       "       <use style=\"stroke:#000000;stroke-width:0.5;\" x=\"45.0\" xlink:href=\"#m5a7d422ac3\" y=\"36.0\"/>\n",
       "      </g>\n",
       "     </g>\n",
       "     <g id=\"text_1\">\n",
       "      <!-- 0 -->\n",
       "      <defs>\n",
       "       <path d=\" M31.7812 66.4062 Q24.1719 66.4062 20.3281 58.9062 Q16.5 51.4219 16.5 36.375 Q16.5 21.3906 20.3281 13.8906 Q24.1719 6.39062 31.7812 6.39062 Q39.4531 6.39062 43.2812 13.8906 Q47.125 21.3906 47.125 36.375 Q47.125 51.4219 43.2812 58.9062 Q39.4531 66.4062 31.7812 66.4062 M31.7812 74.2188 Q44.0469 74.2188 50.5156 64.5156 Q56.9844 54.8281 56.9844 36.375 Q56.9844 17.9688 50.5156 8.26562 Q44.0469 -1.42188 31.7812 -1.42188 Q19.5312 -1.42188 13.0625 8.26562 Q6.59375 17.9688 6.59375 36.375 Q6.59375 54.8281 13.0625 64.5156 Q19.5312 74.2188 31.7812 74.2188\" id=\"BitstreamVeraSans-Roman-30\"/>\n",
       "      </defs>\n",
       "      <g transform=\"translate(42.48046875 326.5984375)scale(0.1 -0.1)\">\n",
       "       <use xlink:href=\"#BitstreamVeraSans-Roman-30\"/>\n",
       "      </g>\n",
       "     </g>\n",
       "    </g>\n",
       "    <g id=\"xtick_2\">\n",
       "     <g id=\"line2d_8\">\n",
       "      <g>\n",
       "       <use style=\"stroke:#000000;stroke-width:0.5;\" x=\"100.8\" xlink:href=\"#mc7db9fdffb\" y=\"315.0\"/>\n",
       "      </g>\n",
       "     </g>\n",
       "     <g id=\"line2d_9\">\n",
       "      <g>\n",
       "       <use style=\"stroke:#000000;stroke-width:0.5;\" x=\"100.8\" xlink:href=\"#m5a7d422ac3\" y=\"36.0\"/>\n",
       "      </g>\n",
       "     </g>\n",
       "     <g id=\"text_2\">\n",
       "      <!-- 1 -->\n",
       "      <defs>\n",
       "       <path d=\" M12.4062 8.29688 L28.5156 8.29688 L28.5156 63.9219 L10.9844 60.4062 L10.9844 69.3906 L28.4219 72.9062 L38.2812 72.9062 L38.2812 8.29688 L54.3906 8.29688 L54.3906 0 L12.4062 0 z \" id=\"BitstreamVeraSans-Roman-31\"/>\n",
       "      </defs>\n",
       "      <g transform=\"translate(98.6296875 326.5984375)scale(0.1 -0.1)\">\n",
       "       <use xlink:href=\"#BitstreamVeraSans-Roman-31\"/>\n",
       "      </g>\n",
       "     </g>\n",
       "    </g>\n",
       "    <g id=\"xtick_3\">\n",
       "     <g id=\"line2d_10\">\n",
       "      <g>\n",
       "       <use style=\"stroke:#000000;stroke-width:0.5;\" x=\"156.6\" xlink:href=\"#mc7db9fdffb\" y=\"315.0\"/>\n",
       "      </g>\n",
       "     </g>\n",
       "     <g id=\"line2d_11\">\n",
       "      <g>\n",
       "       <use style=\"stroke:#000000;stroke-width:0.5;\" x=\"156.6\" xlink:href=\"#m5a7d422ac3\" y=\"36.0\"/>\n",
       "      </g>\n",
       "     </g>\n",
       "     <g id=\"text_3\">\n",
       "      <!-- 2 -->\n",
       "      <defs>\n",
       "       <path d=\" M19.1875 8.29688 L53.6094 8.29688 L53.6094 0 L7.32812 0 L7.32812 8.29688 Q12.9375 14.1094 22.625 23.8906 Q32.3281 33.6875 34.8125 36.5312 Q39.5469 41.8438 41.4219 45.5312 Q43.3125 49.2188 43.3125 52.7812 Q43.3125 58.5938 39.2344 62.25 Q35.1562 65.9219 28.6094 65.9219 Q23.9688 65.9219 18.8125 64.3125 Q13.6719 62.7031 7.8125 59.4219 L7.8125 69.3906 Q13.7656 71.7812 18.9375 73 Q24.125 74.2188 28.4219 74.2188 Q39.75 74.2188 46.4844 68.5469 Q53.2188 62.8906 53.2188 53.4219 Q53.2188 48.9219 51.5312 44.8906 Q49.8594 40.875 45.4062 35.4062 Q44.1875 33.9844 37.6406 27.2188 Q31.1094 20.4531 19.1875 8.29688\" id=\"BitstreamVeraSans-Roman-32\"/>\n",
       "      </defs>\n",
       "      <g transform=\"translate(154.2859375 326.5984375)scale(0.1 -0.1)\">\n",
       "       <use xlink:href=\"#BitstreamVeraSans-Roman-32\"/>\n",
       "      </g>\n",
       "     </g>\n",
       "    </g>\n",
       "    <g id=\"xtick_4\">\n",
       "     <g id=\"line2d_12\">\n",
       "      <g>\n",
       "       <use style=\"stroke:#000000;stroke-width:0.5;\" x=\"212.4\" xlink:href=\"#mc7db9fdffb\" y=\"315.0\"/>\n",
       "      </g>\n",
       "     </g>\n",
       "     <g id=\"line2d_13\">\n",
       "      <g>\n",
       "       <use style=\"stroke:#000000;stroke-width:0.5;\" x=\"212.4\" xlink:href=\"#m5a7d422ac3\" y=\"36.0\"/>\n",
       "      </g>\n",
       "     </g>\n",
       "     <g id=\"text_4\">\n",
       "      <!-- 3 -->\n",
       "      <defs>\n",
       "       <path d=\" M40.5781 39.3125 Q47.6562 37.7969 51.625 33 Q55.6094 28.2188 55.6094 21.1875 Q55.6094 10.4062 48.1875 4.48438 Q40.7656 -1.42188 27.0938 -1.42188 Q22.5156 -1.42188 17.6562 -0.515625 Q12.7969 0.390625 7.625 2.20312 L7.625 11.7188 Q11.7188 9.32812 16.5938 8.10938 Q21.4844 6.89062 26.8125 6.89062 Q36.0781 6.89062 40.9375 10.5469 Q45.7969 14.2031 45.7969 21.1875 Q45.7969 27.6406 41.2812 31.2656 Q36.7656 34.9062 28.7188 34.9062 L20.2188 34.9062 L20.2188 43.0156 L29.1094 43.0156 Q36.375 43.0156 40.2344 45.9219 Q44.0938 48.8281 44.0938 54.2969 Q44.0938 59.9062 40.1094 62.9062 Q36.1406 65.9219 28.7188 65.9219 Q24.6562 65.9219 20.0156 65.0312 Q15.375 64.1562 9.8125 62.3125 L9.8125 71.0938 Q15.4375 72.6562 20.3438 73.4375 Q25.25 74.2188 29.5938 74.2188 Q40.8281 74.2188 47.3594 69.1094 Q53.9062 64.0156 53.9062 55.3281 Q53.9062 49.2656 50.4375 45.0938 Q46.9688 40.9219 40.5781 39.3125\" id=\"BitstreamVeraSans-Roman-33\"/>\n",
       "      </defs>\n",
       "      <g transform=\"translate(210.00078125 326.5984375)scale(0.1 -0.1)\">\n",
       "       <use xlink:href=\"#BitstreamVeraSans-Roman-33\"/>\n",
       "      </g>\n",
       "     </g>\n",
       "    </g>\n",
       "    <g id=\"xtick_5\">\n",
       "     <g id=\"line2d_14\">\n",
       "      <g>\n",
       "       <use style=\"stroke:#000000;stroke-width:0.5;\" x=\"268.2\" xlink:href=\"#mc7db9fdffb\" y=\"315.0\"/>\n",
       "      </g>\n",
       "     </g>\n",
       "     <g id=\"line2d_15\">\n",
       "      <g>\n",
       "       <use style=\"stroke:#000000;stroke-width:0.5;\" x=\"268.2\" xlink:href=\"#m5a7d422ac3\" y=\"36.0\"/>\n",
       "      </g>\n",
       "     </g>\n",
       "     <g id=\"text_5\">\n",
       "      <!-- 4 -->\n",
       "      <defs>\n",
       "       <path d=\" M37.7969 64.3125 L12.8906 25.3906 L37.7969 25.3906 z  M35.2031 72.9062 L47.6094 72.9062 L47.6094 25.3906 L58.0156 25.3906 L58.0156 17.1875 L47.6094 17.1875 L47.6094 0 L37.7969 0 L37.7969 17.1875 L4.89062 17.1875 L4.89062 26.7031 z \" id=\"BitstreamVeraSans-Roman-34\"/>\n",
       "      </defs>\n",
       "      <g transform=\"translate(265.54375 326.5984375)scale(0.1 -0.1)\">\n",
       "       <use xlink:href=\"#BitstreamVeraSans-Roman-34\"/>\n",
       "      </g>\n",
       "     </g>\n",
       "    </g>\n",
       "    <g id=\"xtick_6\">\n",
       "     <g id=\"line2d_16\">\n",
       "      <g>\n",
       "       <use style=\"stroke:#000000;stroke-width:0.5;\" x=\"324.0\" xlink:href=\"#mc7db9fdffb\" y=\"315.0\"/>\n",
       "      </g>\n",
       "     </g>\n",
       "     <g id=\"line2d_17\">\n",
       "      <g>\n",
       "       <use style=\"stroke:#000000;stroke-width:0.5;\" x=\"324.0\" xlink:href=\"#m5a7d422ac3\" y=\"36.0\"/>\n",
       "      </g>\n",
       "     </g>\n",
       "     <g id=\"text_6\">\n",
       "      <!-- 5 -->\n",
       "      <defs>\n",
       "       <path d=\" M10.7969 72.9062 L49.5156 72.9062 L49.5156 64.5938 L19.8281 64.5938 L19.8281 46.7344 Q21.9688 47.4688 24.1094 47.8281 Q26.2656 48.1875 28.4219 48.1875 Q40.625 48.1875 47.75 41.5 Q54.8906 34.8125 54.8906 23.3906 Q54.8906 11.625 47.5625 5.09375 Q40.2344 -1.42188 26.9062 -1.42188 Q22.3125 -1.42188 17.5469 -0.640625 Q12.7969 0.140625 7.71875 1.70312 L7.71875 11.625 Q12.1094 9.23438 16.7969 8.0625 Q21.4844 6.89062 26.7031 6.89062 Q35.1562 6.89062 40.0781 11.3281 Q45.0156 15.7656 45.0156 23.3906 Q45.0156 31 40.0781 35.4375 Q35.1562 39.8906 26.7031 39.8906 Q22.75 39.8906 18.8125 39.0156 Q14.8906 38.1406 10.7969 36.2812 z \" id=\"BitstreamVeraSans-Roman-35\"/>\n",
       "      </defs>\n",
       "      <g transform=\"translate(321.64140625 326.5984375)scale(0.1 -0.1)\">\n",
       "       <use xlink:href=\"#BitstreamVeraSans-Roman-35\"/>\n",
       "      </g>\n",
       "     </g>\n",
       "    </g>\n",
       "    <g id=\"text_7\">\n",
       "     <!-- $x$ -->\n",
       "     <defs>\n",
       "      <path d=\" M7.8125 2.875 Q9.57812 1.51562 12.7969 1.51562 Q15.9219 1.51562 18.3125 4.51562 Q20.7031 7.51562 21.5781 11.0781 L26.125 28.8125 Q27.2031 33.6406 27.2031 35.4062 Q27.2031 37.8906 25.8125 39.75 Q24.4219 41.6094 21.9219 41.6094 Q18.75 41.6094 15.9688 39.625 Q13.1875 37.6406 11.2812 34.5938 Q9.375 31.5469 8.59375 28.4219 Q8.40625 27.7812 7.8125 27.7812 L6.59375 27.7812 Q5.8125 27.7812 5.8125 28.7188 L5.8125 29 Q6.78125 32.7188 9.125 36.25 Q11.4688 39.7969 14.8594 41.9844 Q18.2656 44.1875 22.125 44.1875 Q25.7812 44.1875 28.7344 42.2344 Q31.6875 40.2812 32.9062 36.9219 Q34.625 39.9844 37.2812 42.0781 Q39.9375 44.1875 43.1094 44.1875 Q45.2656 44.1875 47.5 43.4219 Q49.75 42.6719 51.1719 41.1094 Q52.5938 39.5469 52.5938 37.2031 Q52.5938 34.6719 50.9531 32.8281 Q49.3125 31 46.7812 31 Q45.1719 31 44.0938 32.0312 Q43.0156 33.0625 43.0156 34.625 Q43.0156 36.7188 44.4531 38.2969 Q45.9062 39.8906 47.9062 40.1875 Q46.0938 41.6094 42.9219 41.6094 Q39.7031 41.6094 37.3281 38.625 Q34.9688 35.6406 33.9844 31.9844 L29.5938 14.3125 Q28.5156 10.2969 28.5156 7.71875 Q28.5156 5.17188 29.9531 3.34375 Q31.3906 1.51562 33.7969 1.51562 Q38.4844 1.51562 42.1562 5.64062 Q45.8438 9.76562 47.0156 14.7031 Q47.2188 15.2812 47.7969 15.2812 L49.0312 15.2812 Q49.4219 15.2812 49.6562 15.0156 Q49.9062 14.75 49.9062 14.4062 Q49.9062 14.3125 49.8125 14.1094 Q48.3906 8.15625 43.8438 3.51562 Q39.3125 -1.125 33.5938 -1.125 Q29.9375 -1.125 26.9844 0.84375 Q24.0312 2.82812 22.7969 6.20312 Q21.2344 3.26562 18.4688 1.0625 Q15.7188 -1.125 12.5938 -1.125 Q10.4531 -1.125 8.17188 -0.359375 Q5.90625 0.390625 4.48438 1.95312 Q3.07812 3.51562 3.07812 5.90625 Q3.07812 8.25 4.70312 10.1719 Q6.34375 12.1094 8.79688 12.1094 Q10.4531 12.1094 11.5781 11.1094 Q12.7031 10.1094 12.7031 8.5 Q12.7031 6.39062 11.2969 4.82812 Q9.90625 3.26562 7.8125 2.875\" id=\"Cmmi10-78\"/>\n",
       "     </defs>\n",
       "     <g transform=\"translate(175.8 356.4734375)scale(0.3 -0.3)\">\n",
       "      <use transform=\"translate(0.0 0.8125)\" xlink:href=\"#Cmmi10-78\"/>\n",
       "     </g>\n",
       "    </g>\n",
       "   </g>\n",
       "   <g id=\"matplotlib.axis_2\">\n",
       "    <g id=\"ytick_1\">\n",
       "     <g id=\"line2d_18\">\n",
       "      <defs>\n",
       "       <path d=\" M0 0 L4 0\" id=\"md7965d1ba0\" style=\"stroke:#000000;stroke-width:0.5;\"/>\n",
       "      </defs>\n",
       "      <g>\n",
       "       <use style=\"stroke:#000000;stroke-width:0.5;\" x=\"45.0\" xlink:href=\"#md7965d1ba0\" y=\"315.0\"/>\n",
       "      </g>\n",
       "     </g>\n",
       "     <g id=\"line2d_19\">\n",
       "      <defs>\n",
       "       <path d=\" M0 0 L-4 0\" id=\"md9a1c1a7cd\" style=\"stroke:#000000;stroke-width:0.5;\"/>\n",
       "      </defs>\n",
       "      <g>\n",
       "       <use style=\"stroke:#000000;stroke-width:0.5;\" x=\"324.0\" xlink:href=\"#md9a1c1a7cd\" y=\"315.0\"/>\n",
       "      </g>\n",
       "     </g>\n",
       "     <g id=\"text_8\">\n",
       "      <!-- 0 -->\n",
       "      <g transform=\"translate(35.9609375 317.759375)scale(0.1 -0.1)\">\n",
       "       <use xlink:href=\"#BitstreamVeraSans-Roman-30\"/>\n",
       "      </g>\n",
       "     </g>\n",
       "    </g>\n",
       "    <g id=\"ytick_2\">\n",
       "     <g id=\"line2d_20\">\n",
       "      <g>\n",
       "       <use style=\"stroke:#000000;stroke-width:0.5;\" x=\"45.0\" xlink:href=\"#md7965d1ba0\" y=\"259.2\"/>\n",
       "      </g>\n",
       "     </g>\n",
       "     <g id=\"line2d_21\">\n",
       "      <g>\n",
       "       <use style=\"stroke:#000000;stroke-width:0.5;\" x=\"324.0\" xlink:href=\"#md9a1c1a7cd\" y=\"259.2\"/>\n",
       "      </g>\n",
       "     </g>\n",
       "     <g id=\"text_9\">\n",
       "      <!-- 1 -->\n",
       "      <g transform=\"translate(36.659375 261.959375)scale(0.1 -0.1)\">\n",
       "       <use xlink:href=\"#BitstreamVeraSans-Roman-31\"/>\n",
       "      </g>\n",
       "     </g>\n",
       "    </g>\n",
       "    <g id=\"ytick_3\">\n",
       "     <g id=\"line2d_22\">\n",
       "      <g>\n",
       "       <use style=\"stroke:#000000;stroke-width:0.5;\" x=\"45.0\" xlink:href=\"#md7965d1ba0\" y=\"203.4\"/>\n",
       "      </g>\n",
       "     </g>\n",
       "     <g id=\"line2d_23\">\n",
       "      <g>\n",
       "       <use style=\"stroke:#000000;stroke-width:0.5;\" x=\"324.0\" xlink:href=\"#md9a1c1a7cd\" y=\"203.4\"/>\n",
       "      </g>\n",
       "     </g>\n",
       "     <g id=\"text_10\">\n",
       "      <!-- 2 -->\n",
       "      <g transform=\"translate(36.371875 206.159375)scale(0.1 -0.1)\">\n",
       "       <use xlink:href=\"#BitstreamVeraSans-Roman-32\"/>\n",
       "      </g>\n",
       "     </g>\n",
       "    </g>\n",
       "    <g id=\"ytick_4\">\n",
       "     <g id=\"line2d_24\">\n",
       "      <g>\n",
       "       <use style=\"stroke:#000000;stroke-width:0.5;\" x=\"45.0\" xlink:href=\"#md7965d1ba0\" y=\"147.6\"/>\n",
       "      </g>\n",
       "     </g>\n",
       "     <g id=\"line2d_25\">\n",
       "      <g>\n",
       "       <use style=\"stroke:#000000;stroke-width:0.5;\" x=\"324.0\" xlink:href=\"#md9a1c1a7cd\" y=\"147.6\"/>\n",
       "      </g>\n",
       "     </g>\n",
       "     <g id=\"text_11\">\n",
       "      <!-- 3 -->\n",
       "      <g transform=\"translate(36.2015625 150.359375)scale(0.1 -0.1)\">\n",
       "       <use xlink:href=\"#BitstreamVeraSans-Roman-33\"/>\n",
       "      </g>\n",
       "     </g>\n",
       "    </g>\n",
       "    <g id=\"ytick_5\">\n",
       "     <g id=\"line2d_26\">\n",
       "      <g>\n",
       "       <use style=\"stroke:#000000;stroke-width:0.5;\" x=\"45.0\" xlink:href=\"#md7965d1ba0\" y=\"91.8\"/>\n",
       "      </g>\n",
       "     </g>\n",
       "     <g id=\"line2d_27\">\n",
       "      <g>\n",
       "       <use style=\"stroke:#000000;stroke-width:0.5;\" x=\"324.0\" xlink:href=\"#md9a1c1a7cd\" y=\"91.8\"/>\n",
       "      </g>\n",
       "     </g>\n",
       "     <g id=\"text_12\">\n",
       "      <!-- 4 -->\n",
       "      <g transform=\"translate(35.6875 94.559375)scale(0.1 -0.1)\">\n",
       "       <use xlink:href=\"#BitstreamVeraSans-Roman-34\"/>\n",
       "      </g>\n",
       "     </g>\n",
       "    </g>\n",
       "    <g id=\"ytick_6\">\n",
       "     <g id=\"line2d_28\">\n",
       "      <g>\n",
       "       <use style=\"stroke:#000000;stroke-width:0.5;\" x=\"45.0\" xlink:href=\"#md7965d1ba0\" y=\"36.0\"/>\n",
       "      </g>\n",
       "     </g>\n",
       "     <g id=\"line2d_29\">\n",
       "      <g>\n",
       "       <use style=\"stroke:#000000;stroke-width:0.5;\" x=\"324.0\" xlink:href=\"#md9a1c1a7cd\" y=\"36.0\"/>\n",
       "      </g>\n",
       "     </g>\n",
       "     <g id=\"text_13\">\n",
       "      <!-- 5 -->\n",
       "      <g transform=\"translate(36.2828125 38.759375)scale(0.1 -0.1)\">\n",
       "       <use xlink:href=\"#BitstreamVeraSans-Roman-35\"/>\n",
       "      </g>\n",
       "     </g>\n",
       "    </g>\n",
       "    <g id=\"text_14\">\n",
       "     <!-- $y$ -->\n",
       "     <defs>\n",
       "      <path d=\" M8.40625 -14.3125 Q10.5 -17.9219 15.7188 -17.9219 Q20.4531 -17.9219 23.9219 -14.5938 Q27.3906 -11.2812 29.5156 -6.5625 Q31.6406 -1.85938 32.8125 3.07812 Q28.375 -1.125 23.1875 -1.125 Q19.2344 -1.125 16.4531 0.234375 Q13.6719 1.60938 12.125 4.3125 Q10.5938 7.03125 10.5938 10.8906 Q10.5938 14.1562 11.4688 17.5938 Q12.3594 21.0469 13.9375 25.2656 Q15.5312 29.5 16.7031 32.625 Q18.0156 36.2812 18.0156 38.625 Q18.0156 41.6094 15.8281 41.6094 Q11.8594 41.6094 9.29688 37.5312 Q6.73438 33.4531 5.51562 28.4219 Q5.32812 27.7812 4.6875 27.7812 L3.51562 27.7812 Q2.6875 27.7812 2.6875 28.7188 L2.6875 29 Q4.29688 34.9688 7.60938 39.5781 Q10.9375 44.1875 16.0156 44.1875 Q19.5781 44.1875 22.0469 41.8438 Q24.5156 39.5 24.5156 35.8906 Q24.5156 34.0312 23.6875 31.9844 Q23.25 30.7656 21.6875 26.6562 Q20.125 22.5625 19.2812 19.875 Q18.4531 17.1875 17.9219 14.5938 Q17.3906 12.0156 17.3906 9.42188 Q17.3906 6.10938 18.7969 3.8125 Q20.2188 1.51562 23.2969 1.51562 Q29.5 1.51562 34.4219 9.07812 L42 39.8906 Q42.3281 41.2188 43.5469 42.1562 Q44.7812 43.1094 46.1875 43.1094 Q47.4062 43.1094 48.3125 42.3281 Q49.2188 41.5469 49.2188 40.2812 Q49.2188 39.7031 49.125 39.5 L39.2031 -0.296875 Q37.8906 -5.42188 34.375 -10.1094 Q30.8594 -14.7969 25.9062 -17.6562 Q20.9531 -20.5156 15.5781 -20.5156 Q12.9844 -20.5156 10.4375 -19.5 Q7.90625 -18.5 6.34375 -16.5 Q4.78125 -14.5 4.78125 -11.8125 Q4.78125 -9.07812 6.39062 -7.07812 Q8.01562 -5.07812 10.6875 -5.07812 Q12.3125 -5.07812 13.4062 -6.07812 Q14.5 -7.07812 14.5 -8.6875 Q14.5 -10.9844 12.7812 -12.6875 Q11.0781 -14.4062 8.79688 -14.4062 Q8.6875 -14.3594 8.59375 -14.3281 Q8.5 -14.3125 8.40625 -14.3125\" id=\"Cmmi10-79\"/>\n",
       "     </defs>\n",
       "     <g transform=\"translate(24.3875 183.0)rotate(-90.0)scale(0.3 -0.3)\">\n",
       "      <use transform=\"translate(0.0 0.8125)\" xlink:href=\"#Cmmi10-79\"/>\n",
       "     </g>\n",
       "    </g>\n",
       "   </g>\n",
       "   <g id=\"text_15\">\n",
       "    <!-- $y=mx+c$ -->\n",
       "    <defs>\n",
       "     <path d=\" M7.51562 23 Q6.6875 23 6.14062 23.625 Q5.60938 24.2656 5.60938 25 Q5.60938 25.7344 6.14062 26.3594 Q6.6875 27 7.51562 27 L36.9219 27 L36.9219 56.5 Q36.9219 57.2812 37.5 57.7812 Q38.0938 58.2969 38.9219 58.2969 Q39.6562 58.2969 40.2812 57.7812 Q40.9219 57.2812 40.9219 56.5 L40.9219 27 L70.3125 27 Q71.0469 27 71.5781 26.3594 Q72.125 25.7344 72.125 25 Q72.125 24.2656 71.5781 23.625 Q71.0469 23 70.3125 23 L40.9219 23 L40.9219 -6.5 Q40.9219 -7.28125 40.2812 -7.78125 Q39.6562 -8.29688 38.9219 -8.29688 Q38.0938 -8.29688 37.5 -7.78125 Q36.9219 -7.28125 36.9219 -6.5 L36.9219 23 z \" id=\"Cmr10-2b\"/>\n",
       "     <path d=\" M7.71875 1.70312 Q7.71875 2.29688 7.8125 2.59375 L15.2812 32.4219 Q16.0156 35.2031 16.0156 37.3125 Q16.0156 41.6094 13.0938 41.6094 Q9.96875 41.6094 8.45312 37.8594 Q6.9375 34.125 5.51562 28.4219 Q5.51562 28.125 5.21875 27.9531 Q4.9375 27.7812 4.6875 27.7812 L3.51562 27.7812 Q3.17188 27.7812 2.92188 28.1406 Q2.6875 28.5156 2.6875 28.8125 Q3.76562 33.1562 4.76562 36.1719 Q5.76562 39.2031 7.89062 41.6875 Q10.0156 44.1875 13.1875 44.1875 Q16.9375 44.1875 19.8125 41.8125 Q22.7031 39.4531 22.7031 35.7969 Q25.6875 39.7031 29.6875 41.9375 Q33.6875 44.1875 38.1875 44.1875 Q42.9219 44.1875 46.3594 41.7656 Q49.8125 39.3594 49.8125 34.9062 Q52.875 39.2656 57 41.7188 Q61.1406 44.1875 66.0156 44.1875 Q71.1875 44.1875 74.3281 41.375 Q77.4844 38.5781 77.4844 33.4062 Q77.4844 29.2969 75.6562 23.4844 Q73.8281 17.6719 71.0938 10.5 Q69.6719 7.03125 69.6719 4.5 Q69.6719 1.51562 72.0156 1.51562 Q75.9219 1.51562 78.5156 5.70312 Q81.1094 9.90625 82.1719 14.7031 Q82.4688 15.2812 83.0156 15.2812 L84.1875 15.2812 Q84.5781 15.2812 84.8438 15.0156 Q85.1094 14.75 85.1094 14.4062 Q85.1094 14.3125 85.0156 14.1094 Q83.6406 8.45312 80.25 3.65625 Q76.8594 -1.125 71.7812 -1.125 Q68.2656 -1.125 65.7656 1.29688 Q63.2812 3.71875 63.2812 7.17188 Q63.2812 8.9375 64.1094 11.0781 Q66.9375 18.6094 68.8125 24.5156 Q70.7031 30.4219 70.7031 34.9062 Q70.7031 37.7031 69.5781 39.6562 Q68.4531 41.6094 65.8281 41.6094 Q60.3594 41.6094 56.3438 38.25 Q52.3438 34.9062 49.4219 29.3906 Q49.2188 28.4219 49.125 27.875 L42.6719 2.20312 Q42.3281 0.828125 41.125 -0.140625 Q39.9375 -1.125 38.4844 -1.125 Q37.3125 -1.125 36.4062 -0.34375 Q35.5 0.4375 35.5 1.70312 Q35.5 2.29688 35.5938 2.59375 L42 28.0781 Q43.0156 32.1719 43.0156 34.9062 Q43.0156 37.7031 41.8594 39.6562 Q40.7188 41.6094 37.9844 41.6094 Q34.3281 41.6094 31.25 39.9844 Q28.1719 38.375 25.875 35.7188 Q23.5781 33.0625 21.6875 29.3906 L14.8906 2.20312 Q14.5469 0.828125 13.3438 -0.140625 Q12.1562 -1.125 10.6875 -1.125 Q9.46875 -1.125 8.59375 -0.34375 Q7.71875 0.4375 7.71875 1.70312\" id=\"Cmmi10-6d\"/>\n",
       "     <path d=\" M11.7188 11.9219 Q11.7188 7.5625 13.9375 4.53125 Q16.1562 1.51562 20.3125 1.51562 Q26.2656 1.51562 31.75 4.25 Q37.25 6.98438 40.7188 11.8125 Q41.0156 12.1094 41.5 12.1094 Q42 12.1094 42.5 11.5469 Q43.0156 10.9844 43.0156 10.5 Q43.0156 10.1094 42.8281 9.90625 Q39.1562 4.78125 32.9531 1.82812 Q26.7656 -1.125 20.125 -1.125 Q15.3281 -1.125 11.6719 1.14062 Q8.01562 3.42188 6 7.21875 Q4 11.0312 4 15.8281 Q4 22.5625 7.76562 29.2031 Q11.5312 35.8438 17.7812 40.0156 Q24.0312 44.1875 30.9062 44.1875 Q35.4062 44.1875 38.9844 42.0156 Q42.5781 39.8438 42.5781 35.5938 Q42.5781 32.8594 40.9844 30.9219 Q39.4062 29 36.7188 29 Q35.1094 29 34 30 Q32.9062 31 32.9062 32.625 Q32.9062 34.9688 34.6094 36.625 Q36.3281 38.2812 38.625 38.2812 L38.8125 38.2812 Q37.6406 39.9844 35.4219 40.7969 Q33.2031 41.6094 30.8125 41.6094 Q24.9531 41.6094 20.5469 36.5938 Q16.1562 31.5938 13.9375 24.625 Q11.7188 17.6719 11.7188 11.9219\" id=\"Cmmi10-63\"/>\n",
       "     <path d=\" M7.51562 13.2812 Q6.6875 13.2812 6.14062 13.9062 Q5.60938 14.5469 5.60938 15.2812 Q5.60938 16.1094 6.14062 16.6875 Q6.6875 17.2812 7.51562 17.2812 L70.3125 17.2812 Q71.0469 17.2812 71.5781 16.6875 Q72.125 16.1094 72.125 15.2812 Q72.125 14.5469 71.5781 13.9062 Q71.0469 13.2812 70.3125 13.2812 z  M7.51562 32.7188 Q6.6875 32.7188 6.14062 33.2969 Q5.60938 33.8906 5.60938 34.7188 Q5.60938 35.4531 6.14062 36.0781 Q6.6875 36.7188 7.51562 36.7188 L70.3125 36.7188 Q71.0469 36.7188 71.5781 36.0781 Q72.125 35.4531 72.125 34.7188 Q72.125 33.8906 71.5781 33.2969 Q71.0469 32.7188 70.3125 32.7188 z \" id=\"Cmr10-3d\"/>\n",
       "    </defs>\n",
       "    <g transform=\"translate(202.05 85.5)scale(0.3 -0.3)\">\n",
       "     <use transform=\"translate(0.0 0.703125)\" xlink:href=\"#Cmmi10-79\"/>\n",
       "     <use transform=\"translate(66.58203125 0.703125)\" xlink:href=\"#Cmr10-3d\"/>\n",
       "     <use transform=\"translate(150.640625 0.703125)\" xlink:href=\"#Cmmi10-6d\"/>\n",
       "     <use transform=\"translate(238.43359375 0.703125)\" xlink:href=\"#Cmmi10-78\"/>\n",
       "     <use transform=\"translate(313.072265625 0.703125)\" xlink:href=\"#Cmr10-2b\"/>\n",
       "     <use transform=\"translate(397.130859375 0.703125)\" xlink:href=\"#Cmmi10-63\"/>\n",
       "    </g>\n",
       "   </g>\n",
       "   <g id=\"text_16\">\n",
       "    <!-- $c$ -->\n",
       "    <g transform=\"translate(48.97 79.270625)scale(0.2 -0.2)\">\n",
       "     <use transform=\"translate(0.0 0.8125)\" xlink:href=\"#Cmmi10-63\"/>\n",
       "    </g>\n",
       "   </g>\n",
       "   <g id=\"text_17\">\n",
       "    <!-- $m$ -->\n",
       "    <g transform=\"translate(147.8 238.300625)scale(0.2 -0.2)\">\n",
       "     <use transform=\"translate(0.0 0.8125)\" xlink:href=\"#Cmmi10-6d\"/>\n",
       "    </g>\n",
       "   </g>\n",
       "  </g>\n",
       " </g>\n",
       " <defs>\n",
       "  <clipPath id=\"pd0c2820aef\">\n",
       "   <rect height=\"279.0\" width=\"279.0\" x=\"45.0\" y=\"36.0\"/>\n",
       "  </clipPath>\n",
       " </defs>\n",
       "</svg>"
      ],
      "text/plain": [
       "<IPython.core.display.SVG object>"
      ]
     },
     "metadata": {},
     "output_type": "display_data"
    }
   ],
   "source": [
    "pods.notebook.display_plots('straight_line{samp}.svg', directory='./diagrams', samp=(1, 7))"
   ]
  },
  {
   "cell_type": "markdown",
   "metadata": {
    "slideshow": {
     "slide_type": "slide"
    }
   },
   "source": [
    "# $y = mx + c$\n",
    "\n",
    "point 1: $x = 1$, $y=3$ $$3 = m + c$$ \n",
    "point 2: $x = 3$, $y=1$ $$1 = 3m + c$$ \n",
    "point 3: $x = 2$, $y=2.5$ $$2.5 = 2m + c$$"
   ]
  },
  {
   "cell_type": "markdown",
   "metadata": {
    "slideshow": {
     "slide_type": "slide"
    }
   },
   "source": [
    "<img src=\"diagrams/Pierre-Simon_Laplace.png\" align=center width=50%>"
   ]
  },
  {
   "cell_type": "markdown",
   "metadata": {
    "slideshow": {
     "slide_type": "slide"
    }
   },
   "source": [
    "<img src=\"diagrams/LaplacesDeterminismFrench.png\" align=center width=50%>"
   ]
  },
  {
   "cell_type": "markdown",
   "metadata": {
    "slideshow": {
     "slide_type": "slide"
    }
   },
   "source": [
    "<img src=\"diagrams/LaplacesDeterminismEnglish.png\" align=center width=50%>"
   ]
  },
  {
   "cell_type": "markdown",
   "metadata": {
    "slideshow": {
     "slide_type": "slide"
    }
   },
   "source": [
    "<img src=\"diagrams/philosophicaless00lapliala.png\" align=center width=50%>"
   ]
  },
  {
   "cell_type": "markdown",
   "metadata": {
    "slideshow": {
     "slide_type": "slide"
    }
   },
   "source": [
    "# $y = mx + c + \\epsilon$\n",
    "\n",
    "point 1: $x = 1$, $y=3$ \n",
    "$$3 = m + c + \\epsilon_1$$ \n",
    "\n",
    "point 2: $x = 3$, $y=1$ \n",
    "$$1 = 3m + c + \\epsilon_2$$ \n",
    "\n",
    "point 3: $x = 2$, $y=2.5$ \n",
    "$$2.5 = 2m + c + \\epsilon_3$$"
   ]
  },
  {
   "cell_type": "markdown",
   "metadata": {
    "slideshow": {
     "slide_type": "slide"
    }
   },
   "source": [
    "### The Gaussian Density\n",
    "- Perhaps the most common probability density.\n",
    "\\begin{align*}\n",
    "p(y| \\mu, \\sigma^2) & = \\frac{1}{\\sqrt{2\\pi\\sigma^2}}\\exp\\left(-\\frac{(y - \\mu)^2}{2\\sigma^2}\\right)\\\\\n",
    "& \\buildrel\\triangle\\over = \\mathcal{N}(y|\\mu, \\sigma^2)\n",
    "\\end{align*}\n",
    "- The Gaussian density.\n"
   ]
  },
  {
   "cell_type": "code",
   "execution_count": 25,
   "metadata": {
    "collapsed": false,
    "slideshow": {
     "slide_type": "skip"
    }
   },
   "outputs": [
    {
     "name": "stderr",
     "output_type": "stream",
     "text": [
      "/Users/neil/anaconda/lib/python3.4/site-packages/matplotlib/collections.py:590: FutureWarning: elementwise comparison failed; returning scalar instead, but in the future will perform elementwise comparison\n",
      "  if self._edgecolors == str('face'):\n"
     ]
    },
    {
     "data": {
      "image/png": "[encoded data removed]",
      "text/plain": [
       "<matplotlib.figure.Figure at 0x116fb4d68>"
      ]
     },
     "metadata": {},
     "output_type": "display_data"
    }
   ],
   "source": [
    "import numpy as np\n",
    "h = np.linspace(0, 2.5, 1000)\n",
    "sigma2 = 0.0225\n",
    "mu = 1.7\n",
    "p = 1./np.sqrt(2*np.pi*sigma2)*np.exp(-(h-mu)**2/(2*sigma2**2))\n",
    "f2, ax2 = plt.subplots(figsize=(7, 3.5))\n",
    "ax2.plot(h, p, 'b-', linewidth=3)\n",
    "ylim = (0, 3)\n",
    "ax2.vlines(mu, ylim[0], ylim[1], colors='r', linewidth=3)\n",
    "ax2.set_ylim(ylim)\n",
    "ax2.set_xlim(1.4, 2.0)\n",
    "ax2.set_xlabel('$h/m$', fontsize=20)\n",
    "ax2.set_ylabel('$p(h|\\mu, \\sigma^2)$', fontsize = 20)\n",
    "f2.savefig('./diagrams/gaussian_of_height.svg')"
   ]
  },
  {
   "cell_type": "markdown",
   "metadata": {
    "slideshow": {
     "slide_type": "slide"
    }
   },
   "source": [
    "### Gaussian Density\n",
    "![](./diagrams/gaussian_of_height.svg)\n",
    "The Gaussian PDF with $\\mu=1.7$ and variance $\\sigma^2=\n",
    "  0.0225$. Mean shown as red line. It could represent the heights of a population of\n",
    "  students."
   ]
  },
  {
   "cell_type": "markdown",
   "metadata": {
    "slideshow": {
     "slide_type": "slide"
    }
   },
   "source": [
    "### Gaussian Density\n",
    "$$\n",
    "\\mathcal{N}(y|\\mu, \\sigma^2) =  \\frac{1}{\\sqrt{2\\pi\\sigma^2}} \\exp\\left(-\\frac{(y-\\mu)^2}{2\\sigma^2}\\right)\n",
    "$$\n",
    "$\\sigma^2$ is the variance of the density and $\\mu$ is the mean.\n"
   ]
  },
  {
   "cell_type": "markdown",
   "metadata": {
    "slideshow": {
     "slide_type": "slide"
    }
   },
   "source": [
    "\n",
    "### Two Important Gaussian Properties\n",
    "\n",
    "**Sum of Gaussian**\n",
    "\n",
    "-   Sum of Gaussian variables is also Gaussian.\n",
    "    $$y_i \\sim \\mathcal{N}(\\mu, \\sigma^2)$$ \n",
    "    And the sum is distributed as\n",
    "    $$\\sum_{i=1}^{n} y_i \\sim \\mathcal{N}\\left(\\sum_{i=1}^n \\mu_i,\\sum_{i=1}^n \\sigma_i^2\\right)$$\n",
    "    (*Aside*: As sum increases, sum of non-Gaussian, finite variance variables is\n",
    "    also Gaussian [central limit theorem](https://en.wikipedia.org/wiki/Central_limit_theorem).)"
   ]
  },
  {
   "cell_type": "markdown",
   "metadata": {
    "slideshow": {
     "slide_type": "slide"
    }
   },
   "source": [
    "### Two Important Gaussian Properties\n",
    "\n",
    "**Scaling a Gaussian**\n",
    "\n",
    "-   Scaling a Gaussian leads to a Gaussian.\n",
    "    $$y \\sim \\mathcal{N}(\\mu, \\sigma^2)$$\n",
    "    And the scaled density is distributed as\n",
    "    $$w y \\sim \\mathcal{N}(w\\mu,w^2 \\sigma^2)$$"
   ]
  },
  {
   "cell_type": "markdown",
   "metadata": {
    "slideshow": {
     "slide_type": "slide"
    }
   },
   "source": [
    "### Laplace's Idea\n",
    "\n",
    "### A Probabilistic Process\n",
    "\n",
    "-   Set the mean of Gaussian to be a function.\n",
    "    $$p\\left(y_i|x_i\\right)=\\frac{1}{\\sqrt{2\\pi\\sigma^2}}\\exp \\left(-\\frac{\\left(y_i-f\\left(x_i\\right)\\right)^{2}}{2\\sigma^2}\\right).$$\n",
    "\n",
    "-   This gives us a ‘noisy function’.\n",
    "\n",
    "-   This is known as a stochastic process."
   ]
  },
  {
   "cell_type": "markdown",
   "metadata": {
    "slideshow": {
     "slide_type": "slide"
    }
   },
   "source": [
    "### Height as a Function of Weight\n",
    "\n",
    "-   In the standard Gaussian, parametized by mean and variance.\n",
    "\n",
    "-   Make the mean a linear function of an *input*.\n",
    "\n",
    "-   This leads to a regression model. \n",
    "    \\begin{align*}\n",
    "       y_i=&f\\left(x_i\\right)+\\epsilon_i,\\\\\n",
    "         \\epsilon_i \\sim &\\mathcal{N}(0, \\sigma^2).\n",
    "     \\end{align*}\n",
    "        \n",
    "-   Assume $y_i$ is height and $x_i$ is weight."
   ]
  },
  {
   "cell_type": "markdown",
   "metadata": {
    "slideshow": {
     "slide_type": "slide"
    }
   },
   "source": [
    "### Data Point Likelihood\n",
    "\n",
    "-   Likelihood of an individual data point\n",
    "    $$p\\left(y_i|x_i,\\sigma^2,f()\\right)=\\frac{1}{\\sqrt{2\\pi \\sigma^2}}\\exp \\left(-\\frac{\\left(y_i-f(x_i)\\right)^{2}}{2\\sigma^2}\\right).$$\n",
    "\n",
    "-   If $f(x_i) = mx_i + c$ then parameters are gradient, $m$, offset, $c$ of the function and noise\n",
    "    variance $\\sigma^2$."
   ]
  },
  {
   "cell_type": "markdown",
   "metadata": {
    "slideshow": {
     "slide_type": "slide"
    }
   },
   "source": [
    "### Data Set Likelihood\n",
    "\n",
    "-   If the noise, $\\epsilon_i$ is sampled independently for each\n",
    "    data point.\n",
    "\n",
    "-   Each data point is independent (given $m$ and $c$).\n",
    "\n",
    "-   For independent variables:\n",
    "    $$p(\\mathbf{y}) = \\prod_{i=1}^n p(y_i)$$\n",
    "    $$p(\\mathbf{y}|\\mathbf{x}, m, c) = \\prod_{i=1}^n p(y_i|x_i, m, c)$$\n",
    "    "
   ]
  },
  {
   "cell_type": "markdown",
   "metadata": {
    "slideshow": {
     "slide_type": "slide"
    }
   },
   "source": [
    "### Two Simultaneous Equations\n",
    "\n",
    "A system of two simultaneous equations with two\n",
    "unknowns.\n",
    "\n",
    "How do we deal with three simultaneous\n",
    "equations with only two unknowns?\n",
    "\n",
    "$$\\begin{aligned}\n",
    "        y_1 = & mx_1 + c\\\\\n",
    "        y_2 = & mx_2 + c\n",
    "      \\end{aligned}$$ \n",
    "      \n",
    "$$\\begin{aligned}\n",
    "        y_1-y_2 = & m(x_1 - x_2)\n",
    "      \\end{aligned}$$  \n",
    "      \n",
    "$$\\begin{aligned}\n",
    "        \\frac{y_1-y_2}{x_1 - x_2} = & m\n",
    "      \\end{aligned}$$ \n",
    "      \n",
    "$$\\begin{aligned}\n",
    "        m & =\\frac{y_2-y_1}{x_2 - x_1}\\\\\n",
    "        c & = y_1 - m x_1\n",
    "      \\end{aligned}$$ \n",
    "      \n",
    "$$\\begin{aligned}\n",
    "        y_1 = & mx_1 + c\\\\\n",
    "        y_2 = & mx_2 + c\\\\\n",
    "        y_3 = & mx_3 + c\n",
    "      \\end{aligned}$$"
   ]
  },
  {
   "cell_type": "code",
   "execution_count": 26,
   "metadata": {
    "collapsed": false,
    "slideshow": {
     "slide_type": "skip"
    }
   },
   "outputs": [
    {
     "data": {
      "image/png": "[encoded data removed]",
      "text/plain": [
       "<matplotlib.figure.Figure at 0x1179c3358>"
      ]
     },
     "metadata": {},
     "output_type": "display_data"
    }
   ],
   "source": [
    "x = 1.\n",
    "y = 3.\n",
    "fig, ax = plt.subplots(figsize=(7, 7))\n",
    "ax.plot(x, y, 'o', markersize=10, linewidth=3, color=[1., 0., 0.])\n",
    "ax.set_xticks([0, 1, 2, 3])\n",
    "ax.set_yticks([0, 1, 2, 3, 4, 5])\n",
    "ylim = [0, 5]\n",
    "xlim = [0, 3]\n",
    "ax.set_ylim(ylim)\n",
    "ax.set_xlim(xlim)\n",
    "ax.set_xlabel('$x$', fontsize=20)\n",
    "ax.set_ylabel('$y$', fontsize=20)\n",
    "fig.savefig('./diagrams/one_point0.svg')\n",
    "\n",
    "xvals = np.linspace(0, 3, 2)[:, None]\n",
    "count=0\n",
    "for i in range(100):\n",
    "    c = np.random.normal(size=(1,1))*2\n",
    "    m = (y - c)/x\n",
    "    yvals = m*xvals+c\n",
    "    ax.plot(xvals, yvals, '-', linewidth=2, color=[0., 0., 1.])\n",
    "    if i < 9 or i == 100:\n",
    "        count += 1\n",
    "        fig.savefig('./diagrams/one_point' + str(count) + '.svg')"
   ]
  },
  {
   "cell_type": "markdown",
   "metadata": {
    "slideshow": {
     "slide_type": "slide"
    }
   },
   "source": [
    "### Underdetermined System\n",
    "- What about two unknowns and *one* observation?\n",
    "    $$y_1 =  mx_1 + c$$"
   ]
  },
  {
   "cell_type": "markdown",
   "metadata": {
    "slideshow": {
     "slide_type": "slide"
    }
   },
   "source": [
    "## Underdetermined System"
   ]
  },
  {
   "cell_type": "code",
   "execution_count": 27,
   "metadata": {
    "collapsed": false
   },
   "outputs": [
    {
     "data": {
      "image/svg+xml": [
       "<svg height=\"504pt\" version=\"1.1\" viewBox=\"0 0 504 504\" width=\"504pt\" xmlns=\"http://www.w3.org/2000/svg\" xmlns:xlink=\"http://www.w3.org/1999/xlink\">\n",
       " <defs>\n",
       "  <style type=\"text/css\">\n",
       "*{stroke-linecap:butt;stroke-linejoin:round;}\n",
       "  </style>\n",
       " </defs>\n",
       " <g id=\"figure_1\">\n",
       "  <g id=\"patch_1\">\n",
       "   <path d=\" M0 504 L504 504 L504 0 L0 0 z \" style=\"fill:#ffffff;\"/>\n",
       "  </g>\n",
       "  <g id=\"axes_1\">\n",
       "   <g id=\"patch_2\">\n",
       "    <path d=\" M63 441 L453.6 441 L453.6 50.4 L63 50.4 z \" style=\"fill:#ffffff;\"/>\n",
       "   </g>\n",
       "   <g id=\"line2d_1\">\n",
       "    <defs>\n",
       "     <path d=\" M0 5 C1.32602 5 2.5979 4.47317 3.53553 3.53553 C4.47317 2.5979 5 1.32602 5 0 C5 -1.32602 4.47317 -2.5979 3.53553 -3.53553 C2.5979 -4.47317 1.32602 -5 0 -5 C-1.32602 -5 -2.5979 -4.47317 -3.53553 -3.53553 C-4.47317 -2.5979 -5 -1.32602 -5 0 C-5 1.32602 -4.47317 2.5979 -3.53553 3.53553 C-2.5979 4.47317 -1.32602 5 0 5 z \" id=\"m8056b39326\" style=\"stroke:#000000;stroke-width:0.5;\"/>\n",
       "    </defs>\n",
       "    <g clip-path=\"url(#p41d7ee9abc)\">\n",
       "     <use style=\"fill:#ff0000;stroke:#000000;stroke-width:0.5;\" x=\"193.2\" xlink:href=\"#m8056b39326\" y=\"206.64\"/>\n",
       "    </g>\n",
       "   </g>\n",
       "   <g id=\"line2d_2\">\n",
       "    <path clip-path=\"url(#p41d7ee9abc)\" d=\" M63 686.413 M112.232 505 L249.549 -1\" style=\"fill:none;stroke:#0000ff;stroke-linecap:square;stroke-width:2;\"/>\n",
       "   </g>\n",
       "   <g id=\"line2d_3\">\n",
       "    <path clip-path=\"url(#p41d7ee9abc)\" d=\" M63 663.592 M108.188 505 L252.363 -1\" style=\"fill:none;stroke:#0000ff;stroke-linecap:square;stroke-width:2;\"/>\n",
       "   </g>\n",
       "   <g id=\"line2d_4\">\n",
       "    <path clip-path=\"url(#p41d7ee9abc)\" d=\" M63 309.882 L453.6 0.156324\" style=\"fill:none;stroke:#0000ff;stroke-linecap:square;stroke-width:2;\"/>\n",
       "   </g>\n",
       "   <g id=\"line2d_5\">\n",
       "    <path clip-path=\"url(#p41d7ee9abc)\" d=\" M63 664.639 M108.382 505 L252.228 -1\" style=\"fill:none;stroke:#0000ff;stroke-linecap:square;stroke-width:2;\"/>\n",
       "   </g>\n",
       "   <g id=\"line2d_6\">\n",
       "    <path clip-path=\"url(#p41d7ee9abc)\" d=\" M63 480.715 L291.84 -1\" style=\"fill:none;stroke:#0000ff;stroke-linecap:square;stroke-width:2;\"/>\n",
       "   </g>\n",
       "   <g id=\"patch_3\">\n",
       "    <path d=\" M63 441 L453.6 441\" style=\"fill:none;stroke:#000000;stroke-linecap:square;stroke-linejoin:miter;\"/>\n",
       "   </g>\n",
       "   <g id=\"patch_4\">\n",
       "    <path d=\" M453.6 441 L453.6 50.4\" style=\"fill:none;stroke:#000000;stroke-linecap:square;stroke-linejoin:miter;\"/>\n",
       "   </g>\n",
       "   <g id=\"patch_5\">\n",
       "    <path d=\" M63 50.4 L453.6 50.4\" style=\"fill:none;stroke:#000000;stroke-linecap:square;stroke-linejoin:miter;\"/>\n",
       "   </g>\n",
       "   <g id=\"patch_6\">\n",
       "    <path d=\" M63 441 L63 50.4\" style=\"fill:none;stroke:#000000;stroke-linecap:square;stroke-linejoin:miter;\"/>\n",
       "   </g>\n",
       "   <g id=\"matplotlib.axis_1\">\n",
       "    <g id=\"xtick_1\">\n",
       "     <g id=\"line2d_7\">\n",
       "      <defs>\n",
       "       <path d=\" M0 0 L0 -4\" id=\"mc7db9fdffb\" style=\"stroke:#000000;stroke-width:0.5;\"/>\n",
       "      </defs>\n",
       "      <g>\n",
       "       <use style=\"stroke:#000000;stroke-width:0.5;\" x=\"63.0\" xlink:href=\"#mc7db9fdffb\" y=\"441.0\"/>\n",
       "      </g>\n",
       "     </g>\n",
       "     <g id=\"line2d_8\">\n",
       "      <defs>\n",
       "       <path d=\" M0 0 L0 4\" id=\"m5a7d422ac3\" style=\"stroke:#000000;stroke-width:0.5;\"/>\n",
       "      </defs>\n",
       "      <g>\n",
       "       <use style=\"stroke:#000000;stroke-width:0.5;\" x=\"63.0\" xlink:href=\"#m5a7d422ac3\" y=\"50.4\"/>\n",
       "      </g>\n",
       "     </g>\n",
       "     <g id=\"text_1\">\n",
       "      <!-- 0 -->\n",
       "      <defs>\n",
       "       <path d=\" M31.7812 66.4062 Q24.1719 66.4062 20.3281 58.9062 Q16.5 51.4219 16.5 36.375 Q16.5 21.3906 20.3281 13.8906 Q24.1719 6.39062 31.7812 6.39062 Q39.4531 6.39062 43.2812 13.8906 Q47.125 21.3906 47.125 36.375 Q47.125 51.4219 43.2812 58.9062 Q39.4531 66.4062 31.7812 66.4062 M31.7812 74.2188 Q44.0469 74.2188 50.5156 64.5156 Q56.9844 54.8281 56.9844 36.375 Q56.9844 17.9688 50.5156 8.26562 Q44.0469 -1.42188 31.7812 -1.42188 Q19.5312 -1.42188 13.0625 8.26562 Q6.59375 17.9688 6.59375 36.375 Q6.59375 54.8281 13.0625 64.5156 Q19.5312 74.2188 31.7812 74.2188\" id=\"BitstreamVeraSans-Roman-30\"/>\n",
       "      </defs>\n",
       "      <g transform=\"translate(60.48046875 452.5984375)scale(0.1 -0.1)\">\n",
       "       <use xlink:href=\"#BitstreamVeraSans-Roman-30\"/>\n",
       "      </g>\n",
       "     </g>\n",
       "    </g>\n",
       "    <g id=\"xtick_2\">\n",
       "     <g id=\"line2d_9\">\n",
       "      <g>\n",
       "       <use style=\"stroke:#000000;stroke-width:0.5;\" x=\"193.2\" xlink:href=\"#mc7db9fdffb\" y=\"441.0\"/>\n",
       "      </g>\n",
       "     </g>\n",
       "     <g id=\"line2d_10\">\n",
       "      <g>\n",
       "       <use style=\"stroke:#000000;stroke-width:0.5;\" x=\"193.2\" xlink:href=\"#m5a7d422ac3\" y=\"50.4\"/>\n",
       "      </g>\n",
       "     </g>\n",
       "     <g id=\"text_2\">\n",
       "      <!-- 1 -->\n",
       "      <defs>\n",
       "       <path d=\" M12.4062 8.29688 L28.5156 8.29688 L28.5156 63.9219 L10.9844 60.4062 L10.9844 69.3906 L28.4219 72.9062 L38.2812 72.9062 L38.2812 8.29688 L54.3906 8.29688 L54.3906 0 L12.4062 0 z \" id=\"BitstreamVeraSans-Roman-31\"/>\n",
       "      </defs>\n",
       "      <g transform=\"translate(191.0296875 452.5984375)scale(0.1 -0.1)\">\n",
       "       <use xlink:href=\"#BitstreamVeraSans-Roman-31\"/>\n",
       "      </g>\n",
       "     </g>\n",
       "    </g>\n",
       "    <g id=\"xtick_3\">\n",
       "     <g id=\"line2d_11\">\n",
       "      <g>\n",
       "       <use style=\"stroke:#000000;stroke-width:0.5;\" x=\"323.4\" xlink:href=\"#mc7db9fdffb\" y=\"441.0\"/>\n",
       "      </g>\n",
       "     </g>\n",
       "     <g id=\"line2d_12\">\n",
       "      <g>\n",
       "       <use style=\"stroke:#000000;stroke-width:0.5;\" x=\"323.4\" xlink:href=\"#m5a7d422ac3\" y=\"50.4\"/>\n",
       "      </g>\n",
       "     </g>\n",
       "     <g id=\"text_3\">\n",
       "      <!-- 2 -->\n",
       "      <defs>\n",
       "       <path d=\" M19.1875 8.29688 L53.6094 8.29688 L53.6094 0 L7.32812 0 L7.32812 8.29688 Q12.9375 14.1094 22.625 23.8906 Q32.3281 33.6875 34.8125 36.5312 Q39.5469 41.8438 41.4219 45.5312 Q43.3125 49.2188 43.3125 52.7812 Q43.3125 58.5938 39.2344 62.25 Q35.1562 65.9219 28.6094 65.9219 Q23.9688 65.9219 18.8125 64.3125 Q13.6719 62.7031 7.8125 59.4219 L7.8125 69.3906 Q13.7656 71.7812 18.9375 73 Q24.125 74.2188 28.4219 74.2188 Q39.75 74.2188 46.4844 68.5469 Q53.2188 62.8906 53.2188 53.4219 Q53.2188 48.9219 51.5312 44.8906 Q49.8594 40.875 45.4062 35.4062 Q44.1875 33.9844 37.6406 27.2188 Q31.1094 20.4531 19.1875 8.29688\" id=\"BitstreamVeraSans-Roman-32\"/>\n",
       "      </defs>\n",
       "      <g transform=\"translate(321.0859375 452.5984375)scale(0.1 -0.1)\">\n",
       "       <use xlink:href=\"#BitstreamVeraSans-Roman-32\"/>\n",
       "      </g>\n",
       "     </g>\n",
       "    </g>\n",
       "    <g id=\"xtick_4\">\n",
       "     <g id=\"line2d_13\">\n",
       "      <g>\n",
       "       <use style=\"stroke:#000000;stroke-width:0.5;\" x=\"453.6\" xlink:href=\"#mc7db9fdffb\" y=\"441.0\"/>\n",
       "      </g>\n",
       "     </g>\n",
       "     <g id=\"line2d_14\">\n",
       "      <g>\n",
       "       <use style=\"stroke:#000000;stroke-width:0.5;\" x=\"453.6\" xlink:href=\"#m5a7d422ac3\" y=\"50.4\"/>\n",
       "      </g>\n",
       "     </g>\n",
       "     <g id=\"text_4\">\n",
       "      <!-- 3 -->\n",
       "      <defs>\n",
       "       <path d=\" M40.5781 39.3125 Q47.6562 37.7969 51.625 33 Q55.6094 28.2188 55.6094 21.1875 Q55.6094 10.4062 48.1875 4.48438 Q40.7656 -1.42188 27.0938 -1.42188 Q22.5156 -1.42188 17.6562 -0.515625 Q12.7969 0.390625 7.625 2.20312 L7.625 11.7188 Q11.7188 9.32812 16.5938 8.10938 Q21.4844 6.89062 26.8125 6.89062 Q36.0781 6.89062 40.9375 10.5469 Q45.7969 14.2031 45.7969 21.1875 Q45.7969 27.6406 41.2812 31.2656 Q36.7656 34.9062 28.7188 34.9062 L20.2188 34.9062 L20.2188 43.0156 L29.1094 43.0156 Q36.375 43.0156 40.2344 45.9219 Q44.0938 48.8281 44.0938 54.2969 Q44.0938 59.9062 40.1094 62.9062 Q36.1406 65.9219 28.7188 65.9219 Q24.6562 65.9219 20.0156 65.0312 Q15.375 64.1562 9.8125 62.3125 L9.8125 71.0938 Q15.4375 72.6562 20.3438 73.4375 Q25.25 74.2188 29.5938 74.2188 Q40.8281 74.2188 47.3594 69.1094 Q53.9062 64.0156 53.9062 55.3281 Q53.9062 49.2656 50.4375 45.0938 Q46.9688 40.9219 40.5781 39.3125\" id=\"BitstreamVeraSans-Roman-33\"/>\n",
       "      </defs>\n",
       "      <g transform=\"translate(451.20078125 452.5984375)scale(0.1 -0.1)\">\n",
       "       <use xlink:href=\"#BitstreamVeraSans-Roman-33\"/>\n",
       "      </g>\n",
       "     </g>\n",
       "    </g>\n",
       "    <g id=\"text_5\">\n",
       "     <!-- $x$ -->\n",
       "     <defs>\n",
       "      <path d=\" M7.8125 2.875 Q9.57812 1.51562 12.7969 1.51562 Q15.9219 1.51562 18.3125 4.51562 Q20.7031 7.51562 21.5781 11.0781 L26.125 28.8125 Q27.2031 33.6406 27.2031 35.4062 Q27.2031 37.8906 25.8125 39.75 Q24.4219 41.6094 21.9219 41.6094 Q18.75 41.6094 15.9688 39.625 Q13.1875 37.6406 11.2812 34.5938 Q9.375 31.5469 8.59375 28.4219 Q8.40625 27.7812 7.8125 27.7812 L6.59375 27.7812 Q5.8125 27.7812 5.8125 28.7188 L5.8125 29 Q6.78125 32.7188 9.125 36.25 Q11.4688 39.7969 14.8594 41.9844 Q18.2656 44.1875 22.125 44.1875 Q25.7812 44.1875 28.7344 42.2344 Q31.6875 40.2812 32.9062 36.9219 Q34.625 39.9844 37.2812 42.0781 Q39.9375 44.1875 43.1094 44.1875 Q45.2656 44.1875 47.5 43.4219 Q49.75 42.6719 51.1719 41.1094 Q52.5938 39.5469 52.5938 37.2031 Q52.5938 34.6719 50.9531 32.8281 Q49.3125 31 46.7812 31 Q45.1719 31 44.0938 32.0312 Q43.0156 33.0625 43.0156 34.625 Q43.0156 36.7188 44.4531 38.2969 Q45.9062 39.8906 47.9062 40.1875 Q46.0938 41.6094 42.9219 41.6094 Q39.7031 41.6094 37.3281 38.625 Q34.9688 35.6406 33.9844 31.9844 L29.5938 14.3125 Q28.5156 10.2969 28.5156 7.71875 Q28.5156 5.17188 29.9531 3.34375 Q31.3906 1.51562 33.7969 1.51562 Q38.4844 1.51562 42.1562 5.64062 Q45.8438 9.76562 47.0156 14.7031 Q47.2188 15.2812 47.7969 15.2812 L49.0312 15.2812 Q49.4219 15.2812 49.6562 15.0156 Q49.9062 14.75 49.9062 14.4062 Q49.9062 14.3125 49.8125 14.1094 Q48.3906 8.15625 43.8438 3.51562 Q39.3125 -1.125 33.5938 -1.125 Q29.9375 -1.125 26.9844 0.84375 Q24.0312 2.82812 22.7969 6.20312 Q21.2344 3.26562 18.4688 1.0625 Q15.7188 -1.125 12.5938 -1.125 Q10.4531 -1.125 8.17188 -0.359375 Q5.90625 0.390625 4.48438 1.95312 Q3.07812 3.51562 3.07812 5.90625 Q3.07812 8.25 4.70312 10.1719 Q6.34375 12.1094 8.79688 12.1094 Q10.4531 12.1094 11.5781 11.1094 Q12.7031 10.1094 12.7031 8.5 Q12.7031 6.39062 11.2969 4.82812 Q9.90625 3.26562 7.8125 2.875\" id=\"Cmmi10-78\"/>\n",
       "     </defs>\n",
       "     <g transform=\"translate(252.5 474.875)scale(0.2 -0.2)\">\n",
       "      <use transform=\"translate(0.0 0.8125)\" xlink:href=\"#Cmmi10-78\"/>\n",
       "     </g>\n",
       "    </g>\n",
       "   </g>\n",
       "   <g id=\"matplotlib.axis_2\">\n",
       "    <g id=\"ytick_1\">\n",
       "     <g id=\"line2d_15\">\n",
       "      <defs>\n",
       "       <path d=\" M0 0 L4 0\" id=\"md7965d1ba0\" style=\"stroke:#000000;stroke-width:0.5;\"/>\n",
       "      </defs>\n",
       "      <g>\n",
       "       <use style=\"stroke:#000000;stroke-width:0.5;\" x=\"63.0\" xlink:href=\"#md7965d1ba0\" y=\"441.0\"/>\n",
       "      </g>\n",
       "     </g>\n",
       "     <g id=\"line2d_16\">\n",
       "      <defs>\n",
       "       <path d=\" M0 0 L-4 0\" id=\"md9a1c1a7cd\" style=\"stroke:#000000;stroke-width:0.5;\"/>\n",
       "      </defs>\n",
       "      <g>\n",
       "       <use style=\"stroke:#000000;stroke-width:0.5;\" x=\"453.6\" xlink:href=\"#md9a1c1a7cd\" y=\"441.0\"/>\n",
       "      </g>\n",
       "     </g>\n",
       "     <g id=\"text_6\">\n",
       "      <!-- 0 -->\n",
       "      <g transform=\"translate(53.9609375 443.759375)scale(0.1 -0.1)\">\n",
       "       <use xlink:href=\"#BitstreamVeraSans-Roman-30\"/>\n",
       "      </g>\n",
       "     </g>\n",
       "    </g>\n",
       "    <g id=\"ytick_2\">\n",
       "     <g id=\"line2d_17\">\n",
       "      <g>\n",
       "       <use style=\"stroke:#000000;stroke-width:0.5;\" x=\"63.0\" xlink:href=\"#md7965d1ba0\" y=\"362.88\"/>\n",
       "      </g>\n",
       "     </g>\n",
       "     <g id=\"line2d_18\">\n",
       "      <g>\n",
       "       <use style=\"stroke:#000000;stroke-width:0.5;\" x=\"453.6\" xlink:href=\"#md9a1c1a7cd\" y=\"362.88\"/>\n",
       "      </g>\n",
       "     </g>\n",
       "     <g id=\"text_7\">\n",
       "      <!-- 1 -->\n",
       "      <g transform=\"translate(54.659375 365.639375)scale(0.1 -0.1)\">\n",
       "       <use xlink:href=\"#BitstreamVeraSans-Roman-31\"/>\n",
       "      </g>\n",
       "     </g>\n",
       "    </g>\n",
       "    <g id=\"ytick_3\">\n",
       "     <g id=\"line2d_19\">\n",
       "      <g>\n",
       "       <use style=\"stroke:#000000;stroke-width:0.5;\" x=\"63.0\" xlink:href=\"#md7965d1ba0\" y=\"284.76\"/>\n",
       "      </g>\n",
       "     </g>\n",
       "     <g id=\"line2d_20\">\n",
       "      <g>\n",
       "       <use style=\"stroke:#000000;stroke-width:0.5;\" x=\"453.6\" xlink:href=\"#md9a1c1a7cd\" y=\"284.76\"/>\n",
       "      </g>\n",
       "     </g>\n",
       "     <g id=\"text_8\">\n",
       "      <!-- 2 -->\n",
       "      <g transform=\"translate(54.371875 287.519375)scale(0.1 -0.1)\">\n",
       "       <use xlink:href=\"#BitstreamVeraSans-Roman-32\"/>\n",
       "      </g>\n",
       "     </g>\n",
       "    </g>\n",
       "    <g id=\"ytick_4\">\n",
       "     <g id=\"line2d_21\">\n",
       "      <g>\n",
       "       <use style=\"stroke:#000000;stroke-width:0.5;\" x=\"63.0\" xlink:href=\"#md7965d1ba0\" y=\"206.64\"/>\n",
       "      </g>\n",
       "     </g>\n",
       "     <g id=\"line2d_22\">\n",
       "      <g>\n",
       "       <use style=\"stroke:#000000;stroke-width:0.5;\" x=\"453.6\" xlink:href=\"#md9a1c1a7cd\" y=\"206.64\"/>\n",
       "      </g>\n",
       "     </g>\n",
       "     <g id=\"text_9\">\n",
       "      <!-- 3 -->\n",
       "      <g transform=\"translate(54.2015625 209.399375)scale(0.1 -0.1)\">\n",
       "       <use xlink:href=\"#BitstreamVeraSans-Roman-33\"/>\n",
       "      </g>\n",
       "     </g>\n",
       "    </g>\n",
       "    <g id=\"ytick_5\">\n",
       "     <g id=\"line2d_23\">\n",
       "      <g>\n",
       "       <use style=\"stroke:#000000;stroke-width:0.5;\" x=\"63.0\" xlink:href=\"#md7965d1ba0\" y=\"128.52\"/>\n",
       "      </g>\n",
       "     </g>\n",
       "     <g id=\"line2d_24\">\n",
       "      <g>\n",
       "       <use style=\"stroke:#000000;stroke-width:0.5;\" x=\"453.6\" xlink:href=\"#md9a1c1a7cd\" y=\"128.52\"/>\n",
       "      </g>\n",
       "     </g>\n",
       "     <g id=\"text_10\">\n",
       "      <!-- 4 -->\n",
       "      <defs>\n",
       "       <path d=\" M37.7969 64.3125 L12.8906 25.3906 L37.7969 25.3906 z  M35.2031 72.9062 L47.6094 72.9062 L47.6094 25.3906 L58.0156 25.3906 L58.0156 17.1875 L47.6094 17.1875 L47.6094 0 L37.7969 0 L37.7969 17.1875 L4.89062 17.1875 L4.89062 26.7031 z \" id=\"BitstreamVeraSans-Roman-34\"/>\n",
       "      </defs>\n",
       "      <g transform=\"translate(53.6875 131.279375)scale(0.1 -0.1)\">\n",
       "       <use xlink:href=\"#BitstreamVeraSans-Roman-34\"/>\n",
       "      </g>\n",
       "     </g>\n",
       "    </g>\n",
       "    <g id=\"ytick_6\">\n",
       "     <g id=\"line2d_25\">\n",
       "      <g>\n",
       "       <use style=\"stroke:#000000;stroke-width:0.5;\" x=\"63.0\" xlink:href=\"#md7965d1ba0\" y=\"50.4\"/>\n",
       "      </g>\n",
       "     </g>\n",
       "     <g id=\"line2d_26\">\n",
       "      <g>\n",
       "       <use style=\"stroke:#000000;stroke-width:0.5;\" x=\"453.6\" xlink:href=\"#md9a1c1a7cd\" y=\"50.4\"/>\n",
       "      </g>\n",
       "     </g>\n",
       "     <g id=\"text_11\">\n",
       "      <!-- 5 -->\n",
       "      <defs>\n",
       "       <path d=\" M10.7969 72.9062 L49.5156 72.9062 L49.5156 64.5938 L19.8281 64.5938 L19.8281 46.7344 Q21.9688 47.4688 24.1094 47.8281 Q26.2656 48.1875 28.4219 48.1875 Q40.625 48.1875 47.75 41.5 Q54.8906 34.8125 54.8906 23.3906 Q54.8906 11.625 47.5625 5.09375 Q40.2344 -1.42188 26.9062 -1.42188 Q22.3125 -1.42188 17.5469 -0.640625 Q12.7969 0.140625 7.71875 1.70312 L7.71875 11.625 Q12.1094 9.23438 16.7969 8.0625 Q21.4844 6.89062 26.7031 6.89062 Q35.1562 6.89062 40.0781 11.3281 Q45.0156 15.7656 45.0156 23.3906 Q45.0156 31 40.0781 35.4375 Q35.1562 39.8906 26.7031 39.8906 Q22.75 39.8906 18.8125 39.0156 Q14.8906 38.1406 10.7969 36.2812 z \" id=\"BitstreamVeraSans-Roman-35\"/>\n",
       "      </defs>\n",
       "      <g transform=\"translate(54.2828125 53.159375)scale(0.1 -0.1)\">\n",
       "       <use xlink:href=\"#BitstreamVeraSans-Roman-35\"/>\n",
       "      </g>\n",
       "     </g>\n",
       "    </g>\n",
       "    <g id=\"text_12\">\n",
       "     <!-- $y$ -->\n",
       "     <defs>\n",
       "      <path d=\" M8.40625 -14.3125 Q10.5 -17.9219 15.7188 -17.9219 Q20.4531 -17.9219 23.9219 -14.5938 Q27.3906 -11.2812 29.5156 -6.5625 Q31.6406 -1.85938 32.8125 3.07812 Q28.375 -1.125 23.1875 -1.125 Q19.2344 -1.125 16.4531 0.234375 Q13.6719 1.60938 12.125 4.3125 Q10.5938 7.03125 10.5938 10.8906 Q10.5938 14.1562 11.4688 17.5938 Q12.3594 21.0469 13.9375 25.2656 Q15.5312 29.5 16.7031 32.625 Q18.0156 36.2812 18.0156 38.625 Q18.0156 41.6094 15.8281 41.6094 Q11.8594 41.6094 9.29688 37.5312 Q6.73438 33.4531 5.51562 28.4219 Q5.32812 27.7812 4.6875 27.7812 L3.51562 27.7812 Q2.6875 27.7812 2.6875 28.7188 L2.6875 29 Q4.29688 34.9688 7.60938 39.5781 Q10.9375 44.1875 16.0156 44.1875 Q19.5781 44.1875 22.0469 41.8438 Q24.5156 39.5 24.5156 35.8906 Q24.5156 34.0312 23.6875 31.9844 Q23.25 30.7656 21.6875 26.6562 Q20.125 22.5625 19.2812 19.875 Q18.4531 17.1875 17.9219 14.5938 Q17.3906 12.0156 17.3906 9.42188 Q17.3906 6.10938 18.7969 3.8125 Q20.2188 1.51562 23.2969 1.51562 Q29.5 1.51562 34.4219 9.07812 L42 39.8906 Q42.3281 41.2188 43.5469 42.1562 Q44.7812 43.1094 46.1875 43.1094 Q47.4062 43.1094 48.3125 42.3281 Q49.2188 41.5469 49.2188 40.2812 Q49.2188 39.7031 49.125 39.5 L39.2031 -0.296875 Q37.8906 -5.42188 34.375 -10.1094 Q30.8594 -14.7969 25.9062 -17.6562 Q20.9531 -20.5156 15.5781 -20.5156 Q12.9844 -20.5156 10.4375 -19.5 Q7.90625 -18.5 6.34375 -16.5 Q4.78125 -14.5 4.78125 -11.8125 Q4.78125 -9.07812 6.39062 -7.07812 Q8.01562 -5.07812 10.6875 -5.07812 Q12.3125 -5.07812 13.4062 -6.07812 Q14.5 -7.07812 14.5 -8.6875 Q14.5 -10.9844 12.7812 -12.6875 Q11.0781 -14.4062 8.79688 -14.4062 Q8.6875 -14.3594 8.59375 -14.3281 Q8.5 -14.3125 8.40625 -14.3125\" id=\"Cmmi10-79\"/>\n",
       "     </defs>\n",
       "     <g transform=\"translate(44.4875 250.7)rotate(-90.0)scale(0.2 -0.2)\">\n",
       "      <use transform=\"translate(0.0 0.8125)\" xlink:href=\"#Cmmi10-79\"/>\n",
       "     </g>\n",
       "    </g>\n",
       "   </g>\n",
       "  </g>\n",
       " </g>\n",
       " <defs>\n",
       "  <clipPath id=\"p41d7ee9abc\">\n",
       "   <rect height=\"390.6\" width=\"390.6\" x=\"63.0\" y=\"50.4\"/>\n",
       "  </clipPath>\n",
       " </defs>\n",
       "</svg>"
      ],
      "text/plain": [
       "<IPython.core.display.SVG object>"
      ]
     },
     "metadata": {},
     "output_type": "display_data"
    }
   ],
   "source": [
    "pods.notebook.display_plots('one_point{samp}.svg', directory='./diagrams', samp=(0, 10))"
   ]
  },
  {
   "cell_type": "markdown",
   "metadata": {
    "slideshow": {
     "slide_type": "slide"
    }
   },
   "source": [
    "### Underdetermined System\n",
    "- Can compute $m$ given $c$.\n",
    "$$m = \\frac{y_1 -c}{x}$$"
   ]
  },
  {
   "cell_type": "markdown",
   "metadata": {
    "slideshow": {
     "slide_type": "slide"
    }
   },
   "source": [
    "### Underdetermined System\n",
    "\n",
    "- Can compute $m$ given $c$.\n",
    "\n",
    "Assume \n",
    "$$c \\sim \\mathcal{N}(0, 4),$$"
   ]
  },
  {
   "cell_type": "markdown",
   "metadata": {
    "slideshow": {
     "slide_type": "slide"
    }
   },
   "source": [
    "### Overdetermined System\n",
    "\n",
    "-   With two unknowns and two observations: \n",
    "    $$\\begin{aligned}\n",
    "          y_1 = & mx_1 + c\\\\\n",
    "          y_2 = & mx_2 + c\n",
    "        \\end{aligned}$$\n",
    "\n",
    "-   Additional observation leads to *overdetermined* system.\n",
    "    $$y_3 =  mx_3 + c$$\n",
    "\n",
    "-   This problem is solved through a noise model\n",
    "    $\\epsilon \\sim \\mathcal{N}(0,\\sigma^2)$ $$\\begin{aligned}\n",
    "          y_1 = mx_1 + c + \\epsilon_1\\\\\n",
    "          y_2 = mx_2 + c + \\epsilon_2\\\\\n",
    "          y_3 = mx_3 + c + \\epsilon_3\n",
    "        \\end{aligned}$$"
   ]
  },
  {
   "cell_type": "markdown",
   "metadata": {
    "slideshow": {
     "slide_type": "slide"
    }
   },
   "source": [
    "### Noise Models\n",
    "\n",
    "-   We aren’t modeling entire system.\n",
    "\n",
    "-   Noise model gives mismatch between model and data.\n",
    "\n",
    "-   Gaussian model justified by appeal to central limit theorem.\n",
    "\n",
    "-   Other models also possible (Student-$t$ for heavy tails).\n",
    "\n",
    "-   Maximum likelihood with Gaussian noise leads to *least squares*."
   ]
  },
  {
   "cell_type": "markdown",
   "metadata": {
    "slideshow": {
     "slide_type": "slide"
    }
   },
   "source": [
    "### Different Types of Uncertainty\n",
    "\n",
    "-   The first type of uncertainty we are assuming is\n",
    "    *aleatoric* uncertainty.\n",
    "\n",
    "-   The second type of uncertainty we are assuming is\n",
    "    *epistemic* uncertainty."
   ]
  },
  {
   "cell_type": "markdown",
   "metadata": {
    "slideshow": {
     "slide_type": "slide"
    }
   },
   "source": [
    "### Aleatoric Uncertainty\n",
    "\n",
    "-   This is uncertainty we couldn’t know even if we wanted to. e.g. the\n",
    "    result of a football match before it’s played.\n",
    "\n",
    "-   Where a sheet of paper might land on the floor."
   ]
  },
  {
   "cell_type": "markdown",
   "metadata": {
    "slideshow": {
     "slide_type": "slide"
    }
   },
   "source": [
    "### Epistemic Uncertainty\n",
    "\n",
    "-   This is uncertainty we could in principal know the answer too. We\n",
    "    just haven’t observed enough yet, e.g. the result of a football\n",
    "    match *after* it’s played.\n",
    "\n",
    "-   What colour socks your lecturer is wearing."
   ]
  },
  {
   "cell_type": "markdown",
   "metadata": {
    "slideshow": {
     "slide_type": "slide"
    }
   },
   "source": [
    "### Prior Distribution\n",
    "\n",
    "-   Bayesian inference requires a prior on the parameters.\n",
    "\n",
    "-   The prior represents your belief *before* you see the data of the\n",
    "    likely value of the parameters.\n",
    "\n",
    "-   For linear regression, consider a Gaussian prior on the intercept:\n",
    "    $$c \\sim \\mathcal{N}(0, \\alpha_1)$$"
   ]
  },
  {
   "cell_type": "markdown",
   "metadata": {
    "slideshow": {
     "slide_type": "slide"
    }
   },
   "source": [
    "### Posterior Distribution\n",
    "\n",
    "-   Posterior distribution is found by combining the prior with\n",
    "    the likelihood.\n",
    "\n",
    "-   Posterior distribution is your belief *after* you see the data of\n",
    "    the likely value of the parameters.\n",
    "\n",
    "-   The posterior is found through **Bayes’ Rule**\n",
    "    $$p(c|y) = \\frac{p(y|c)p(c)}{p(y)}$$\n"
   ]
  },
  {
   "cell_type": "markdown",
   "metadata": {
    "slideshow": {
     "slide_type": "slide"
    }
   },
   "source": [
    "### Bayes Update"
   ]
  },
  {
   "cell_type": "code",
   "execution_count": 28,
   "metadata": {
    "collapsed": false,
    "slideshow": {
     "slide_type": "skip"
    }
   },
   "outputs": [
    {
     "name": "stderr",
     "output_type": "stream",
     "text": [
      "/Users/neil/anaconda/lib/python3.4/site-packages/matplotlib/collections.py:590: FutureWarning: elementwise comparison failed; returning scalar instead, but in the future will perform elementwise comparison\n",
      "  if self._edgecolors == str('face'):\n"
     ]
    },
    {
     "data": {
      "image/png": "[encoded data removed]",
      "text/plain": [
       "<matplotlib.figure.Figure at 0x11a3f45f8>"
      ]
     },
     "metadata": {},
     "output_type": "display_data"
    },
    {
     "data": {
      "image/png": "[encoded data removed]",
      "text/plain": [
       "<matplotlib.figure.Figure at 0x117a00940>"
      ]
     },
     "metadata": {},
     "output_type": "display_data"
    }
   ],
   "source": [
    "fig, ax = plt.subplots(figsize=(7,7))\n",
    "num_points = 1000\n",
    "x_max = 4\n",
    "x_min = -3\n",
    "\n",
    "y = np.array([[1.]])\n",
    "prior_mean = np.array([[0.]])\n",
    "prior_var = np.array([[.1]])\n",
    "\n",
    "noise = mlai.Gaussian(offset=np.array([0.6]), scale=np.array(np.sqrt(0.05)))\n",
    "\n",
    "\n",
    "f = np.linspace(x_min, x_max, num_points)[:, None]\n",
    "ln_prior_curve = -0.5*(np.log(2*np.pi*prior_var) + (f-prior_mean)*(f-prior_mean)/prior_var)\n",
    "ln_likelihood_curve = np.zeros(ln_prior_curve.shape)\n",
    "for i in range(num_points):\n",
    "    ln_likelihood_curve[i] = noise.log_likelihood(f[i][None, :], \n",
    "                                                  np.array([[np.finfo(float).eps]]), \n",
    "                                                  y)\n",
    "ln_marginal_likelihood = noise.log_likelihood(prior_mean, prior_var, y);\n",
    "\n",
    "prior_curve = np.exp(ln_prior_curve) \n",
    "likelihood_curve = np.exp(ln_likelihood_curve)\n",
    "marginal_curve = np.exp(ln_marginal_likelihood)\n",
    "\n",
    "ln_posterior_curve = ln_likelihood_curve + ln_prior_curve - ln_marginal_likelihood\n",
    "posterior_curve = np.exp(ln_posterior_curve)\n",
    "\n",
    "g, dlnZ_dvs = noise.grad_vals(prior_mean, prior_var, y)\n",
    "\n",
    "nu = g*g - 2*dlnZ_dvs\n",
    "\n",
    "approx_var = prior_var - prior_var*prior_var*nu\n",
    "approx_mean = prior_mean + prior_var*g\n",
    "\n",
    "ln_approx_curve = -0.5*np.log(2*np.pi*approx_var)-0.5*(f-approx_mean)*(f-approx_mean)/approx_var\n",
    "\n",
    "approx_curve = np.exp(ln_approx_curve)\n",
    "noise\n",
    "xlim = [x_min, x_max] \n",
    "ylim = [0, np.vstack([approx_curve, likelihood_curve, \n",
    "                      posterior_curve, prior_curve]).max()*1.1]\n",
    "\n",
    "fig, ax = plt.subplots(figsize=(7,7))\n",
    "\n",
    "ax.set_xlim(xlim)\n",
    "ax.set_ylim(ylim)\n",
    "ax.set_yticks([0, 1, 2, 3, 4, 5])\n",
    "\n",
    "ax.vlines(xlim[0], ylim[0], ylim[1], color=[0., 0., 0.]) \n",
    "ax.hlines(ylim[0], xlim[0], xlim[1], color=[0., 0., 0.]) \n",
    "\n",
    "ax.plot(f, prior_curve, color=[1, 0., 0.], linewidth=3)\n",
    "ax.text(3.5, 2, '$p(c) = \\mathcal{N}(c|0, \\\\alpha_1)$', horizontalalignment='center') \n",
    "plt.savefig('./diagrams/dem_gaussian1.svg')\n",
    "\n",
    "ax.plot(f, likelihood_curve, color=[0, 0, 1], linewidth=3)\n",
    "ax.text(3.5, 1.5,'$p(y|m, c, x, \\\\sigma^2)=\\mathcal{N}(y|mx+c,\\\\sigma^2)$', horizontalalignment='center') \n",
    "plt.savefig('./diagrams/dem_gaussian2.svg')\n",
    "\n",
    "ax.plot(f, posterior_curve, color=[1, 0, 1], linewidth=3)\n",
    "ax.text(3.5, 1, '$p(c|y, m, x, \\\\sigma^2)=$', horizontalalignment='center') \n",
    "plt.text(3.5, 0.75, '$\\mathcal{N}\\\\left(c|\\\\frac{y-mx}{1+\\\\sigma^2\\\\alpha_1},(\\\\sigma^{-2}+\\\\alpha_1^{-1})^{-1}\\\\right)$', horizontalalignment='center') \n",
    "plt.savefig('./diagrams/dem_gaussian3.svg')"
   ]
  },
  {
   "cell_type": "code",
   "execution_count": 29,
   "metadata": {
    "collapsed": false,
    "slideshow": {
     "slide_type": "-"
    }
   },
   "outputs": [
    {
     "data": {
      "image/svg+xml": [
       "<svg height=\"504pt\" version=\"1.1\" viewBox=\"0 0 504 504\" width=\"504pt\" xmlns=\"http://www.w3.org/2000/svg\" xmlns:xlink=\"http://www.w3.org/1999/xlink\">\n",
       " <defs>\n",
       "  <style type=\"text/css\">\n",
       "*{stroke-linecap:butt;stroke-linejoin:round;}\n",
       "  </style>\n",
       " </defs>\n",
       " <g id=\"figure_1\">\n",
       "  <g id=\"patch_1\">\n",
       "   <path d=\" M0 504 L504 504 L504 0 L0 0 z \" style=\"fill:#ffffff;\"/>\n",
       "  </g>\n",
       "  <g id=\"axes_1\">\n",
       "   <g id=\"patch_2\">\n",
       "    <path d=\" M63 441 L453.6 441 L453.6 50.4 L63 50.4 z \" style=\"fill:#ffffff;\"/>\n",
       "   </g>\n",
       "   <g id=\"LineCollection_1\">\n",
       "    <path clip-path=\"url(#p41d7ee9abc)\" d=\" M63 441 L63 253.232\" style=\"fill:none;stroke:#000000;\"/>\n",
       "   </g>\n",
       "   <g id=\"LineCollection_2\">\n",
       "    <path clip-path=\"url(#p41d7ee9abc)\" d=\" M63 441 L453.6 441\" style=\"fill:none;stroke:#000000;\"/>\n",
       "   </g>\n",
       "   <g id=\"line2d_1\">\n",
       "    <path clip-path=\"url(#p41d7ee9abc)\" d=\" M96.48 441 L198.529 440.896 L204.394 440.664 L208.303 440.309 L211.431 439.811 L214.168 439.137 L216.514 438.314 L218.469 437.406 L220.424 436.25 L222.379 434.798 L223.943 433.391 L225.507 431.737 L227.071 429.812 L228.635 427.593 L230.59 424.374 L232.545 420.634 L234.5 416.358 L236.455 411.547 L238.801 405.106 L241.147 398.022 L244.275 387.837 L251.312 364.525 L253.658 357.669 L255.613 352.689 L257.177 349.306 L258.35 347.169 L259.523 345.405 L260.696 344.038 L261.869 343.084 L262.651 342.685 L263.433 342.478 L264.215 342.464 L264.997 342.644 L265.779 343.016 L266.561 343.578 L267.734 344.769 L268.907 346.366 L270.08 348.346 L271.644 351.539 L273.208 355.298 L275.163 360.668 L277.509 367.864 L281.028 379.538 L286.111 396.433 L288.848 404.782 L291.194 411.257 L293.148 416.097 L295.103 420.405 L297.058 424.175 L299.013 427.422 L300.968 430.177 L302.923 432.478 L304.878 434.371 L306.833 435.907 L308.788 437.135 L310.743 438.102 L313.089 438.982 L315.435 439.62 L318.172 440.133 L321.691 440.54 L325.992 440.799 L332.639 440.95 L347.496 440.999 L453.846 441 L453.846 441\" style=\"fill:none;stroke:#ff0000;stroke-linecap:square;stroke-width:3;\"/>\n",
       "   </g>\n",
       "   <g id=\"line2d_2\">\n",
       "    <path clip-path=\"url(#p41d7ee9abc)\" d=\" M96.48 441 L238.801 440.898 L242.711 440.679 L245.448 440.327 L247.403 439.892 L249.357 439.218 L250.921 438.44 L252.485 437.38 L253.658 436.353 L254.831 435.088 L256.004 433.545 L257.177 431.682 L258.35 429.456 L259.523 426.823 L260.696 423.744 L262.26 418.879 L263.824 413.085 L265.388 406.323 L266.952 398.593 L268.907 387.658 L271.253 372.991 L278.682 324.762 L280.246 316.624 L281.419 311.491 L282.592 307.332 L283.374 305.154 L284.156 303.482 L284.938 302.336 L285.72 301.727 L286.111 301.628 L286.502 301.665 L286.893 301.839 L287.675 302.594 L288.457 303.885 L289.239 305.696 L290.021 308.007 L291.194 312.351 L292.366 317.647 L293.93 325.964 L295.885 337.88 L299.013 358.741 L302.532 381.826 L304.487 393.386 L306.442 403.617 L308.006 410.735 L309.57 416.879 L311.134 422.076 L312.698 426.384 L314.262 429.888 L315.435 432.045 L316.608 433.847 L317.781 435.337 L319.345 436.909 L320.909 438.09 L322.473 438.963 L324.037 439.596 L325.992 440.138 L328.338 440.535 L331.466 440.807 L336.157 440.954 L347.105 440.999 L453.846 441 L453.846 441\" style=\"fill:none;stroke:#0000ff;stroke-linecap:square;stroke-width:3;\"/>\n",
       "   </g>\n",
       "   <g id=\"patch_3\">\n",
       "    <path d=\" M63 441 L453.6 441\" style=\"fill:none;stroke:#000000;stroke-linecap:square;stroke-linejoin:miter;\"/>\n",
       "   </g>\n",
       "   <g id=\"patch_4\">\n",
       "    <path d=\" M453.6 441 L453.6 50.4\" style=\"fill:none;stroke:#000000;stroke-linecap:square;stroke-linejoin:miter;\"/>\n",
       "   </g>\n",
       "   <g id=\"patch_5\">\n",
       "    <path d=\" M63 50.4 L453.6 50.4\" style=\"fill:none;stroke:#000000;stroke-linecap:square;stroke-linejoin:miter;\"/>\n",
       "   </g>\n",
       "   <g id=\"patch_6\">\n",
       "    <path d=\" M63 441 L63 50.4\" style=\"fill:none;stroke:#000000;stroke-linecap:square;stroke-linejoin:miter;\"/>\n",
       "   </g>\n",
       "   <g id=\"matplotlib.axis_1\">\n",
       "    <g id=\"xtick_1\">\n",
       "     <g id=\"line2d_3\">\n",
       "      <defs>\n",
       "       <path d=\" M0 0 L0 -4\" id=\"mc7db9fdffb\" style=\"stroke:#000000;stroke-width:0.5;\"/>\n",
       "      </defs>\n",
       "      <g>\n",
       "       <use style=\"stroke:#000000;stroke-width:0.5;\" x=\"63.0\" xlink:href=\"#mc7db9fdffb\" y=\"441.0\"/>\n",
       "      </g>\n",
       "     </g>\n",
       "     <g id=\"line2d_4\">\n",
       "      <defs>\n",
       "       <path d=\" M0 0 L0 4\" id=\"m5a7d422ac3\" style=\"stroke:#000000;stroke-width:0.5;\"/>\n",
       "      </defs>\n",
       "      <g>\n",
       "       <use style=\"stroke:#000000;stroke-width:0.5;\" x=\"63.0\" xlink:href=\"#m5a7d422ac3\" y=\"50.4\"/>\n",
       "      </g>\n",
       "     </g>\n",
       "     <g id=\"text_1\">\n",
       "      <!-- −3 -->\n",
       "      <defs>\n",
       "       <path d=\" M10.5938 35.5 L73.1875 35.5 L73.1875 27.2031 L10.5938 27.2031 z \" id=\"BitstreamVeraSans-Roman-2212\"/>\n",
       "       <path d=\" M40.5781 39.3125 Q47.6562 37.7969 51.625 33 Q55.6094 28.2188 55.6094 21.1875 Q55.6094 10.4062 48.1875 4.48438 Q40.7656 -1.42188 27.0938 -1.42188 Q22.5156 -1.42188 17.6562 -0.515625 Q12.7969 0.390625 7.625 2.20312 L7.625 11.7188 Q11.7188 9.32812 16.5938 8.10938 Q21.4844 6.89062 26.8125 6.89062 Q36.0781 6.89062 40.9375 10.5469 Q45.7969 14.2031 45.7969 21.1875 Q45.7969 27.6406 41.2812 31.2656 Q36.7656 34.9062 28.7188 34.9062 L20.2188 34.9062 L20.2188 43.0156 L29.1094 43.0156 Q36.375 43.0156 40.2344 45.9219 Q44.0938 48.8281 44.0938 54.2969 Q44.0938 59.9062 40.1094 62.9062 Q36.1406 65.9219 28.7188 65.9219 Q24.6562 65.9219 20.0156 65.0312 Q15.375 64.1562 9.8125 62.3125 L9.8125 71.0938 Q15.4375 72.6562 20.3438 73.4375 Q25.25 74.2188 29.5938 74.2188 Q40.8281 74.2188 47.3594 69.1094 Q53.9062 64.0156 53.9062 55.3281 Q53.9062 49.2656 50.4375 45.0938 Q46.9688 40.9219 40.5781 39.3125\" id=\"BitstreamVeraSans-Roman-33\"/>\n",
       "      </defs>\n",
       "      <g transform=\"translate(56.559375 452.5984375)scale(0.1 -0.1)\">\n",
       "       <use xlink:href=\"#BitstreamVeraSans-Roman-2212\"/>\n",
       "       <use x=\"83.7890625\" xlink:href=\"#BitstreamVeraSans-Roman-33\"/>\n",
       "      </g>\n",
       "     </g>\n",
       "    </g>\n",
       "    <g id=\"xtick_2\">\n",
       "     <g id=\"line2d_5\">\n",
       "      <g>\n",
       "       <use style=\"stroke:#000000;stroke-width:0.5;\" x=\"118.8\" xlink:href=\"#mc7db9fdffb\" y=\"441.0\"/>\n",
       "      </g>\n",
       "     </g>\n",
       "     <g id=\"line2d_6\">\n",
       "      <g>\n",
       "       <use style=\"stroke:#000000;stroke-width:0.5;\" x=\"118.8\" xlink:href=\"#m5a7d422ac3\" y=\"50.4\"/>\n",
       "      </g>\n",
       "     </g>\n",
       "     <g id=\"text_2\">\n",
       "      <!-- −2 -->\n",
       "      <defs>\n",
       "       <path d=\" M19.1875 8.29688 L53.6094 8.29688 L53.6094 0 L7.32812 0 L7.32812 8.29688 Q12.9375 14.1094 22.625 23.8906 Q32.3281 33.6875 34.8125 36.5312 Q39.5469 41.8438 41.4219 45.5312 Q43.3125 49.2188 43.3125 52.7812 Q43.3125 58.5938 39.2344 62.25 Q35.1562 65.9219 28.6094 65.9219 Q23.9688 65.9219 18.8125 64.3125 Q13.6719 62.7031 7.8125 59.4219 L7.8125 69.3906 Q13.7656 71.7812 18.9375 73 Q24.125 74.2188 28.4219 74.2188 Q39.75 74.2188 46.4844 68.5469 Q53.2188 62.8906 53.2188 53.4219 Q53.2188 48.9219 51.5312 44.8906 Q49.8594 40.875 45.4062 35.4062 Q44.1875 33.9844 37.6406 27.2188 Q31.1094 20.4531 19.1875 8.29688\" id=\"BitstreamVeraSans-Roman-32\"/>\n",
       "      </defs>\n",
       "      <g transform=\"translate(112.459375 452.5984375)scale(0.1 -0.1)\">\n",
       "       <use xlink:href=\"#BitstreamVeraSans-Roman-2212\"/>\n",
       "       <use x=\"83.7890625\" xlink:href=\"#BitstreamVeraSans-Roman-32\"/>\n",
       "      </g>\n",
       "     </g>\n",
       "    </g>\n",
       "    <g id=\"xtick_3\">\n",
       "     <g id=\"line2d_7\">\n",
       "      <g>\n",
       "       <use style=\"stroke:#000000;stroke-width:0.5;\" x=\"174.6\" xlink:href=\"#mc7db9fdffb\" y=\"441.0\"/>\n",
       "      </g>\n",
       "     </g>\n",
       "     <g id=\"line2d_8\">\n",
       "      <g>\n",
       "       <use style=\"stroke:#000000;stroke-width:0.5;\" x=\"174.6\" xlink:href=\"#m5a7d422ac3\" y=\"50.4\"/>\n",
       "      </g>\n",
       "     </g>\n",
       "     <g id=\"text_3\">\n",
       "      <!-- −1 -->\n",
       "      <defs>\n",
       "       <path d=\" M12.4062 8.29688 L28.5156 8.29688 L28.5156 63.9219 L10.9844 60.4062 L10.9844 69.3906 L28.4219 72.9062 L38.2812 72.9062 L38.2812 8.29688 L54.3906 8.29688 L54.3906 0 L12.4062 0 z \" id=\"BitstreamVeraSans-Roman-31\"/>\n",
       "      </defs>\n",
       "      <g transform=\"translate(168.2203125 452.5984375)scale(0.1 -0.1)\">\n",
       "       <use xlink:href=\"#BitstreamVeraSans-Roman-2212\"/>\n",
       "       <use x=\"83.7890625\" xlink:href=\"#BitstreamVeraSans-Roman-31\"/>\n",
       "      </g>\n",
       "     </g>\n",
       "    </g>\n",
       "    <g id=\"xtick_4\">\n",
       "     <g id=\"line2d_9\">\n",
       "      <g>\n",
       "       <use style=\"stroke:#000000;stroke-width:0.5;\" x=\"230.4\" xlink:href=\"#mc7db9fdffb\" y=\"441.0\"/>\n",
       "      </g>\n",
       "     </g>\n",
       "     <g id=\"line2d_10\">\n",
       "      <g>\n",
       "       <use style=\"stroke:#000000;stroke-width:0.5;\" x=\"230.4\" xlink:href=\"#m5a7d422ac3\" y=\"50.4\"/>\n",
       "      </g>\n",
       "     </g>\n",
       "     <g id=\"text_4\">\n",
       "      <!-- 0 -->\n",
       "      <defs>\n",
       "       <path d=\" M31.7812 66.4062 Q24.1719 66.4062 20.3281 58.9062 Q16.5 51.4219 16.5 36.375 Q16.5 21.3906 20.3281 13.8906 Q24.1719 6.39062 31.7812 6.39062 Q39.4531 6.39062 43.2812 13.8906 Q47.125 21.3906 47.125 36.375 Q47.125 51.4219 43.2812 58.9062 Q39.4531 66.4062 31.7812 66.4062 M31.7812 74.2188 Q44.0469 74.2188 50.5156 64.5156 Q56.9844 54.8281 56.9844 36.375 Q56.9844 17.9688 50.5156 8.26562 Q44.0469 -1.42188 31.7812 -1.42188 Q19.5312 -1.42188 13.0625 8.26562 Q6.59375 17.9688 6.59375 36.375 Q6.59375 54.8281 13.0625 64.5156 Q19.5312 74.2188 31.7812 74.2188\" id=\"BitstreamVeraSans-Roman-30\"/>\n",
       "      </defs>\n",
       "      <g transform=\"translate(227.88046875 452.5984375)scale(0.1 -0.1)\">\n",
       "       <use xlink:href=\"#BitstreamVeraSans-Roman-30\"/>\n",
       "      </g>\n",
       "     </g>\n",
       "    </g>\n",
       "    <g id=\"xtick_5\">\n",
       "     <g id=\"line2d_11\">\n",
       "      <g>\n",
       "       <use style=\"stroke:#000000;stroke-width:0.5;\" x=\"286.2\" xlink:href=\"#mc7db9fdffb\" y=\"441.0\"/>\n",
       "      </g>\n",
       "     </g>\n",
       "     <g id=\"line2d_12\">\n",
       "      <g>\n",
       "       <use style=\"stroke:#000000;stroke-width:0.5;\" x=\"286.2\" xlink:href=\"#m5a7d422ac3\" y=\"50.4\"/>\n",
       "      </g>\n",
       "     </g>\n",
       "     <g id=\"text_5\">\n",
       "      <!-- 1 -->\n",
       "      <g transform=\"translate(284.0296875 452.5984375)scale(0.1 -0.1)\">\n",
       "       <use xlink:href=\"#BitstreamVeraSans-Roman-31\"/>\n",
       "      </g>\n",
       "     </g>\n",
       "    </g>\n",
       "    <g id=\"xtick_6\">\n",
       "     <g id=\"line2d_13\">\n",
       "      <g>\n",
       "       <use style=\"stroke:#000000;stroke-width:0.5;\" x=\"342.0\" xlink:href=\"#mc7db9fdffb\" y=\"441.0\"/>\n",
       "      </g>\n",
       "     </g>\n",
       "     <g id=\"line2d_14\">\n",
       "      <g>\n",
       "       <use style=\"stroke:#000000;stroke-width:0.5;\" x=\"342.0\" xlink:href=\"#m5a7d422ac3\" y=\"50.4\"/>\n",
       "      </g>\n",
       "     </g>\n",
       "     <g id=\"text_6\">\n",
       "      <!-- 2 -->\n",
       "      <g transform=\"translate(339.6859375 452.5984375)scale(0.1 -0.1)\">\n",
       "       <use xlink:href=\"#BitstreamVeraSans-Roman-32\"/>\n",
       "      </g>\n",
       "     </g>\n",
       "    </g>\n",
       "    <g id=\"xtick_7\">\n",
       "     <g id=\"line2d_15\">\n",
       "      <g>\n",
       "       <use style=\"stroke:#000000;stroke-width:0.5;\" x=\"397.8\" xlink:href=\"#mc7db9fdffb\" y=\"441.0\"/>\n",
       "      </g>\n",
       "     </g>\n",
       "     <g id=\"line2d_16\">\n",
       "      <g>\n",
       "       <use style=\"stroke:#000000;stroke-width:0.5;\" x=\"397.8\" xlink:href=\"#m5a7d422ac3\" y=\"50.4\"/>\n",
       "      </g>\n",
       "     </g>\n",
       "     <g id=\"text_7\">\n",
       "      <!-- 3 -->\n",
       "      <g transform=\"translate(395.40078125 452.5984375)scale(0.1 -0.1)\">\n",
       "       <use xlink:href=\"#BitstreamVeraSans-Roman-33\"/>\n",
       "      </g>\n",
       "     </g>\n",
       "    </g>\n",
       "    <g id=\"xtick_8\">\n",
       "     <g id=\"line2d_17\">\n",
       "      <g>\n",
       "       <use style=\"stroke:#000000;stroke-width:0.5;\" x=\"453.6\" xlink:href=\"#mc7db9fdffb\" y=\"441.0\"/>\n",
       "      </g>\n",
       "     </g>\n",
       "     <g id=\"line2d_18\">\n",
       "      <g>\n",
       "       <use style=\"stroke:#000000;stroke-width:0.5;\" x=\"453.6\" xlink:href=\"#m5a7d422ac3\" y=\"50.4\"/>\n",
       "      </g>\n",
       "     </g>\n",
       "     <g id=\"text_8\">\n",
       "      <!-- 4 -->\n",
       "      <defs>\n",
       "       <path d=\" M37.7969 64.3125 L12.8906 25.3906 L37.7969 25.3906 z  M35.2031 72.9062 L47.6094 72.9062 L47.6094 25.3906 L58.0156 25.3906 L58.0156 17.1875 L47.6094 17.1875 L47.6094 0 L37.7969 0 L37.7969 17.1875 L4.89062 17.1875 L4.89062 26.7031 z \" id=\"BitstreamVeraSans-Roman-34\"/>\n",
       "      </defs>\n",
       "      <g transform=\"translate(450.94375 452.5984375)scale(0.1 -0.1)\">\n",
       "       <use xlink:href=\"#BitstreamVeraSans-Roman-34\"/>\n",
       "      </g>\n",
       "     </g>\n",
       "    </g>\n",
       "   </g>\n",
       "   <g id=\"matplotlib.axis_2\">\n",
       "    <g id=\"ytick_1\">\n",
       "     <g id=\"line2d_19\">\n",
       "      <defs>\n",
       "       <path d=\" M0 0 L4 0\" id=\"md7965d1ba0\" style=\"stroke:#000000;stroke-width:0.5;\"/>\n",
       "      </defs>\n",
       "      <g>\n",
       "       <use style=\"stroke:#000000;stroke-width:0.5;\" x=\"63.0\" xlink:href=\"#md7965d1ba0\" y=\"441.0\"/>\n",
       "      </g>\n",
       "     </g>\n",
       "     <g id=\"line2d_20\">\n",
       "      <defs>\n",
       "       <path d=\" M0 0 L-4 0\" id=\"md9a1c1a7cd\" style=\"stroke:#000000;stroke-width:0.5;\"/>\n",
       "      </defs>\n",
       "      <g>\n",
       "       <use style=\"stroke:#000000;stroke-width:0.5;\" x=\"453.6\" xlink:href=\"#md9a1c1a7cd\" y=\"441.0\"/>\n",
       "      </g>\n",
       "     </g>\n",
       "     <g id=\"text_9\">\n",
       "      <!-- 0 -->\n",
       "      <g transform=\"translate(53.9609375 443.759375)scale(0.1 -0.1)\">\n",
       "       <use xlink:href=\"#BitstreamVeraSans-Roman-30\"/>\n",
       "      </g>\n",
       "     </g>\n",
       "    </g>\n",
       "    <g id=\"ytick_2\">\n",
       "     <g id=\"line2d_21\">\n",
       "      <g>\n",
       "       <use style=\"stroke:#000000;stroke-width:0.5;\" x=\"63.0\" xlink:href=\"#md7965d1ba0\" y=\"362.88\"/>\n",
       "      </g>\n",
       "     </g>\n",
       "     <g id=\"line2d_22\">\n",
       "      <g>\n",
       "       <use style=\"stroke:#000000;stroke-width:0.5;\" x=\"453.6\" xlink:href=\"#md9a1c1a7cd\" y=\"362.88\"/>\n",
       "      </g>\n",
       "     </g>\n",
       "     <g id=\"text_10\">\n",
       "      <!-- 1 -->\n",
       "      <g transform=\"translate(54.659375 365.639375)scale(0.1 -0.1)\">\n",
       "       <use xlink:href=\"#BitstreamVeraSans-Roman-31\"/>\n",
       "      </g>\n",
       "     </g>\n",
       "    </g>\n",
       "    <g id=\"ytick_3\">\n",
       "     <g id=\"line2d_23\">\n",
       "      <g>\n",
       "       <use style=\"stroke:#000000;stroke-width:0.5;\" x=\"63.0\" xlink:href=\"#md7965d1ba0\" y=\"284.76\"/>\n",
       "      </g>\n",
       "     </g>\n",
       "     <g id=\"line2d_24\">\n",
       "      <g>\n",
       "       <use style=\"stroke:#000000;stroke-width:0.5;\" x=\"453.6\" xlink:href=\"#md9a1c1a7cd\" y=\"284.76\"/>\n",
       "      </g>\n",
       "     </g>\n",
       "     <g id=\"text_11\">\n",
       "      <!-- 2 -->\n",
       "      <g transform=\"translate(54.371875 287.519375)scale(0.1 -0.1)\">\n",
       "       <use xlink:href=\"#BitstreamVeraSans-Roman-32\"/>\n",
       "      </g>\n",
       "     </g>\n",
       "    </g>\n",
       "    <g id=\"ytick_4\">\n",
       "     <g id=\"line2d_25\">\n",
       "      <g>\n",
       "       <use style=\"stroke:#000000;stroke-width:0.5;\" x=\"63.0\" xlink:href=\"#md7965d1ba0\" y=\"206.64\"/>\n",
       "      </g>\n",
       "     </g>\n",
       "     <g id=\"line2d_26\">\n",
       "      <g>\n",
       "       <use style=\"stroke:#000000;stroke-width:0.5;\" x=\"453.6\" xlink:href=\"#md9a1c1a7cd\" y=\"206.64\"/>\n",
       "      </g>\n",
       "     </g>\n",
       "     <g id=\"text_12\">\n",
       "      <!-- 3 -->\n",
       "      <g transform=\"translate(54.2015625 209.399375)scale(0.1 -0.1)\">\n",
       "       <use xlink:href=\"#BitstreamVeraSans-Roman-33\"/>\n",
       "      </g>\n",
       "     </g>\n",
       "    </g>\n",
       "    <g id=\"ytick_5\">\n",
       "     <g id=\"line2d_27\">\n",
       "      <g>\n",
       "       <use style=\"stroke:#000000;stroke-width:0.5;\" x=\"63.0\" xlink:href=\"#md7965d1ba0\" y=\"128.52\"/>\n",
       "      </g>\n",
       "     </g>\n",
       "     <g id=\"line2d_28\">\n",
       "      <g>\n",
       "       <use style=\"stroke:#000000;stroke-width:0.5;\" x=\"453.6\" xlink:href=\"#md9a1c1a7cd\" y=\"128.52\"/>\n",
       "      </g>\n",
       "     </g>\n",
       "     <g id=\"text_13\">\n",
       "      <!-- 4 -->\n",
       "      <g transform=\"translate(53.6875 131.279375)scale(0.1 -0.1)\">\n",
       "       <use xlink:href=\"#BitstreamVeraSans-Roman-34\"/>\n",
       "      </g>\n",
       "     </g>\n",
       "    </g>\n",
       "    <g id=\"ytick_6\">\n",
       "     <g id=\"line2d_29\">\n",
       "      <g>\n",
       "       <use style=\"stroke:#000000;stroke-width:0.5;\" x=\"63.0\" xlink:href=\"#md7965d1ba0\" y=\"50.4\"/>\n",
       "      </g>\n",
       "     </g>\n",
       "     <g id=\"line2d_30\">\n",
       "      <g>\n",
       "       <use style=\"stroke:#000000;stroke-width:0.5;\" x=\"453.6\" xlink:href=\"#md9a1c1a7cd\" y=\"50.4\"/>\n",
       "      </g>\n",
       "     </g>\n",
       "     <g id=\"text_14\">\n",
       "      <!-- 5 -->\n",
       "      <defs>\n",
       "       <path d=\" M10.7969 72.9062 L49.5156 72.9062 L49.5156 64.5938 L19.8281 64.5938 L19.8281 46.7344 Q21.9688 47.4688 24.1094 47.8281 Q26.2656 48.1875 28.4219 48.1875 Q40.625 48.1875 47.75 41.5 Q54.8906 34.8125 54.8906 23.3906 Q54.8906 11.625 47.5625 5.09375 Q40.2344 -1.42188 26.9062 -1.42188 Q22.3125 -1.42188 17.5469 -0.640625 Q12.7969 0.140625 7.71875 1.70312 L7.71875 11.625 Q12.1094 9.23438 16.7969 8.0625 Q21.4844 6.89062 26.7031 6.89062 Q35.1562 6.89062 40.0781 11.3281 Q45.0156 15.7656 45.0156 23.3906 Q45.0156 31 40.0781 35.4375 Q35.1562 39.8906 26.7031 39.8906 Q22.75 39.8906 18.8125 39.0156 Q14.8906 38.1406 10.7969 36.2812 z \" id=\"BitstreamVeraSans-Roman-35\"/>\n",
       "      </defs>\n",
       "      <g transform=\"translate(54.2828125 53.159375)scale(0.1 -0.1)\">\n",
       "       <use xlink:href=\"#BitstreamVeraSans-Roman-35\"/>\n",
       "      </g>\n",
       "     </g>\n",
       "    </g>\n",
       "   </g>\n",
       "   <g id=\"text_15\">\n",
       "    <!-- $p(c) = \\mathcal{N}(c|0, \\alpha_1)$ -->\n",
       "    <defs>\n",
       "     <path d=\" M31 -24.8125 Q25.4375 -20.4062 21.4062 -14.7188 Q17.3906 -9.03125 14.8125 -2.57812 Q12.25 3.85938 10.9844 10.8906 Q9.71875 17.9219 9.71875 25 Q9.71875 32.1719 10.9844 39.2031 Q12.25 46.2344 14.8594 52.7344 Q17.4844 59.2344 21.5312 64.8906 Q25.5938 70.5625 31 74.8125 Q31 75 31.5 75 L32.4219 75 Q32.7188 75 32.9531 74.7344 Q33.2031 74.4688 33.2031 74.125 Q33.2031 73.6875 33.0156 73.4844 Q28.125 68.7031 24.875 63.2344 Q21.625 57.7656 19.6406 51.5781 Q17.6719 45.4062 16.7969 38.7812 Q15.9219 32.1719 15.9219 25 Q15.9219 -6.78125 32.9062 -23.2969 Q33.2031 -23.5781 33.2031 -24.125 Q33.2031 -24.3594 32.9375 -24.6719 Q32.6719 -25 32.4219 -25 L31.5 -25 Q31 -25 31 -24.8125\" id=\"Cmr10-28\"/>\n",
       "     <path d=\" M-2.48438 -19.3906 Q-3.42188 -19.3906 -3.42188 -18.1094 Q-3.07812 -15.9219 -2.09375 -15.9219 Q1.03125 -15.9219 2.26562 -15.3594 Q3.51562 -14.7969 4.20312 -12.5 L15.4844 32.5156 Q16.2188 34.375 16.2188 37.3125 Q16.2188 41.6094 13.2812 41.6094 Q10.1562 41.6094 8.64062 37.8594 Q7.125 34.125 5.71875 28.4219 Q5.71875 27.7812 4.89062 27.7812 L3.71875 27.7812 Q3.46875 27.7812 3.17188 28.1406 Q2.875 28.5156 2.875 28.8125 Q3.95312 33.1562 4.95312 36.1719 Q5.95312 39.2031 8.07812 41.6875 Q10.2031 44.1875 13.375 44.1875 Q16.7969 44.1875 19.375 42.25 Q21.9688 40.3281 22.7031 37.0156 Q25.4375 40.1875 28.75 42.1875 Q32.0781 44.1875 35.5938 44.1875 Q39.7969 44.1875 42.8906 41.9375 Q46 39.7031 47.5625 36.0625 Q49.125 32.4219 49.125 28.2188 Q49.125 21.7812 45.8281 14.8906 Q42.5312 8.01562 36.8906 3.4375 Q31.25 -1.125 24.8125 -1.125 Q21.875 -1.125 19.5 0.53125 Q17.1406 2.20312 15.8281 4.89062 L11.2812 -12.8906 Q11.0312 -14.3594 10.9844 -14.5938 Q10.9844 -15.9219 17.5781 -15.9219 Q18.6094 -15.9219 18.6094 -17.1875 Q18.2656 -18.5 18.0469 -18.9375 Q17.8281 -19.3906 16.8906 -19.3906 z  M24.9062 1.51562 Q28.375 1.51562 31.3438 4.375 Q34.3281 7.23438 36.1875 10.7969 Q37.5469 13.4844 38.7344 17.3594 Q39.9375 21.2344 40.8125 25.625 Q41.7031 30.0312 41.7031 32.625 Q41.7031 34.9062 41.0938 36.9062 Q40.4844 38.9219 39.0938 40.2656 Q37.7031 41.6094 35.4062 41.6094 Q31.7344 41.6094 28.4844 38.9844 Q25.25 36.375 22.6094 32.5156 L22.6094 32.1719 L17.0938 10.1094 Q17.7812 6.54688 19.7344 4.03125 Q21.6875 1.51562 24.9062 1.51562\" id=\"Cmmi10-70\"/>\n",
       "     <path d=\" M9.90625 -18.0156 Q9.90625 -17.5781 10.2969 -17.1875 Q13.9219 -13.7188 15.9219 -9.17188 Q17.9219 -4.64062 17.9219 0.390625 L17.9219 1.60938 Q16.3125 0 13.9219 0 Q11.625 0 10.0156 1.60938 Q8.40625 3.21875 8.40625 5.51562 Q8.40625 7.85938 10.0156 9.42188 Q11.625 10.9844 13.9219 10.9844 Q17.4844 10.9844 19 7.6875 Q20.5156 4.39062 20.5156 0.390625 Q20.5156 -5.17188 18.2812 -10.1719 Q16.0625 -15.1875 12.0156 -19.1875 Q11.625 -19.3906 11.375 -19.3906 Q10.8906 -19.3906 10.3906 -18.9375 Q9.90625 -18.5 9.90625 -18.0156\" id=\"Cmmi10-3b\"/>\n",
       "     <path d=\" M11.7188 11.9219 Q11.7188 7.5625 13.9375 4.53125 Q16.1562 1.51562 20.3125 1.51562 Q26.2656 1.51562 31.75 4.25 Q37.25 6.98438 40.7188 11.8125 Q41.0156 12.1094 41.5 12.1094 Q42 12.1094 42.5 11.5469 Q43.0156 10.9844 43.0156 10.5 Q43.0156 10.1094 42.8281 9.90625 Q39.1562 4.78125 32.9531 1.82812 Q26.7656 -1.125 20.125 -1.125 Q15.3281 -1.125 11.6719 1.14062 Q8.01562 3.42188 6 7.21875 Q4 11.0312 4 15.8281 Q4 22.5625 7.76562 29.2031 Q11.5312 35.8438 17.7812 40.0156 Q24.0312 44.1875 30.9062 44.1875 Q35.4062 44.1875 38.9844 42.0156 Q42.5781 39.8438 42.5781 35.5938 Q42.5781 32.8594 40.9844 30.9219 Q39.4062 29 36.7188 29 Q35.1094 29 34 30 Q32.9062 31 32.9062 32.625 Q32.9062 34.9688 34.6094 36.625 Q36.3281 38.2812 38.625 38.2812 L38.8125 38.2812 Q37.6406 39.9844 35.4219 40.7969 Q33.2031 41.6094 30.8125 41.6094 Q24.9531 41.6094 20.5469 36.5938 Q16.1562 31.5938 13.9375 24.625 Q11.7188 17.6719 11.7188 11.9219\" id=\"Cmmi10-63\"/>\n",
       "     <path d=\" M-2.875 0.203125 Q-2.875 2.04688 -1.60938 5.03125 Q-0.34375 8.01562 1.125 8.01562 Q1.3125 8.01562 1.42188 7.90625 Q4.59375 4.59375 9.28125 4.59375 Q11.9219 4.59375 13.9375 9.34375 Q15.9688 14.1094 17.9219 20.4062 Q18.9531 23.5781 20.4375 28.7031 Q21.9219 33.8438 22.7031 37.0156 Q23.3906 39.6562 24.3438 44.1719 Q25.2969 48.6875 25.9062 52.0469 Q26.5156 55.4219 27 58.9375 Q27.4844 62.4531 27.875 66.3125 Q27.875 66.8438 28.6094 67.5781 Q29.6875 68.7031 31.2031 69.5781 Q32.625 70.2188 34.0781 70.5156 L34.9062 70.5156 Q35.5 70.2188 35.5938 69.8281 Q38.0938 61.0781 41.7969 50 Q45.1719 39.75 47.5625 33.2031 Q49.9531 26.6562 53.2031 19.4062 Q56.4531 12.1562 60.2969 6 Q65.5312 28.4219 70.7031 46.6875 L72.0156 51.3125 Q74.1719 58.8906 75.5625 63.1094 Q76.9531 67.3281 79.1094 70.7031 Q80.8594 73.4375 83.6875 75 Q86.5312 76.5625 89.8906 77.2188 Q93.2656 77.875 96.9219 77.875 Q97.7969 77.875 97.7969 76.2188 Q97.7969 75.0469 97.2812 73.2188 Q96.7812 71.3906 95.8906 69.9688 Q95.0156 68.5625 93.8906 68.3125 Q89.9375 68.3125 86.8281 67.6719 Q83.7344 67.0469 81.2031 65.375 Q79.9375 64.4531 79.7188 63.9688 Q79.5 63.4844 78.7188 61.0781 Q77.4375 57.5625 76.125 52.5938 L74.8125 48.0938 Q72.2656 38.9219 70.2812 31.3438 Q68.3125 23.7812 66.5 16.3281 Q64.7031 8.89062 62.9844 1.3125 Q63.0312 1.3125 62.9531 1.4375 Q62.8906 1.5625 62.8906 1.60938 Q62.8906 0.734375 61.7344 -0.234375 Q60.5938 -1.21875 59.1094 -1.875 Q57.625 -2.54688 56.6875 -2.6875 L56 -2.6875 Q54.3438 -1.85938 50.3438 5.75 Q46.3438 13.375 44.2812 18.3125 Q36.8594 36.6719 30.7188 56.6875 Q29.9375 51.8594 27.4844 41.375 Q25.0469 30.9062 21.6719 20.2656 Q18.3125 9.625 14.2812 2.3125 Q10.25 -4.98438 6.20312 -4.98438 Q3.60938 -4.98438 0.359375 -3.51562 Q-2.875 -2.04688 -2.875 0.203125\" id=\"Cmsy10-4e\"/>\n",
       "     <path d=\" M9.28125 0 L9.28125 3.51562 Q21.7812 3.51562 21.7812 6.6875 L21.7812 59.1875 Q16.6094 56.6875 8.6875 56.6875 L8.6875 60.2031 Q20.9531 60.2031 27.2031 66.6094 L28.6094 66.6094 Q28.9531 66.6094 29.2656 66.3281 Q29.5938 66.0625 29.5938 65.7188 L29.5938 6.6875 Q29.5938 3.51562 42.0938 3.51562 L42.0938 0 z \" id=\"Cmr10-31\"/>\n",
       "     <path d=\" M7.51562 13.2812 Q6.6875 13.2812 6.14062 13.9062 Q5.60938 14.5469 5.60938 15.2812 Q5.60938 16.1094 6.14062 16.6875 Q6.6875 17.2812 7.51562 17.2812 L70.3125 17.2812 Q71.0469 17.2812 71.5781 16.6875 Q72.125 16.1094 72.125 15.2812 Q72.125 14.5469 71.5781 13.9062 Q71.0469 13.2812 70.3125 13.2812 z  M7.51562 32.7188 Q6.6875 32.7188 6.14062 33.2969 Q5.60938 33.8906 5.60938 34.7188 Q5.60938 35.4531 6.14062 36.0781 Q6.6875 36.7188 7.51562 36.7188 L70.3125 36.7188 Q71.0469 36.7188 71.5781 36.0781 Q72.125 35.4531 72.125 34.7188 Q72.125 33.8906 71.5781 33.2969 Q71.0469 32.7188 70.3125 32.7188 z \" id=\"Cmr10-3d\"/>\n",
       "     <path d=\" M25 -2.20312 Q12.75 -2.20312 8.32812 7.875 Q3.90625 17.9688 3.90625 31.8906 Q3.90625 40.5781 5.48438 48.2344 Q7.07812 55.9062 11.7812 61.25 Q16.5 66.6094 25 66.6094 Q31.5938 66.6094 35.7812 63.375 Q39.9844 60.1562 42.1875 55.0469 Q44.3906 49.9531 45.1875 44.1094 Q46 38.2812 46 31.8906 Q46 23.2969 44.4062 15.7969 Q42.8281 8.29688 38.1875 3.04688 Q33.5469 -2.20312 25 -2.20312 M25 0.390625 Q30.5625 0.390625 33.2969 6.09375 Q36.0312 11.8125 36.6719 18.75 Q37.3125 25.6875 37.3125 33.5 Q37.3125 41.0156 36.6719 47.3594 Q36.0312 53.7188 33.3125 58.8594 Q30.6094 64.0156 25 64.0156 Q19.3438 64.0156 16.6094 58.8281 Q13.875 53.6562 13.2344 47.3281 Q12.5938 41.0156 12.5938 33.5 Q12.5938 27.9375 12.8594 23 Q13.1406 18.0625 14.3125 12.8125 Q15.4844 7.5625 18.0938 3.96875 Q20.7031 0.390625 25 0.390625\" id=\"Cmr10-30\"/>\n",
       "     <path d=\" M20.125 -1.125 Q15.375 -1.125 11.6875 1.125 Q8.01562 3.375 6 7.17188 Q4 10.9844 4 15.8281 Q4 22.6094 7.78125 29.25 Q11.5781 35.8906 17.8438 40.0312 Q24.125 44.1875 31 44.1875 Q36.0781 44.1875 39.9375 41.5312 Q43.7969 38.875 45.7969 34.4531 Q47.7969 30.0312 47.7969 25 L47.9062 18.3125 Q51.3125 23.0469 53.6875 28.1406 Q56.0625 33.25 57.3281 38.7188 Q57.5156 39.3125 58.1094 39.3125 L59.2812 39.3125 Q60.2031 39.3125 60.2031 38.375 Q60.2031 38.2812 60.1094 38.0938 Q58.9375 33.5 57.1719 29.2656 Q55.4219 25.0469 53.0469 21.0938 Q50.6875 17.1406 47.9062 13.9219 Q47.9062 1.51562 50.7812 1.51562 Q52.6406 1.51562 53.8281 2.60938 Q55.0312 3.71875 55.9375 5.32812 Q56.8438 6.9375 57.0781 6.98438 L58.2969 6.98438 Q59.0781 6.98438 59.0781 6 Q59.0781 3.51562 56.2188 1.1875 Q53.375 -1.125 50.5938 -1.125 Q46.9688 -1.125 44.5781 1.21875 Q42.1875 3.5625 41.3125 7.32812 Q36.625 3.32812 31.1562 1.09375 Q25.6875 -1.125 20.125 -1.125 M20.3125 1.51562 Q31 1.51562 40.8281 10.2969 Q40.7656 10.8906 40.6719 11.7344 Q40.5781 12.5938 40.5781 12.7031 L40.5781 23.4844 Q40.5781 41.6094 30.8125 41.6094 Q24.9531 41.6094 20.5469 36.5938 Q16.1562 31.5938 13.9375 24.625 Q11.7188 17.6719 11.7188 11.9219 Q11.7188 7.5625 13.9375 4.53125 Q16.1562 1.51562 20.3125 1.51562\" id=\"Cmmi10-ae\"/>\n",
       "     <path d=\" M6.5 -25 Q5.60938 -25 5.60938 -24.125 Q5.60938 -23.6875 5.8125 -23.4844 Q22.9062 -6.78125 22.9062 25 Q22.9062 56.7812 6 73.2969 Q5.60938 73.5312 5.60938 74.125 Q5.60938 74.4688 5.875 74.7344 Q6.15625 75 6.5 75 L7.42188 75 Q7.71875 75 7.90625 74.8125 Q15.0938 69.1406 19.875 61.0312 Q24.6562 52.9375 26.875 43.75 Q29.1094 34.5781 29.1094 25 Q29.1094 17.9219 27.9062 11.0625 Q26.7031 4.20312 24.0938 -2.45312 Q21.4844 -9.125 17.4844 -14.7656 Q13.4844 -20.4062 7.90625 -24.8125 Q7.71875 -25 7.42188 -25 z \" id=\"Cmr10-29\"/>\n",
       "     <path d=\" M11.9219 -23.1875 L11.9219 73.1875 Q11.9219 73.9688 12.5 74.4844 Q13.0938 75 13.9219 75 Q14.6562 75 15.2812 74.4844 Q15.9219 73.9688 15.9219 73.1875 L15.9219 -23.1875 Q15.9219 -23.9688 15.2812 -24.4844 Q14.6562 -25 13.9219 -25 Q13.0938 -25 12.5 -24.4844 Q11.9219 -23.9688 11.9219 -23.1875\" id=\"Cmsy10-6a\"/>\n",
       "    </defs>\n",
       "    <g transform=\"translate(390.85 284.76)scale(0.1 -0.1)\">\n",
       "     <use transform=\"translate(0.0 0.125)\" xlink:href=\"#Cmmi10-70\"/>\n",
       "     <use transform=\"translate(50.29296875 0.125)\" xlink:href=\"#Cmr10-28\"/>\n",
       "     <use transform=\"translate(89.111328125 0.125)\" xlink:href=\"#Cmmi10-63\"/>\n",
       "     <use transform=\"translate(132.32421875 0.125)\" xlink:href=\"#Cmr10-29\"/>\n",
       "     <use transform=\"translate(188.701171875 0.125)\" xlink:href=\"#Cmr10-3d\"/>\n",
       "     <use transform=\"translate(272.759765625 0.125)\" xlink:href=\"#Cmsy10-4e\"/>\n",
       "     <use transform=\"translate(354.7421875 0.125)\" xlink:href=\"#Cmr10-28\"/>\n",
       "     <use transform=\"translate(393.560546875 0.125)\" xlink:href=\"#Cmmi10-63\"/>\n",
       "     <use transform=\"translate(436.7734375 0.125)\" xlink:href=\"#Cmsy10-6a\"/>\n",
       "     <use transform=\"translate(464.458984375 0.125)\" xlink:href=\"#Cmr10-30\"/>\n",
       "     <use transform=\"translate(514.458984375 0.125)\" xlink:href=\"#Cmmi10-3b\"/>\n",
       "     <use transform=\"translate(544.126953125 0.125)\" xlink:href=\"#Cmmi10-ae\"/>\n",
       "     <use transform=\"translate(608.04296875 -25.384375000000006)scale(0.7)\" xlink:href=\"#Cmr10-31\"/>\n",
       "     <use transform=\"translate(658.04296875 0.125)\" xlink:href=\"#Cmr10-29\"/>\n",
       "    </g>\n",
       "   </g>\n",
       "   <g id=\"text_16\">\n",
       "    <!-- $p(y|m, c, x, \\sigma^2)=\\mathcal{N}(y|mx+c,\\sigma^2)$ -->\n",
       "    <defs>\n",
       "     <path d=\" M8.40625 -14.3125 Q10.5 -17.9219 15.7188 -17.9219 Q20.4531 -17.9219 23.9219 -14.5938 Q27.3906 -11.2812 29.5156 -6.5625 Q31.6406 -1.85938 32.8125 3.07812 Q28.375 -1.125 23.1875 -1.125 Q19.2344 -1.125 16.4531 0.234375 Q13.6719 1.60938 12.125 4.3125 Q10.5938 7.03125 10.5938 10.8906 Q10.5938 14.1562 11.4688 17.5938 Q12.3594 21.0469 13.9375 25.2656 Q15.5312 29.5 16.7031 32.625 Q18.0156 36.2812 18.0156 38.625 Q18.0156 41.6094 15.8281 41.6094 Q11.8594 41.6094 9.29688 37.5312 Q6.73438 33.4531 5.51562 28.4219 Q5.32812 27.7812 4.6875 27.7812 L3.51562 27.7812 Q2.6875 27.7812 2.6875 28.7188 L2.6875 29 Q4.29688 34.9688 7.60938 39.5781 Q10.9375 44.1875 16.0156 44.1875 Q19.5781 44.1875 22.0469 41.8438 Q24.5156 39.5 24.5156 35.8906 Q24.5156 34.0312 23.6875 31.9844 Q23.25 30.7656 21.6875 26.6562 Q20.125 22.5625 19.2812 19.875 Q18.4531 17.1875 17.9219 14.5938 Q17.3906 12.0156 17.3906 9.42188 Q17.3906 6.10938 18.7969 3.8125 Q20.2188 1.51562 23.2969 1.51562 Q29.5 1.51562 34.4219 9.07812 L42 39.8906 Q42.3281 41.2188 43.5469 42.1562 Q44.7812 43.1094 46.1875 43.1094 Q47.4062 43.1094 48.3125 42.3281 Q49.2188 41.5469 49.2188 40.2812 Q49.2188 39.7031 49.125 39.5 L39.2031 -0.296875 Q37.8906 -5.42188 34.375 -10.1094 Q30.8594 -14.7969 25.9062 -17.6562 Q20.9531 -20.5156 15.5781 -20.5156 Q12.9844 -20.5156 10.4375 -19.5 Q7.90625 -18.5 6.34375 -16.5 Q4.78125 -14.5 4.78125 -11.8125 Q4.78125 -9.07812 6.39062 -7.07812 Q8.01562 -5.07812 10.6875 -5.07812 Q12.3125 -5.07812 13.4062 -6.07812 Q14.5 -7.07812 14.5 -8.6875 Q14.5 -10.9844 12.7812 -12.6875 Q11.0781 -14.4062 8.79688 -14.4062 Q8.6875 -14.3594 8.59375 -14.3281 Q8.5 -14.3125 8.40625 -14.3125\" id=\"Cmmi10-79\"/>\n",
       "     <path d=\" M7.71875 1.70312 Q7.71875 2.29688 7.8125 2.59375 L15.2812 32.4219 Q16.0156 35.2031 16.0156 37.3125 Q16.0156 41.6094 13.0938 41.6094 Q9.96875 41.6094 8.45312 37.8594 Q6.9375 34.125 5.51562 28.4219 Q5.51562 28.125 5.21875 27.9531 Q4.9375 27.7812 4.6875 27.7812 L3.51562 27.7812 Q3.17188 27.7812 2.92188 28.1406 Q2.6875 28.5156 2.6875 28.8125 Q3.76562 33.1562 4.76562 36.1719 Q5.76562 39.2031 7.89062 41.6875 Q10.0156 44.1875 13.1875 44.1875 Q16.9375 44.1875 19.8125 41.8125 Q22.7031 39.4531 22.7031 35.7969 Q25.6875 39.7031 29.6875 41.9375 Q33.6875 44.1875 38.1875 44.1875 Q42.9219 44.1875 46.3594 41.7656 Q49.8125 39.3594 49.8125 34.9062 Q52.875 39.2656 57 41.7188 Q61.1406 44.1875 66.0156 44.1875 Q71.1875 44.1875 74.3281 41.375 Q77.4844 38.5781 77.4844 33.4062 Q77.4844 29.2969 75.6562 23.4844 Q73.8281 17.6719 71.0938 10.5 Q69.6719 7.03125 69.6719 4.5 Q69.6719 1.51562 72.0156 1.51562 Q75.9219 1.51562 78.5156 5.70312 Q81.1094 9.90625 82.1719 14.7031 Q82.4688 15.2812 83.0156 15.2812 L84.1875 15.2812 Q84.5781 15.2812 84.8438 15.0156 Q85.1094 14.75 85.1094 14.4062 Q85.1094 14.3125 85.0156 14.1094 Q83.6406 8.45312 80.25 3.65625 Q76.8594 -1.125 71.7812 -1.125 Q68.2656 -1.125 65.7656 1.29688 Q63.2812 3.71875 63.2812 7.17188 Q63.2812 8.9375 64.1094 11.0781 Q66.9375 18.6094 68.8125 24.5156 Q70.7031 30.4219 70.7031 34.9062 Q70.7031 37.7031 69.5781 39.6562 Q68.4531 41.6094 65.8281 41.6094 Q60.3594 41.6094 56.3438 38.25 Q52.3438 34.9062 49.4219 29.3906 Q49.2188 28.4219 49.125 27.875 L42.6719 2.20312 Q42.3281 0.828125 41.125 -0.140625 Q39.9375 -1.125 38.4844 -1.125 Q37.3125 -1.125 36.4062 -0.34375 Q35.5 0.4375 35.5 1.70312 Q35.5 2.29688 35.5938 2.59375 L42 28.0781 Q43.0156 32.1719 43.0156 34.9062 Q43.0156 37.7031 41.8594 39.6562 Q40.7188 41.6094 37.9844 41.6094 Q34.3281 41.6094 31.25 39.9844 Q28.1719 38.375 25.875 35.7188 Q23.5781 33.0625 21.6875 29.3906 L14.8906 2.20312 Q14.5469 0.828125 13.3438 -0.140625 Q12.1562 -1.125 10.6875 -1.125 Q9.46875 -1.125 8.59375 -0.34375 Q7.71875 0.4375 7.71875 1.70312\" id=\"Cmmi10-6d\"/>\n",
       "     <path d=\" M7.8125 2.875 Q9.57812 1.51562 12.7969 1.51562 Q15.9219 1.51562 18.3125 4.51562 Q20.7031 7.51562 21.5781 11.0781 L26.125 28.8125 Q27.2031 33.6406 27.2031 35.4062 Q27.2031 37.8906 25.8125 39.75 Q24.4219 41.6094 21.9219 41.6094 Q18.75 41.6094 15.9688 39.625 Q13.1875 37.6406 11.2812 34.5938 Q9.375 31.5469 8.59375 28.4219 Q8.40625 27.7812 7.8125 27.7812 L6.59375 27.7812 Q5.8125 27.7812 5.8125 28.7188 L5.8125 29 Q6.78125 32.7188 9.125 36.25 Q11.4688 39.7969 14.8594 41.9844 Q18.2656 44.1875 22.125 44.1875 Q25.7812 44.1875 28.7344 42.2344 Q31.6875 40.2812 32.9062 36.9219 Q34.625 39.9844 37.2812 42.0781 Q39.9375 44.1875 43.1094 44.1875 Q45.2656 44.1875 47.5 43.4219 Q49.75 42.6719 51.1719 41.1094 Q52.5938 39.5469 52.5938 37.2031 Q52.5938 34.6719 50.9531 32.8281 Q49.3125 31 46.7812 31 Q45.1719 31 44.0938 32.0312 Q43.0156 33.0625 43.0156 34.625 Q43.0156 36.7188 44.4531 38.2969 Q45.9062 39.8906 47.9062 40.1875 Q46.0938 41.6094 42.9219 41.6094 Q39.7031 41.6094 37.3281 38.625 Q34.9688 35.6406 33.9844 31.9844 L29.5938 14.3125 Q28.5156 10.2969 28.5156 7.71875 Q28.5156 5.17188 29.9531 3.34375 Q31.3906 1.51562 33.7969 1.51562 Q38.4844 1.51562 42.1562 5.64062 Q45.8438 9.76562 47.0156 14.7031 Q47.2188 15.2812 47.7969 15.2812 L49.0312 15.2812 Q49.4219 15.2812 49.6562 15.0156 Q49.9062 14.75 49.9062 14.4062 Q49.9062 14.3125 49.8125 14.1094 Q48.3906 8.15625 43.8438 3.51562 Q39.3125 -1.125 33.5938 -1.125 Q29.9375 -1.125 26.9844 0.84375 Q24.0312 2.82812 22.7969 6.20312 Q21.2344 3.26562 18.4688 1.0625 Q15.7188 -1.125 12.5938 -1.125 Q10.4531 -1.125 8.17188 -0.359375 Q5.90625 0.390625 4.48438 1.95312 Q3.07812 3.51562 3.07812 5.90625 Q3.07812 8.25 4.70312 10.1719 Q6.34375 12.1094 8.79688 12.1094 Q10.4531 12.1094 11.5781 11.1094 Q12.7031 10.1094 12.7031 8.5 Q12.7031 6.39062 11.2969 4.82812 Q9.90625 3.26562 7.8125 2.875\" id=\"Cmmi10-78\"/>\n",
       "     <path d=\" M18.7031 -1.125 Q14.2656 -1.125 10.8125 1 Q7.375 3.125 5.48438 6.73438 Q3.60938 10.3594 3.60938 14.7031 Q3.60938 19.3438 5.70312 24.4688 Q7.8125 29.5938 11.4531 33.8438 Q15.0938 38.0938 19.6719 40.5938 Q24.2656 43.1094 29.1094 43.1094 L54.2969 43.1094 Q55.3281 43.1094 56.0469 42.4219 Q56.7812 41.75 56.7812 40.5781 Q56.7812 39.1094 55.7344 38.0156 Q54.6875 36.9219 53.2188 36.9219 L41.0156 36.9219 Q43.8906 32.625 43.8906 26.5156 Q43.8906 21.4844 41.9375 16.5938 Q39.9844 11.7188 36.5156 7.6875 Q33.0625 3.65625 28.4375 1.26562 Q23.8281 -1.125 18.7031 -1.125 M18.7969 1.51562 Q24.2656 1.51562 28.4844 5.78125 Q32.7188 10.0625 34.9531 16.2344 Q37.2031 22.4062 37.2031 27.6875 Q37.2031 31.9844 34.8281 34.4531 Q32.4688 36.9219 28.2188 36.9219 Q22.4062 36.9219 18.3281 33.0156 Q14.2656 29.1094 12.2344 23.1875 Q10.2031 17.2812 10.2031 11.8125 Q10.2031 7.51562 12.4688 4.51562 Q14.75 1.51562 18.7969 1.51562\" id=\"Cmmi10-be\"/>\n",
       "     <path d=\" M7.51562 23 Q6.6875 23 6.14062 23.625 Q5.60938 24.2656 5.60938 25 Q5.60938 25.7344 6.14062 26.3594 Q6.6875 27 7.51562 27 L36.9219 27 L36.9219 56.5 Q36.9219 57.2812 37.5 57.7812 Q38.0938 58.2969 38.9219 58.2969 Q39.6562 58.2969 40.2812 57.7812 Q40.9219 57.2812 40.9219 56.5 L40.9219 27 L70.3125 27 Q71.0469 27 71.5781 26.3594 Q72.125 25.7344 72.125 25 Q72.125 24.2656 71.5781 23.625 Q71.0469 23 70.3125 23 L40.9219 23 L40.9219 -6.5 Q40.9219 -7.28125 40.2812 -7.78125 Q39.6562 -8.29688 38.9219 -8.29688 Q38.0938 -8.29688 37.5 -7.78125 Q36.9219 -7.28125 36.9219 -6.5 L36.9219 23 z \" id=\"Cmr10-2b\"/>\n",
       "     <path d=\" M4.98438 0 L4.98438 2.6875 Q4.98438 2.9375 5.17188 3.21875 L20.7031 20.4062 Q24.2188 24.2188 26.4062 26.7969 Q28.6094 29.3906 30.75 32.7656 Q32.9062 36.1406 34.1562 39.625 Q35.4062 43.1094 35.4062 47.0156 Q35.4062 51.125 33.8906 54.8594 Q32.375 58.5938 29.375 60.8438 Q26.375 63.0938 22.125 63.0938 Q17.7812 63.0938 14.3125 60.4688 Q10.8438 57.8594 9.42188 53.7188 Q9.8125 53.8125 10.5 53.8125 Q12.75 53.8125 14.3281 52.2969 Q15.9219 50.7812 15.9219 48.3906 Q15.9219 46.0938 14.3281 44.5 Q12.75 42.9219 10.5 42.9219 Q8.15625 42.9219 6.5625 44.5469 Q4.98438 46.1875 4.98438 48.3906 Q4.98438 52.1562 6.39062 55.4375 Q7.8125 58.7344 10.4688 61.2969 Q13.1406 63.875 16.4844 65.2344 Q19.8281 66.6094 23.5781 66.6094 Q29.2969 66.6094 34.2188 64.1875 Q39.1562 61.7656 42.0312 57.3438 Q44.9219 52.9375 44.9219 47.0156 Q44.9219 42.6719 43.0156 38.7656 Q41.1094 34.8594 38.125 31.6562 Q35.1562 28.4688 30.5156 24.4062 Q25.875 20.3594 24.4219 19 L13.0938 8.10938 L22.7031 8.10938 Q29.7812 8.10938 34.5469 8.21875 Q39.3125 8.34375 39.5938 8.59375 Q40.7656 9.85938 42 17.8281 L44.9219 17.8281 L42.0938 0 z \" id=\"Cmr10-32\"/>\n",
       "    </defs>\n",
       "    <g transform=\"translate(356.3 323.82)scale(0.1 -0.1)\">\n",
       "     <use transform=\"translate(0.0 0.8578124999999943)\" xlink:href=\"#Cmmi10-70\"/>\n",
       "     <use transform=\"translate(50.29296875 0.8578124999999943)\" xlink:href=\"#Cmr10-28\"/>\n",
       "     <use transform=\"translate(89.111328125 0.8578124999999943)\" xlink:href=\"#Cmmi10-79\"/>\n",
       "     <use transform=\"translate(138.134765625 0.8578124999999943)\" xlink:href=\"#Cmsy10-6a\"/>\n",
       "     <use transform=\"translate(165.8203125 0.8578124999999943)\" xlink:href=\"#Cmmi10-6d\"/>\n",
       "     <use transform=\"translate(253.61328125 0.8578124999999943)\" xlink:href=\"#Cmmi10-3b\"/>\n",
       "     <use transform=\"translate(283.28125 0.8578124999999943)\" xlink:href=\"#Cmmi10-63\"/>\n",
       "     <use transform=\"translate(326.494140625 0.8578124999999943)\" xlink:href=\"#Cmmi10-3b\"/>\n",
       "     <use transform=\"translate(356.162109375 0.8578124999999943)\" xlink:href=\"#Cmmi10-78\"/>\n",
       "     <use transform=\"translate(413.2421875 0.8578124999999943)\" xlink:href=\"#Cmmi10-3b\"/>\n",
       "     <use transform=\"translate(442.91015625 0.8578124999999943)\" xlink:href=\"#Cmmi10-be\"/>\n",
       "     <use transform=\"translate(499.990234375 43.373437499999994)scale(0.7)\" xlink:href=\"#Cmr10-32\"/>\n",
       "     <use transform=\"translate(566.996484375 0.8578124999999943)\" xlink:href=\"#Cmr10-29\"/>\n",
       "     <use transform=\"translate(623.3734375 0.8578124999999943)\" xlink:href=\"#Cmr10-3d\"/>\n",
       "     <use transform=\"translate(707.43203125 0.8578124999999943)\" xlink:href=\"#Cmsy10-4e\"/>\n",
       "     <use transform=\"translate(789.414453125 0.8578124999999943)\" xlink:href=\"#Cmr10-28\"/>\n",
       "     <use transform=\"translate(828.2328125 0.8578124999999943)\" xlink:href=\"#Cmmi10-79\"/>\n",
       "     <use transform=\"translate(877.25625 0.8578124999999943)\" xlink:href=\"#Cmsy10-6a\"/>\n",
       "     <use transform=\"translate(904.941796875 0.8578124999999943)\" xlink:href=\"#Cmmi10-6d\"/>\n",
       "     <use transform=\"translate(992.734765625 0.8578124999999943)\" xlink:href=\"#Cmmi10-78\"/>\n",
       "     <use transform=\"translate(1067.3734375 0.8578124999999943)\" xlink:href=\"#Cmr10-2b\"/>\n",
       "     <use transform=\"translate(1151.43203125 0.8578124999999943)\" xlink:href=\"#Cmmi10-63\"/>\n",
       "     <use transform=\"translate(1194.644921875 0.8578124999999943)\" xlink:href=\"#Cmmi10-3b\"/>\n",
       "     <use transform=\"translate(1224.312890625 0.8578124999999943)\" xlink:href=\"#Cmmi10-be\"/>\n",
       "     <use transform=\"translate(1281.39296875 43.373437499999994)scale(0.7)\" xlink:href=\"#Cmr10-32\"/>\n",
       "     <use transform=\"translate(1348.3992187499998 0.8578124999999943)\" xlink:href=\"#Cmr10-29\"/>\n",
       "    </g>\n",
       "   </g>\n",
       "  </g>\n",
       " </g>\n",
       " <defs>\n",
       "  <clipPath id=\"p41d7ee9abc\">\n",
       "   <rect height=\"390.6\" width=\"390.6\" x=\"63.0\" y=\"50.4\"/>\n",
       "  </clipPath>\n",
       " </defs>\n",
       "</svg>"
      ],
      "text/plain": [
       "<IPython.core.display.SVG object>"
      ]
     },
     "metadata": {},
     "output_type": "display_data"
    }
   ],
   "source": [
    "pods.notebook.display_plots('dem_gaussian{stage}.svg', './diagrams/', stage=(1, 3))"
   ]
  },
  {
   "cell_type": "markdown",
   "metadata": {
    "slideshow": {
     "slide_type": "slide"
    }
   },
   "source": [
    "### Stages to Derivation of the Posterior\n",
    "\n",
    "-   Multiply likelihood by prior\n",
    "\n",
    "    -   they are \"exponentiated quadratics\", the answer is always also\n",
    "        an exponentiated quadratic because\n",
    "        $$\\exp(a^2)\\exp(b^2) = \\exp(a^2 + b^2)$$\n",
    "\n",
    "-   Complete the square to get the resulting density in the form of\n",
    "    a Gaussian.\n",
    "\n",
    "-   Recognise the mean and (co)variance of the Gaussian. This is the\n",
    "    estimate of the posterior."
   ]
  },
  {
   "cell_type": "markdown",
   "metadata": {
    "slideshow": {
     "slide_type": "skip"
    }
   },
   "source": [
    "### Main Trick\n",
    "\n",
    "$$p(c) = \\frac{1}{\\sqrt{2\\pi\\alpha_1}} \\exp\\left(-\\frac{1}{2\\alpha_1}c^2\\right)$$\n",
    "$$p(\\mathbf{y}|\\mathbf{x}, c, m, \\sigma^2) = \\frac{1}{\\left(2\\pi\\sigma^2\\right)^{\\frac{n}{2}}} \\exp\\left(-\\frac{1}{2\\sigma^2}\\sum_{i=1}^n(y_i - mx_i - c)^2\\right)$$"
   ]
  },
  {
   "cell_type": "markdown",
   "metadata": {
    "slideshow": {
     "slide_type": "skip"
    }
   },
   "source": [
    "$$p(c| \\mathbf{y}, \\mathbf{x}, m, \\sigma^2) = \\frac{p(\\mathbf{y}|\\mathbf{x}, c, m, \\sigma^2)p(c)}{p(\\mathbf{y}|\\mathbf{x}, m, \\sigma^2)}$$\n",
    "\n",
    "$$p(c| \\mathbf{y}, \\mathbf{x}, m, \\sigma^2) =  \\frac{p(\\mathbf{y}|\\mathbf{x}, c, m, \\sigma^2)p(c)}{\\int p(\\mathbf{y}|\\mathbf{x}, c, m, \\sigma^2)p(c) \\text{d} c}$$"
   ]
  },
  {
   "cell_type": "markdown",
   "metadata": {
    "slideshow": {
     "slide_type": "skip"
    }
   },
   "source": [
    "$$p(c| \\mathbf{y}, \\mathbf{x}, m, \\sigma^2) \\propto  p(\\mathbf{y}|\\mathbf{x}, c, m, \\sigma^2)p(c)$$\n",
    "\n",
    "$$\\begin{aligned}\n",
    "    \\log p(c | \\mathbf{y}, \\mathbf{x}, m, \\sigma^2) =&-\\frac{1}{2\\sigma^2} \\sum_{i=1}^n(y_i-c - mx_i)^2-\\frac{1}{2\\alpha_1} c^2 + \\text{const}\\\\\n",
    "     = &-\\frac{1}{2\\sigma^2}\\sum_{i=1}^n(y_i-mx_i)^2 -\\left(\\frac{n}{2\\sigma^2} + \\frac{1}{2\\alpha_1}\\right)c^2\\\\\n",
    "    & + c\\frac{\\sum_{i=1}^n(y_i-mx_i)}{\\sigma^2},\n",
    "  \\end{aligned}$$"
   ]
  },
  {
   "cell_type": "markdown",
   "metadata": {
    "slideshow": {
     "slide_type": "skip"
    }
   },
   "source": [
    "complete the square of the quadratic form to obtain\n",
    "$$\\log p(c | \\mathbf{y}, \\mathbf{x}, m, \\sigma^2) = -\\frac{1}{2\\tau^2}(c - \\mu)^2 +\\text{const},$$\n",
    "where $\\tau^2 = \\left(n\\sigma^{-2} +\\alpha_1^{-1}\\right)^{-1}$\n",
    "and\n",
    "$\\mu = \\frac{\\tau^2}{\\sigma^2} \\sum_{i=1}^n(y_i-mx_i)$."
   ]
  },
  {
   "cell_type": "markdown",
   "metadata": {
    "slideshow": {
     "slide_type": "skip"
    }
   },
   "source": [
    "### The Joint Density\n",
    "\n",
    "-   Really want to know the *joint* posterior density over the\n",
    "    parameters $c$ *and* $m$.\n",
    "\n",
    "-   Could now integrate out over $m$, but it’s easier to consider the\n",
    "    multivariate case."
   ]
  },
  {
   "cell_type": "markdown",
   "metadata": {
    "slideshow": {
     "slide_type": "slide"
    }
   },
   "source": [
    "### Sampling a Function\n",
    "\n",
    "**Multi-variate Gaussians**\n",
    "\n",
    "* We will consider a Gaussian with a particular structure of covariance\n",
    "    matrix.\n",
    "* Generate a single sample from this 25 dimensional Gaussian distribution, $\\mathbf{f}=\\left[f_{1},f_{2}\\dots f_{25}\\right]$.\n",
    "\n",
    "* We will plot these points against their index.\n"
   ]
  },
  {
   "cell_type": "code",
   "execution_count": 30,
   "metadata": {
    "collapsed": false,
    "slideshow": {
     "slide_type": "skip"
    }
   },
   "outputs": [],
   "source": [
    "# %load -s compute_kernel mlai.py\n",
    "def compute_kernel(X, X2, kernel, **kwargs):\n",
    "    K = np.zeros((X.shape[0], X2.shape[0]))\n",
    "    for i in np.arange(X.shape[0]):\n",
    "        for j in np.arange(X2.shape[0]):\n",
    "            K[i, j] = kernel(X[i, :], X2[j, :], **kwargs)\n",
    "        \n",
    "    return K\n"
   ]
  },
  {
   "cell_type": "code",
   "execution_count": 31,
   "metadata": {
    "collapsed": true,
    "slideshow": {
     "slide_type": "skip"
    }
   },
   "outputs": [],
   "source": [
    "# %load -s exponentiated_quadratic mlai.py\n",
    "def exponentiated_quadratic(x, x_prime, variance=1., lengthscale=1.):\n",
    "    \"Exponentiated quadratic covariance function.\"\n",
    "    squared_distance = ((x-x_prime)**2).sum()\n",
    "    return variance*np.exp((-0.5*squared_distance)/lengthscale**2)        \n"
   ]
  },
  {
   "cell_type": "code",
   "execution_count": 32,
   "metadata": {
    "collapsed": false,
    "slideshow": {
     "slide_type": "skip"
    }
   },
   "outputs": [],
   "source": [
    "# %load -s plot_matrix plot.py\n",
    "def plot_matrix(A, ax=None,\n",
    "                bracket_width=3,\n",
    "                bracket_style='square',\n",
    "                type='values',\n",
    "                colormap=False,\n",
    "                highlight=False,\n",
    "                highlight_row=None,\n",
    "                highlight_col=None,\n",
    "                highlight_width=3,\n",
    "                highlight_color=[0,0,0],\n",
    "                zoom=False,\n",
    "                zoom_row=None,\n",
    "                zoom_col=None,\n",
    "                bracket_color=[0,0,0]):\n",
    "    \"\"\"Plot a matrix for visualisation in a slide or piece of text.\"\"\"\n",
    "    \n",
    "    if ax is None:\n",
    "        ax = plt.gca()\n",
    "        \n",
    "    nrows, ncols = A.shape\n",
    "    \n",
    "  \n",
    "    x_lim = np.array([-0.75, ncols-0.25])\n",
    "    y_lim = np.array([-0.75, nrows-0.25])\n",
    "  \n",
    "    ax.cla()\n",
    "    handle=[]\n",
    "    if type == 'image':\n",
    "        handle =  ax.matshow(A)\n",
    "    elif type == 'imagesc':\n",
    "        handle =  ax.images(A, [np.array([A.min(), 0]).min(), A.max()])\n",
    "    elif type == 'values':\n",
    "        for i in range(nrows):\n",
    "            for j in range(ncols):\n",
    "                handle.append(ax.text(j, i, str(A[i, j]), horizontalalignment='center'))\n",
    "    elif type == 'entries':\n",
    "        for i in range(nrows):\n",
    "            for j in range(ncols):\n",
    "                if isstr(A[i,j]):\n",
    "                    handle.append(ax.text(j, i, A[i, j], horizontalalignment='center'))\n",
    "                    \n",
    "                else:  \n",
    "                    handle.append(ax.text(j+1, i+1, ' ', horizontalalignment='center'))\n",
    "    elif type == 'patch':\n",
    "        for i in range(nrows):\n",
    "            for j in range(ncols):\n",
    "                handle.append(ax.add_patch(\n",
    "                    plt.Rectangle([i-0.5, j-0.5],\n",
    "                                  width=1., height=1.,\n",
    "                                  color=(A[i, j])*np.array([1, 1, 1]))))\n",
    "    elif type == 'colorpatch':\n",
    "        for i in range(nrows):\n",
    "            for j in range(ncols):\n",
    "                handle.append(ax.add_patch(\n",
    "                    plt.Rectangle([i-0.5, j-0.5],\n",
    "                                  width=1., height=1.,\n",
    "                                  color=np.array([A[i, j, 0],\n",
    "                                                  A[i, j, 1],\n",
    "                                                  A[i, j, 2]]))))\n",
    "                \n",
    "                \n",
    "    if bracket_style == 'boxes':\n",
    "        x_lim = np.array([-0.5, ncols-0.5])\n",
    "        ax.set_xlim(x_lim)\n",
    "        y_lim = np.array([-0.5, nrows-0.5])\n",
    "        ax.set_ylim(y_lim)\n",
    "        for i in range(nrows+1):\n",
    "            ax.add_line(plt.axhline(y=i-.5, #xmin=-0.5, xmax=ncols-0.5, \n",
    "                 color=bracket_color))\n",
    "        for j in range(ncols+1):\n",
    "            ax.add_line(plt.axvline(x=j-.5, #ymin=-0.5, ymax=nrows-0.5, \n",
    "                 color=bracket_color))\n",
    "    elif bracket_style == 'square':\n",
    "        tick_length = 0.25\n",
    "        ax.plot([x_lim[0]+tick_length,\n",
    "                     x_lim[0], x_lim[0],\n",
    "                     x_lim[0]+tick_length],\n",
    "                    [y_lim[0], y_lim[0],\n",
    "                     y_lim[1], y_lim[1]],\n",
    "                    linewidth=bracket_width,\n",
    "                    color=np.array(bracket_color))\n",
    "        ax.plot([x_lim[1]-tick_length, x_lim[1],\n",
    "                              x_lim[1], x_lim[1]-tick_length],\n",
    "                             [y_lim[0], y_lim[0], y_lim[1],\n",
    "                              y_lim[1]],\n",
    "                             linewidth=bracket_width, color=np.array(bracket_color))\n",
    "      \n",
    "    if highlight:       \n",
    "        h_row = highlight_row\n",
    "        h_col = highlight_col\n",
    "        if isinstance(h_row, str) and h_row == ':':\n",
    "            h_row = [0, nrows]\n",
    "        if isinstance(h_col, str) and h_col == ':':\n",
    "            h_col = [0, ncols]\n",
    "        if len(h_row) == 1:\n",
    "            h_row = [h_row, h_row]\n",
    "        if len(h_col) == 1:\n",
    "            h_col = [h_col, h_col]\n",
    "        h_col.sort()\n",
    "        h_row.sort()\n",
    "        ax.add_line(plt.Line2D([h_col[0]-0.5, h_col[0]-0.5,\n",
    "                              h_col[1]+0.5, h_col[1]+0.5,\n",
    "                              h_col[0]-0.5],\n",
    "                             [h_row[0]-0.5, h_row[1]+0.5,\n",
    "                              h_row[1]+0.5, h_row[0]-0.5,\n",
    "                              h_row[0]-0.5], color=highlight_color,\n",
    "                               linewidth=highlight_width))\n",
    "                    \n",
    "    if zoom:      \n",
    "        z_row = zoom_row\n",
    "        z_col = zoom_col\n",
    "        if isinstance(z_row, str) and z_row == ':':\n",
    "            z_row = [1, nrows]\n",
    "        if isinstance(z_col, str) and z_col == ':':\n",
    "            z_col = [1, ncols]\n",
    "        if len(z_row) == 1:\n",
    "            z_row = [z_row, z_row]\n",
    "        if len(z_col) == 1:\n",
    "            z_col = [z_col, z_col]\n",
    "        z_col.sort()\n",
    "        z_row.sort()\n",
    "        x_lim = [z_col[0]-0.5, z_col[1]+0.5]\n",
    "        y_lim = [z_row[0]-0.5, z_row[1]+0.5]\n",
    "\n",
    "    ax.set_xlim(x_lim)\n",
    "    ax.set_ylim(y_lim)\n",
    "    ax.set_aspect('equal')\n",
    "    ax.set_frame_on(False)\n",
    "    ax.set_xticks([])\n",
    "    ax.set_yticks([])\n",
    "    ax.invert_yaxis() #axis ij, axis equal, axis off\n",
    "\n",
    "    if colormap:\n",
    "        plt.colormap(obj=options.colormap) \n",
    "             \n",
    "    return handle \n"
   ]
  },
  {
   "cell_type": "code",
   "execution_count": 33,
   "metadata": {
    "collapsed": true,
    "slideshow": {
     "slide_type": "skip"
    }
   },
   "outputs": [],
   "source": [
    "# %load -s base_plot plot.py\n",
    "def base_plot(K, ind=[0, 1], ax=None,\n",
    "              contour_color=[0., 0., 1],\n",
    "              contour_style='-',\n",
    "              contour_size=4,\n",
    "              contour_markersize=4,\n",
    "              contour_marker='x',\n",
    "              fontsize=20):\n",
    "    \"\"\"\n",
    "    % BASEPLOT Plot the contour of the covariance.\n",
    "    % FORMAT\n",
    "    % DESC creates the basic plot.\n",
    "    % \"\"\"\n",
    "\n",
    "    blackcolor = [0,0,0]\n",
    "    if ax is None:\n",
    "        ax = plt.gca()\n",
    "    v, U = np.linalg.eig(K[ind][:, ind])\n",
    "    r = np.sqrt(v)\n",
    "    theta = np.linspace(0, 2*np.pi, 200)[:, None]\n",
    "    xy = np.dot(np.concatenate([r[0]*np.sin(theta), r[1]*np.cos(theta)], axis=1),U.T)\n",
    "    cont = plt.Line2D(xy[:, 0], xy[:, 1],\n",
    "                      linewidth=contour_size,\n",
    "                      linestyle=contour_style,\n",
    "                      color=contour_color)\n",
    "    cent = plt.Line2D([0.], [0.],\n",
    "                      marker=contour_marker,\n",
    "                      color=contour_color,\n",
    "                      linewidth=contour_size,\n",
    "                      markersize=contour_markersize)\n",
    "\n",
    "    ax.add_line(cont)\n",
    "    ax.add_line(cent)\n",
    "\n",
    "    thandle = []\n",
    "    thandle.append(ax.set_xlabel('$f_{' + str(ind[1]+1)+ '}$',\n",
    "                   fontsize=fontsize))\n",
    "    thandle.append(ax.set_ylabel('$f_{' + str(ind[0]+1)+ '}$',\n",
    "                   fontsize=fontsize))\n",
    "    \n",
    "    ax.set_xticks([-1, 0, 1])\n",
    "    ax.set_yticks([-1, 0, 1])\n",
    "    x_lim = [-1.5, 1.5]\n",
    "    y_lim = [-1.5, 1.5]\n",
    "    ax.set_xlim(x_lim)\n",
    "    ax.set_ylim(y_lim)\n",
    "    \n",
    "    ax.add_line(plt.Line2D(x_lim, [0, 0], color=blackcolor))\n",
    "    ax.add_line(plt.Line2D([0, 0], y_lim, color=blackcolor))\n",
    "\n",
    "    ax.set_aspect('equal')\n",
    "    #zeroAxes(gca, 0.025, 18, 'times')\n",
    "    \n",
    "    return cont, thandle, cent \n"
   ]
  },
  {
   "cell_type": "code",
   "execution_count": 34,
   "metadata": {
    "collapsed": true,
    "slideshow": {
     "slide_type": "skip"
    }
   },
   "outputs": [],
   "source": [
    "# %load -s plot_two_point_pred plot.py\n",
    "def plot_two_point_pred(K, f, x, ax=None, ind=[0, 1],\n",
    "                        conditional_linestyle = '-',\n",
    "                        conditional_linecolor = [1., 0., 0.],\n",
    "                        conditional_size = 4,\n",
    "                        fixed_linestyle = '-',\n",
    "                        fixed_linecolor = [0., 1., 0.],\n",
    "                        fixed_size = 4,stub=None, start=0):\n",
    "    \n",
    "    subK = K[ind][:, ind]\n",
    "    f = f[ind]\n",
    "    x = x[ind]\n",
    "\n",
    "    if ax is None:\n",
    "        ax = plt.gca()\n",
    "\n",
    "    cont, t, cent = base_plot(K, ind, ax=ax)\n",
    "    if stub is not None:\n",
    "        plt.savefig('./diagrams/' + stub + str(start) + '.svg')\n",
    "\n",
    "    x_lim = ax.get_xlim()\n",
    "    cont2 = plt.Line2D([x_lim[0], x_lim[1]], [f[0], f[0]], linewidth=fixed_size, linestyle=fixed_linestyle, color=fixed_linecolor)\n",
    "    ax.add_line(cont2)\n",
    "\n",
    "    if stub is not None:\n",
    "        plt.savefig('./diagrams/' + stub + str(start+1) + '.svg')\n",
    "\n",
    "    # # Compute conditional mean and variance\n",
    "    f2_mean = subK[0, 1]/subK[0, 0]*f[0]\n",
    "    f2_var = subK[1, 1] - subK[0, 1]/subK[0, 0]*subK[0, 1]\n",
    "    x_val = np.linspace(x_lim[0], x_lim[1], 200)\n",
    "    pdf_val = 1/np.sqrt(2*np.pi*f2_var)*np.exp(-0.5*(x_val-f2_mean)*(x_val-f2_mean)/f2_var)\n",
    "    pdf = plt.Line2D(x_val, pdf_val+f[0], linewidth=conditional_size, linestyle=conditional_linestyle, color=conditional_linecolor)\n",
    "    ax.add_line(pdf)\n",
    "    if stub is not None:\n",
    "        plt.savefig('./diagrams/' + stub + str(start+2) + '.svg')\n",
    "    \n",
    "    obs = plt.Line2D([f[1]], [f[0]], linewidth=10, markersize=10, color=fixed_linecolor, marker='o')\n",
    "    ax.add_line(obs)\n",
    "    if stub is not None:\n",
    "        plt.savefig('./diagrams/' + stub + str(start+3) + '.svg')\n",
    "    \n",
    "    # load gpdistfunc\n",
    "\n",
    "    #printLatexText(['\\mappingFunction_1=' numsf2str(f[0], 3)], 'inputValueF1.tex', '../../../gp/tex/diagrams')\n"
   ]
  },
  {
   "cell_type": "code",
   "execution_count": 35,
   "metadata": {
    "collapsed": true
   },
   "outputs": [],
   "source": [
    "# %load -s kern_circular_sample plot.py\n",
    "def kern_circular_sample(mu, K, filename=None, ax=None, num_samps=5, num_theta=200):\n",
    "\n",
    "    \"\"\"% KERNCIRCULARSAMPLE Sample from covariance in a circular way alla Hennig.\n",
    "    %\n",
    "    % FORMAT\n",
    "    % DESC samples from GP along elipses of equiprobability\n",
    "    % ARG mu : mean of GP.\n",
    "    % ARG K : covariance of GP.\n",
    "    % ARG num_samps : number of samples from the Gaussian process.\n",
    "    % RETURN includeText : the text used to include in latex.\n",
    "    %\n",
    "    % SEEALSO : kernCreate\n",
    "    %\n",
    "    % COPYRIGHT: Neil D. Lawrence, 2013\n",
    "    \n",
    "    % GPMAT\"\"\"\n",
    "\n",
    "    tau = 2*np.pi\n",
    "    n = K.shape[0]\n",
    "\n",
    "\n",
    "    R1 = np.random.normal(size=(n, num_samps))\n",
    "    U1 = np.dot(R1,np.diag(1/np.sqrt(np.sum(R1*R1, axis=0))))\n",
    "    R2 = np.random.normal(size=(n, num_samps))\n",
    "    R2 = R2 - np.dot(U1,np.diag(np.sum(R2*U1, axis=0)))\n",
    "    R2 = np.dot(R2,np.diag(np.sqrt(np.sum(R1*R1, axis=0))/np.sqrt(np.sum(R2*R2, axis=0))))\n",
    "    L = np.linalg.cholesky(K+np.diag(np.ones((n)))*1e-6)\n",
    "\n",
    "\n",
    "    from matplotlib import animation\n",
    "    x_lim = (0, 1)\n",
    "    y_lim = (-2, 2)\n",
    "    if ax is None:\n",
    "        ax = plt.axes(xlim=x_lim, ylim=y_lim)\n",
    "    else:\n",
    "        ax.set_xlim(x_lim)\n",
    "        ax.set_ylim(y_lim)\n",
    "    line = []\n",
    "    for i in range(num_samps):\n",
    "        l, = ax.plot([], [], lw=2)\n",
    "        line.append(l)\n",
    "        \n",
    "    # initialization function: plot the background of each frame\n",
    "    def init():\n",
    "        for i in range(num_samps):\n",
    "            line[i].set_data([], [])\n",
    "        return line,\n",
    "\n",
    "    # animation function.  This is called sequentially\n",
    "    def animate(i):\n",
    "        theta = float(i)/num_theta*tau\n",
    "        xc = np.cos(theta)\n",
    "        yc = np.sin(theta)\n",
    "        # generate 2d basis in t-d space\n",
    "        coord = xc*R1 + yc*R2\n",
    "        y = np.dot(L,coord)\n",
    "        x = np.linspace(0, 1, n)\n",
    "        for i in range(num_samps):\n",
    "            line[i].set_data(x, y[:, i])\n",
    "        return line,\n",
    "\n",
    "    # call the animator.  blit=True means only re-draw the parts that have changed.\n",
    "    anim = animation.FuncAnimation(fig, animate, init_func=init,\n",
    "                                   frames=num_theta, blit=True)\n",
    "    if filename is not None:\n",
    "        anim.save('./diagrams/' + filename, writer='imagemagick', fps=30)\n"
   ]
  },
  {
   "cell_type": "code",
   "execution_count": 36,
   "metadata": {
    "collapsed": false,
    "slideshow": {
     "slide_type": "skip"
    }
   },
   "outputs": [
    {
     "name": "stderr",
     "output_type": "stream",
     "text": [
      "/Users/neil/anaconda/lib/python3.4/site-packages/ipykernel/__main__.py:12: RuntimeWarning: covariance is not positive-semidefinite.\n"
     ]
    },
    {
     "data": {
      "image/png": "[encoded data removed]",
      "text/plain": [
       "<matplotlib.figure.Figure at 0x116f0ab00>"
      ]
     },
     "metadata": {},
     "output_type": "display_data"
    }
   ],
   "source": [
    "fig, ax = plt.subplots(nrows=1, ncols=2, figsize=((10,5)))\n",
    "hcolor = [1., 0., 1.]\n",
    "x = np.linspace(-1, 1, 25)[:, None]\n",
    "K = compute_kernel(x, x, exponentiated_quadratic, lengthscale=0.5)\n",
    "obj = plot_matrix(K, ax=ax[1], type='image')\n",
    "ax[1].set_xlabel('$i$',fontsize=16)\n",
    "ax[1].set_ylabel('$i^\\prime$',fontsize=16)\n",
    "#fig.colorbar(mappable=obj, ax=ax[1])\n",
    "#ax[1].set_axis('off')\n",
    "plt.savefig('./diagrams/dem_two_point_sample0.svg')\n",
    "\n",
    "f = np.random.multivariate_normal(np.zeros(25), K, size=1)\n",
    "ax[0].plot(range(1, 26), f.flatten(), 'o', markersize=5, linewidth=3, color=[1., 0., 0.])\n",
    "ax[0].set_xticks(range(1, 26, 2))\n",
    "ax[0].set_yticks([-2, -1, 0, 1, 2])\n",
    "ylim = [-2, 2]\n",
    "xlim = [0, 26]\n",
    "ax[0].set_ylim(ylim)\n",
    "ax[0].set_xlim(xlim)\n",
    "ax[0].set_xlabel('$i$', fontsize=20)\n",
    "ax[0].set_ylabel('$f$', fontsize=20)\n",
    "plt.savefig('./diagrams/dem_two_point_sample1.svg')\n",
    "\n",
    "ax[0].plot(np.array([1, 2]), [f[0,0], f[0,1]], 'o', markersize=10, linewidth=5, color=hcolor)\n",
    "plt.savefig('./diagrams/dem_two_point_sample2.svg')\n",
    "#plt.Circle?\n",
    "\n",
    "obj = plot_matrix(K, ax=ax[1], type='image', \n",
    "                  highlight=True, \n",
    "                  highlight_row=[0, 1], \n",
    "                  highlight_col=[0,1], \n",
    "                  highlight_color=hcolor)\n",
    "ax[1].set_xlabel('$i$',fontsize=16)\n",
    "ax[1].set_ylabel('$i^\\prime$',fontsize=16)\n",
    "plt.savefig('./diagrams/dem_two_point_sample3.svg')\n",
    "\n",
    "obj = plot_matrix(K, ax=ax[1], type='image', \n",
    "                  highlight=True, \n",
    "                  highlight_row=[0, 1], \n",
    "                  highlight_col=[0,1], \n",
    "                  highlight_color=hcolor,\n",
    "                  highlight_width=5,\n",
    "                 zoom=True,\n",
    "                 zoom_row=[0, 9],\n",
    "                 zoom_col=[0, 9])\n",
    "ax[1].set_xlabel('$i$',fontsize=16)\n",
    "ax[1].set_ylabel('$i^\\prime$',fontsize=16)\n",
    "plt.savefig('./diagrams/dem_two_point_sample4.svg')\n",
    "\n",
    "obj = plot_matrix(K, ax=ax[1], type='image', \n",
    "                  highlight=True, \n",
    "                  highlight_row=[0, 1], \n",
    "                  highlight_col=[0,1], \n",
    "                  highlight_color=hcolor,\n",
    "                  highlight_width=6,\n",
    "                 zoom=True,\n",
    "                 zoom_row=[0, 4],\n",
    "                 zoom_col=[0, 4])\n",
    "ax[1].set_xlabel('$i$',fontsize=16)\n",
    "ax[1].set_ylabel('$i^\\prime$',fontsize=16)\n",
    "plt.savefig('./diagrams/dem_two_point_sample5.svg')\n",
    "\n",
    "obj = plot_matrix(K, ax=ax[1], type='image', \n",
    "                  highlight=True, \n",
    "                  highlight_row=[0, 1], \n",
    "                  highlight_col=[0,1], \n",
    "                  highlight_color=hcolor,\n",
    "                  highlight_width=7,\n",
    "                 zoom=True,\n",
    "                 zoom_row=[0, 2],\n",
    "                 zoom_col=[0, 2])\n",
    "ax[1].set_xlabel('$i$',fontsize=16)\n",
    "ax[1].set_ylabel('$i^\\prime$',fontsize=16)\n",
    "plt.savefig('./diagrams/dem_two_point_sample6.svg')\n",
    "\n",
    "obj = plot_matrix(K, ax=ax[1], type='image', \n",
    "                  highlight=True, \n",
    "                  highlight_row=[0, 1], \n",
    "                  highlight_col=[0,1], \n",
    "                  highlight_color=hcolor,\n",
    "                  highlight_width=8,\n",
    "                 zoom=True,\n",
    "                 zoom_row=[0, 1],\n",
    "                 zoom_col=[0, 1])\n",
    "ax[1].set_xlabel('$i$',fontsize=16)\n",
    "ax[1].set_ylabel('$i^\\prime$',fontsize=16)\n",
    "plt.savefig('./diagrams/dem_two_point_sample7.svg')\n",
    "\n",
    "obj = plot_matrix(K[:2, :2], ax=ax[1], type='values')\n",
    "ax[1].set_xlabel('$i$',fontsize=16)\n",
    "ax[1].set_ylabel('$i^\\prime$',fontsize=16)\n",
    "plt.savefig('./diagrams/dem_two_point_sample8.svg')\n",
    "\n",
    "ax[0].cla()\n",
    "plot_two_point_pred(K, f.T, x, ax=ax[0],ind=[0, 1], stub='dem_two_point_sample', start=9)\n",
    "\n",
    "ax[0].cla()\n",
    "plot_two_point_pred(K, f.T, x, ax=ax[0],ind=[0, 4], stub='dem_two_point_sample', start=13)"
   ]
  },
  {
   "cell_type": "markdown",
   "metadata": {
    "slideshow": {
     "slide_type": "slide"
    }
   },
   "source": [
    "## Gaussian Samples"
   ]
  },
  {
   "cell_type": "code",
   "execution_count": 37,
   "metadata": {
    "collapsed": false,
    "slideshow": {
     "slide_type": "-"
    }
   },
   "outputs": [
    {
     "data": {
      "image/svg+xml": [
       "<svg height=\"360pt\" version=\"1.1\" viewBox=\"0 0 720 360\" width=\"720pt\" xmlns=\"http://www.w3.org/2000/svg\" xmlns:xlink=\"http://www.w3.org/1999/xlink\">\n",
       " <defs>\n",
       "  <style type=\"text/css\">\n",
       "*{stroke-linecap:butt;stroke-linejoin:round;}\n",
       "  </style>\n",
       " </defs>\n",
       " <g id=\"figure_1\">\n",
       "  <g id=\"patch_1\">\n",
       "   <path d=\" M0 360 L720 360 L720 0 L0 0 z \" style=\"fill:#ffffff;\"/>\n",
       "  </g>\n",
       "  <g id=\"axes_1\">\n",
       "   <g id=\"patch_2\">\n",
       "    <path d=\" M90 315 L343.636 315 L343.636 36 L90 36 z \" style=\"fill:#ffffff;\"/>\n",
       "   </g>\n",
       "   <g id=\"line2d_1\">\n",
       "    <defs>\n",
       "     <path d=\" M0 2.5 C0.663008 2.5 1.29895 2.23658 1.76777 1.76777 C2.23658 1.29895 2.5 0.663008 2.5 0 C2.5 -0.663008 2.23658 -1.29895 1.76777 -1.76777 C1.29895 -2.23658 0.663008 -2.5 0 -2.5 C-0.663008 -2.5 -1.29895 -2.23658 -1.76777 -1.76777 C-2.23658 -1.29895 -2.5 -0.663008 -2.5 0 C-2.5 0.663008 -2.23658 1.29895 -1.76777 1.76777 C-1.29895 2.23658 -0.663008 2.5 0 2.5 z \" id=\"me2f89de095\" style=\"stroke:#000000;stroke-width:0.5;\"/>\n",
       "    </defs>\n",
       "    <g clip-path=\"url(#p4bbcf401cb)\">\n",
       "     <use style=\"fill:#ff0000;stroke:#000000;stroke-width:0.5;\" x=\"99.7552447552\" xlink:href=\"#me2f89de095\" y=\"273.193043618\"/>\n",
       "     <use style=\"fill:#ff0000;stroke:#000000;stroke-width:0.5;\" x=\"109.51048951\" xlink:href=\"#me2f89de095\" y=\"260.590459816\"/>\n",
       "     <use style=\"fill:#ff0000;stroke:#000000;stroke-width:0.5;\" x=\"119.265734266\" xlink:href=\"#me2f89de095\" y=\"242.22161546\"/>\n",
       "     <use style=\"fill:#ff0000;stroke:#000000;stroke-width:0.5;\" x=\"129.020979021\" xlink:href=\"#me2f89de095\" y=\"219.398212753\"/>\n",
       "     <use style=\"fill:#ff0000;stroke:#000000;stroke-width:0.5;\" x=\"138.776223776\" xlink:href=\"#me2f89de095\" y=\"193.913641261\"/>\n",
       "     <use style=\"fill:#ff0000;stroke:#000000;stroke-width:0.5;\" x=\"148.531468531\" xlink:href=\"#me2f89de095\" y=\"167.777932132\"/>\n",
       "     <use style=\"fill:#ff0000;stroke:#000000;stroke-width:0.5;\" x=\"158.286713287\" xlink:href=\"#me2f89de095\" y=\"142.991942581\"/>\n",
       "     <use style=\"fill:#ff0000;stroke:#000000;stroke-width:0.5;\" x=\"168.041958042\" xlink:href=\"#me2f89de095\" y=\"121.375946231\"/>\n",
       "     <use style=\"fill:#ff0000;stroke:#000000;stroke-width:0.5;\" x=\"177.797202797\" xlink:href=\"#me2f89de095\" y=\"104.430171377\"/>\n",
       "     <use style=\"fill:#ff0000;stroke:#000000;stroke-width:0.5;\" x=\"187.552447552\" xlink:href=\"#me2f89de095\" y=\"93.1978113568\"/>\n",
       "     <use style=\"fill:#ff0000;stroke:#000000;stroke-width:0.5;\" x=\"197.307692308\" xlink:href=\"#me2f89de095\" y=\"88.125826642\"/>\n",
       "     <use style=\"fill:#ff0000;stroke:#000000;stroke-width:0.5;\" x=\"207.062937063\" xlink:href=\"#me2f89de095\" y=\"88.9559608106\"/>\n",
       "     <use style=\"fill:#ff0000;stroke:#000000;stroke-width:0.5;\" x=\"216.818181818\" xlink:href=\"#me2f89de095\" y=\"94.7008629482\"/>\n",
       "     <use style=\"fill:#ff0000;stroke:#000000;stroke-width:0.5;\" x=\"226.573426573\" xlink:href=\"#me2f89de095\" y=\"103.750270838\"/>\n",
       "     <use style=\"fill:#ff0000;stroke:#000000;stroke-width:0.5;\" x=\"236.328671329\" xlink:href=\"#me2f89de095\" y=\"114.112256212\"/>\n",
       "     <use style=\"fill:#ff0000;stroke:#000000;stroke-width:0.5;\" x=\"246.083916084\" xlink:href=\"#me2f89de095\" y=\"123.744458329\"/>\n",
       "     <use style=\"fill:#ff0000;stroke:#000000;stroke-width:0.5;\" x=\"255.839160839\" xlink:href=\"#me2f89de095\" y=\"130.89508022\"/>\n",
       "     <use style=\"fill:#ff0000;stroke:#000000;stroke-width:0.5;\" x=\"265.594405594\" xlink:href=\"#me2f89de095\" y=\"134.369214636\"/>\n",
       "     <use style=\"fill:#ff0000;stroke:#000000;stroke-width:0.5;\" x=\"275.34965035\" xlink:href=\"#me2f89de095\" y=\"133.662326306\"/>\n",
       "     <use style=\"fill:#ff0000;stroke:#000000;stroke-width:0.5;\" x=\"285.104895105\" xlink:href=\"#me2f89de095\" y=\"128.945496075\"/>\n",
       "     <use style=\"fill:#ff0000;stroke:#000000;stroke-width:0.5;\" x=\"294.86013986\" xlink:href=\"#me2f89de095\" y=\"120.927970404\"/>\n",
       "     <use style=\"fill:#ff0000;stroke:#000000;stroke-width:0.5;\" x=\"304.615384615\" xlink:href=\"#me2f89de095\" y=\"110.648004792\"/>\n",
       "     <use style=\"fill:#ff0000;stroke:#000000;stroke-width:0.5;\" x=\"314.370629371\" xlink:href=\"#me2f89de095\" y=\"99.2489587962\"/>\n",
       "     <use style=\"fill:#ff0000;stroke:#000000;stroke-width:0.5;\" x=\"324.125874126\" xlink:href=\"#me2f89de095\" y=\"87.7877827002\"/>\n",
       "     <use style=\"fill:#ff0000;stroke:#000000;stroke-width:0.5;\" x=\"333.881118881\" xlink:href=\"#me2f89de095\" y=\"77.1054685449\"/>\n",
       "    </g>\n",
       "   </g>\n",
       "   <g id=\"line2d_2\">\n",
       "    <defs>\n",
       "     <path d=\" M0 5 C1.32602 5 2.5979 4.47317 3.53553 3.53553 C4.47317 2.5979 5 1.32602 5 0 C5 -1.32602 4.47317 -2.5979 3.53553 -3.53553 C2.5979 -4.47317 1.32602 -5 0 -5 C-1.32602 -5 -2.5979 -4.47317 -3.53553 -3.53553 C-4.47317 -2.5979 -5 -1.32602 -5 0 C-5 1.32602 -4.47317 2.5979 -3.53553 3.53553 C-2.5979 4.47317 -1.32602 5 0 5 z \" id=\"m5922a062bb\" style=\"stroke:#000000;stroke-width:0.5;\"/>\n",
       "    </defs>\n",
       "    <g clip-path=\"url(#p4bbcf401cb)\">\n",
       "     <use style=\"fill:#ff00ff;stroke:#000000;stroke-width:0.5;\" x=\"99.7552447552\" xlink:href=\"#m5922a062bb\" y=\"273.193043618\"/>\n",
       "     <use style=\"fill:#ff00ff;stroke:#000000;stroke-width:0.5;\" x=\"109.51048951\" xlink:href=\"#m5922a062bb\" y=\"260.590459816\"/>\n",
       "    </g>\n",
       "   </g>\n",
       "   <g id=\"patch_3\">\n",
       "    <path d=\" M90 315 L343.636 315\" style=\"fill:none;stroke:#000000;stroke-linecap:square;stroke-linejoin:miter;\"/>\n",
       "   </g>\n",
       "   <g id=\"patch_4\">\n",
       "    <path d=\" M343.636 315 L343.636 36\" style=\"fill:none;stroke:#000000;stroke-linecap:square;stroke-linejoin:miter;\"/>\n",
       "   </g>\n",
       "   <g id=\"patch_5\">\n",
       "    <path d=\" M90 36 L343.636 36\" style=\"fill:none;stroke:#000000;stroke-linecap:square;stroke-linejoin:miter;\"/>\n",
       "   </g>\n",
       "   <g id=\"patch_6\">\n",
       "    <path d=\" M90 315 L90 36\" style=\"fill:none;stroke:#000000;stroke-linecap:square;stroke-linejoin:miter;\"/>\n",
       "   </g>\n",
       "   <g id=\"matplotlib.axis_1\">\n",
       "    <g id=\"xtick_1\">\n",
       "     <g id=\"line2d_3\">\n",
       "      <defs>\n",
       "       <path d=\" M0 0 L0 -4\" id=\"mc7db9fdffb\" style=\"stroke:#000000;stroke-width:0.5;\"/>\n",
       "      </defs>\n",
       "      <g>\n",
       "       <use style=\"stroke:#000000;stroke-width:0.5;\" x=\"99.7552447552\" xlink:href=\"#mc7db9fdffb\" y=\"315.0\"/>\n",
       "      </g>\n",
       "     </g>\n",
       "     <g id=\"line2d_4\">\n",
       "      <defs>\n",
       "       <path d=\" M0 0 L0 4\" id=\"m5a7d422ac3\" style=\"stroke:#000000;stroke-width:0.5;\"/>\n",
       "      </defs>\n",
       "      <g>\n",
       "       <use style=\"stroke:#000000;stroke-width:0.5;\" x=\"99.7552447552\" xlink:href=\"#m5a7d422ac3\" y=\"36.0\"/>\n",
       "      </g>\n",
       "     </g>\n",
       "     <g id=\"text_1\">\n",
       "      <!-- 1 -->\n",
       "      <defs>\n",
       "       <path d=\" M12.4062 8.29688 L28.5156 8.29688 L28.5156 63.9219 L10.9844 60.4062 L10.9844 69.3906 L28.4219 72.9062 L38.2812 72.9062 L38.2812 8.29688 L54.3906 8.29688 L54.3906 0 L12.4062 0 z \" id=\"BitstreamVeraSans-Roman-31\"/>\n",
       "      </defs>\n",
       "      <g transform=\"translate(97.5849322552 326.5984375)scale(0.1 -0.1)\">\n",
       "       <use xlink:href=\"#BitstreamVeraSans-Roman-31\"/>\n",
       "      </g>\n",
       "     </g>\n",
       "    </g>\n",
       "    <g id=\"xtick_2\">\n",
       "     <g id=\"line2d_5\">\n",
       "      <g>\n",
       "       <use style=\"stroke:#000000;stroke-width:0.5;\" x=\"119.265734266\" xlink:href=\"#mc7db9fdffb\" y=\"315.0\"/>\n",
       "      </g>\n",
       "     </g>\n",
       "     <g id=\"line2d_6\">\n",
       "      <g>\n",
       "       <use style=\"stroke:#000000;stroke-width:0.5;\" x=\"119.265734266\" xlink:href=\"#m5a7d422ac3\" y=\"36.0\"/>\n",
       "      </g>\n",
       "     </g>\n",
       "     <g id=\"text_2\">\n",
       "      <!-- 3 -->\n",
       "      <defs>\n",
       "       <path d=\" M40.5781 39.3125 Q47.6562 37.7969 51.625 33 Q55.6094 28.2188 55.6094 21.1875 Q55.6094 10.4062 48.1875 4.48438 Q40.7656 -1.42188 27.0938 -1.42188 Q22.5156 -1.42188 17.6562 -0.515625 Q12.7969 0.390625 7.625 2.20312 L7.625 11.7188 Q11.7188 9.32812 16.5938 8.10938 Q21.4844 6.89062 26.8125 6.89062 Q36.0781 6.89062 40.9375 10.5469 Q45.7969 14.2031 45.7969 21.1875 Q45.7969 27.6406 41.2812 31.2656 Q36.7656 34.9062 28.7188 34.9062 L20.2188 34.9062 L20.2188 43.0156 L29.1094 43.0156 Q36.375 43.0156 40.2344 45.9219 Q44.0938 48.8281 44.0938 54.2969 Q44.0938 59.9062 40.1094 62.9062 Q36.1406 65.9219 28.7188 65.9219 Q24.6562 65.9219 20.0156 65.0312 Q15.375 64.1562 9.8125 62.3125 L9.8125 71.0938 Q15.4375 72.6562 20.3438 73.4375 Q25.25 74.2188 29.5938 74.2188 Q40.8281 74.2188 47.3594 69.1094 Q53.9062 64.0156 53.9062 55.3281 Q53.9062 49.2656 50.4375 45.0938 Q46.9688 40.9219 40.5781 39.3125\" id=\"BitstreamVeraSans-Roman-33\"/>\n",
       "      </defs>\n",
       "      <g transform=\"translate(116.866515516 326.5984375)scale(0.1 -0.1)\">\n",
       "       <use xlink:href=\"#BitstreamVeraSans-Roman-33\"/>\n",
       "      </g>\n",
       "     </g>\n",
       "    </g>\n",
       "    <g id=\"xtick_3\">\n",
       "     <g id=\"line2d_7\">\n",
       "      <g>\n",
       "       <use style=\"stroke:#000000;stroke-width:0.5;\" x=\"138.776223776\" xlink:href=\"#mc7db9fdffb\" y=\"315.0\"/>\n",
       "      </g>\n",
       "     </g>\n",
       "     <g id=\"line2d_8\">\n",
       "      <g>\n",
       "       <use style=\"stroke:#000000;stroke-width:0.5;\" x=\"138.776223776\" xlink:href=\"#m5a7d422ac3\" y=\"36.0\"/>\n",
       "      </g>\n",
       "     </g>\n",
       "     <g id=\"text_3\">\n",
       "      <!-- 5 -->\n",
       "      <defs>\n",
       "       <path d=\" M10.7969 72.9062 L49.5156 72.9062 L49.5156 64.5938 L19.8281 64.5938 L19.8281 46.7344 Q21.9688 47.4688 24.1094 47.8281 Q26.2656 48.1875 28.4219 48.1875 Q40.625 48.1875 47.75 41.5 Q54.8906 34.8125 54.8906 23.3906 Q54.8906 11.625 47.5625 5.09375 Q40.2344 -1.42188 26.9062 -1.42188 Q22.3125 -1.42188 17.5469 -0.640625 Q12.7969 0.140625 7.71875 1.70312 L7.71875 11.625 Q12.1094 9.23438 16.7969 8.0625 Q21.4844 6.89062 26.7031 6.89062 Q35.1562 6.89062 40.0781 11.3281 Q45.0156 15.7656 45.0156 23.3906 Q45.0156 31 40.0781 35.4375 Q35.1562 39.8906 26.7031 39.8906 Q22.75 39.8906 18.8125 39.0156 Q14.8906 38.1406 10.7969 36.2812 z \" id=\"BitstreamVeraSans-Roman-35\"/>\n",
       "      </defs>\n",
       "      <g transform=\"translate(136.417630026 326.5984375)scale(0.1 -0.1)\">\n",
       "       <use xlink:href=\"#BitstreamVeraSans-Roman-35\"/>\n",
       "      </g>\n",
       "     </g>\n",
       "    </g>\n",
       "    <g id=\"xtick_4\">\n",
       "     <g id=\"line2d_9\">\n",
       "      <g>\n",
       "       <use style=\"stroke:#000000;stroke-width:0.5;\" x=\"158.286713287\" xlink:href=\"#mc7db9fdffb\" y=\"315.0\"/>\n",
       "      </g>\n",
       "     </g>\n",
       "     <g id=\"line2d_10\">\n",
       "      <g>\n",
       "       <use style=\"stroke:#000000;stroke-width:0.5;\" x=\"158.286713287\" xlink:href=\"#m5a7d422ac3\" y=\"36.0\"/>\n",
       "      </g>\n",
       "     </g>\n",
       "     <g id=\"text_4\">\n",
       "      <!-- 7 -->\n",
       "      <defs>\n",
       "       <path d=\" M8.20312 72.9062 L55.0781 72.9062 L55.0781 68.7031 L28.6094 0 L18.3125 0 L43.2188 64.5938 L8.20312 64.5938 z \" id=\"BitstreamVeraSans-Roman-37\"/>\n",
       "      </defs>\n",
       "      <g transform=\"translate(155.942963287 326.5984375)scale(0.1 -0.1)\">\n",
       "       <use xlink:href=\"#BitstreamVeraSans-Roman-37\"/>\n",
       "      </g>\n",
       "     </g>\n",
       "    </g>\n",
       "    <g id=\"xtick_5\">\n",
       "     <g id=\"line2d_11\">\n",
       "      <g>\n",
       "       <use style=\"stroke:#000000;stroke-width:0.5;\" x=\"177.797202797\" xlink:href=\"#mc7db9fdffb\" y=\"315.0\"/>\n",
       "      </g>\n",
       "     </g>\n",
       "     <g id=\"line2d_12\">\n",
       "      <g>\n",
       "       <use style=\"stroke:#000000;stroke-width:0.5;\" x=\"177.797202797\" xlink:href=\"#m5a7d422ac3\" y=\"36.0\"/>\n",
       "      </g>\n",
       "     </g>\n",
       "     <g id=\"text_5\">\n",
       "      <!-- 9 -->\n",
       "      <defs>\n",
       "       <path d=\" M10.9844 1.51562 L10.9844 10.5 Q14.7031 8.73438 18.5 7.8125 Q22.3125 6.89062 25.9844 6.89062 Q35.75 6.89062 40.8906 13.4531 Q46.0469 20.0156 46.7812 33.4062 Q43.9531 29.2031 39.5938 26.9531 Q35.25 24.7031 29.9844 24.7031 Q19.0469 24.7031 12.6719 31.3125 Q6.29688 37.9375 6.29688 49.4219 Q6.29688 60.6406 12.9375 67.4219 Q19.5781 74.2188 30.6094 74.2188 Q43.2656 74.2188 49.9219 64.5156 Q56.5938 54.8281 56.5938 36.375 Q56.5938 19.1406 48.4062 8.85938 Q40.2344 -1.42188 26.4219 -1.42188 Q22.7031 -1.42188 18.8906 -0.6875 Q15.0938 0.046875 10.9844 1.51562 M30.6094 32.4219 Q37.25 32.4219 41.125 36.9531 Q45.0156 41.5 45.0156 49.4219 Q45.0156 57.2812 41.125 61.8438 Q37.25 66.4062 30.6094 66.4062 Q23.9688 66.4062 20.0938 61.8438 Q16.2188 57.2812 16.2188 49.4219 Q16.2188 41.5 20.0938 36.9531 Q23.9688 32.4219 30.6094 32.4219\" id=\"BitstreamVeraSans-Roman-39\"/>\n",
       "      </defs>\n",
       "      <g transform=\"translate(175.282359047 326.5984375)scale(0.1 -0.1)\">\n",
       "       <use xlink:href=\"#BitstreamVeraSans-Roman-39\"/>\n",
       "      </g>\n",
       "     </g>\n",
       "    </g>\n",
       "    <g id=\"xtick_6\">\n",
       "     <g id=\"line2d_13\">\n",
       "      <g>\n",
       "       <use style=\"stroke:#000000;stroke-width:0.5;\" x=\"197.307692308\" xlink:href=\"#mc7db9fdffb\" y=\"315.0\"/>\n",
       "      </g>\n",
       "     </g>\n",
       "     <g id=\"line2d_14\">\n",
       "      <g>\n",
       "       <use style=\"stroke:#000000;stroke-width:0.5;\" x=\"197.307692308\" xlink:href=\"#m5a7d422ac3\" y=\"36.0\"/>\n",
       "      </g>\n",
       "     </g>\n",
       "     <g id=\"text_6\">\n",
       "      <!-- 11 -->\n",
       "      <g transform=\"translate(191.956129808 326.5984375)scale(0.1 -0.1)\">\n",
       "       <use xlink:href=\"#BitstreamVeraSans-Roman-31\"/>\n",
       "       <use x=\"63.623046875\" xlink:href=\"#BitstreamVeraSans-Roman-31\"/>\n",
       "      </g>\n",
       "     </g>\n",
       "    </g>\n",
       "    <g id=\"xtick_7\">\n",
       "     <g id=\"line2d_15\">\n",
       "      <g>\n",
       "       <use style=\"stroke:#000000;stroke-width:0.5;\" x=\"216.818181818\" xlink:href=\"#mc7db9fdffb\" y=\"315.0\"/>\n",
       "      </g>\n",
       "     </g>\n",
       "     <g id=\"line2d_16\">\n",
       "      <g>\n",
       "       <use style=\"stroke:#000000;stroke-width:0.5;\" x=\"216.818181818\" xlink:href=\"#m5a7d422ac3\" y=\"36.0\"/>\n",
       "      </g>\n",
       "     </g>\n",
       "     <g id=\"text_7\">\n",
       "      <!-- 13 -->\n",
       "      <g transform=\"translate(211.405681818 326.5984375)scale(0.1 -0.1)\">\n",
       "       <use xlink:href=\"#BitstreamVeraSans-Roman-31\"/>\n",
       "       <use x=\"63.623046875\" xlink:href=\"#BitstreamVeraSans-Roman-33\"/>\n",
       "      </g>\n",
       "     </g>\n",
       "    </g>\n",
       "    <g id=\"xtick_8\">\n",
       "     <g id=\"line2d_17\">\n",
       "      <g>\n",
       "       <use style=\"stroke:#000000;stroke-width:0.5;\" x=\"236.328671329\" xlink:href=\"#mc7db9fdffb\" y=\"315.0\"/>\n",
       "      </g>\n",
       "     </g>\n",
       "     <g id=\"line2d_18\">\n",
       "      <g>\n",
       "       <use style=\"stroke:#000000;stroke-width:0.5;\" x=\"236.328671329\" xlink:href=\"#m5a7d422ac3\" y=\"36.0\"/>\n",
       "      </g>\n",
       "     </g>\n",
       "     <g id=\"text_8\">\n",
       "      <!-- 15 -->\n",
       "      <g transform=\"translate(230.952108829 326.5984375)scale(0.1 -0.1)\">\n",
       "       <use xlink:href=\"#BitstreamVeraSans-Roman-31\"/>\n",
       "       <use x=\"63.623046875\" xlink:href=\"#BitstreamVeraSans-Roman-35\"/>\n",
       "      </g>\n",
       "     </g>\n",
       "    </g>\n",
       "    <g id=\"xtick_9\">\n",
       "     <g id=\"line2d_19\">\n",
       "      <g>\n",
       "       <use style=\"stroke:#000000;stroke-width:0.5;\" x=\"255.839160839\" xlink:href=\"#mc7db9fdffb\" y=\"315.0\"/>\n",
       "      </g>\n",
       "     </g>\n",
       "     <g id=\"line2d_20\">\n",
       "      <g>\n",
       "       <use style=\"stroke:#000000;stroke-width:0.5;\" x=\"255.839160839\" xlink:href=\"#m5a7d422ac3\" y=\"36.0\"/>\n",
       "      </g>\n",
       "     </g>\n",
       "     <g id=\"text_9\">\n",
       "      <!-- 17 -->\n",
       "      <g transform=\"translate(250.453223339 326.5984375)scale(0.1 -0.1)\">\n",
       "       <use xlink:href=\"#BitstreamVeraSans-Roman-31\"/>\n",
       "       <use x=\"63.623046875\" xlink:href=\"#BitstreamVeraSans-Roman-37\"/>\n",
       "      </g>\n",
       "     </g>\n",
       "    </g>\n",
       "    <g id=\"xtick_10\">\n",
       "     <g id=\"line2d_21\">\n",
       "      <g>\n",
       "       <use style=\"stroke:#000000;stroke-width:0.5;\" x=\"275.34965035\" xlink:href=\"#mc7db9fdffb\" y=\"315.0\"/>\n",
       "      </g>\n",
       "     </g>\n",
       "     <g id=\"line2d_22\">\n",
       "      <g>\n",
       "       <use style=\"stroke:#000000;stroke-width:0.5;\" x=\"275.34965035\" xlink:href=\"#m5a7d422ac3\" y=\"36.0\"/>\n",
       "      </g>\n",
       "     </g>\n",
       "     <g id=\"text_10\">\n",
       "      <!-- 19 -->\n",
       "      <g transform=\"translate(269.8879316 326.5984375)scale(0.1 -0.1)\">\n",
       "       <use xlink:href=\"#BitstreamVeraSans-Roman-31\"/>\n",
       "       <use x=\"63.623046875\" xlink:href=\"#BitstreamVeraSans-Roman-39\"/>\n",
       "      </g>\n",
       "     </g>\n",
       "    </g>\n",
       "    <g id=\"xtick_11\">\n",
       "     <g id=\"line2d_23\">\n",
       "      <g>\n",
       "       <use style=\"stroke:#000000;stroke-width:0.5;\" x=\"294.86013986\" xlink:href=\"#mc7db9fdffb\" y=\"315.0\"/>\n",
       "      </g>\n",
       "     </g>\n",
       "     <g id=\"line2d_24\">\n",
       "      <g>\n",
       "       <use style=\"stroke:#000000;stroke-width:0.5;\" x=\"294.86013986\" xlink:href=\"#m5a7d422ac3\" y=\"36.0\"/>\n",
       "      </g>\n",
       "     </g>\n",
       "     <g id=\"text_11\">\n",
       "      <!-- 21 -->\n",
       "      <defs>\n",
       "       <path d=\" M19.1875 8.29688 L53.6094 8.29688 L53.6094 0 L7.32812 0 L7.32812 8.29688 Q12.9375 14.1094 22.625 23.8906 Q32.3281 33.6875 34.8125 36.5312 Q39.5469 41.8438 41.4219 45.5312 Q43.3125 49.2188 43.3125 52.7812 Q43.3125 58.5938 39.2344 62.25 Q35.1562 65.9219 28.6094 65.9219 Q23.9688 65.9219 18.8125 64.3125 Q13.6719 62.7031 7.8125 59.4219 L7.8125 69.3906 Q13.7656 71.7812 18.9375 73 Q24.125 74.2188 28.4219 74.2188 Q39.75 74.2188 46.4844 68.5469 Q53.2188 62.8906 53.2188 53.4219 Q53.2188 48.9219 51.5312 44.8906 Q49.8594 40.875 45.4062 35.4062 Q44.1875 33.9844 37.6406 27.2188 Q31.1094 20.4531 19.1875 8.29688\" id=\"BitstreamVeraSans-Roman-32\"/>\n",
       "      </defs>\n",
       "      <g transform=\"translate(289.32576486 326.5984375)scale(0.1 -0.1)\">\n",
       "       <use xlink:href=\"#BitstreamVeraSans-Roman-32\"/>\n",
       "       <use x=\"63.623046875\" xlink:href=\"#BitstreamVeraSans-Roman-31\"/>\n",
       "      </g>\n",
       "     </g>\n",
       "    </g>\n",
       "    <g id=\"xtick_12\">\n",
       "     <g id=\"line2d_25\">\n",
       "      <g>\n",
       "       <use style=\"stroke:#000000;stroke-width:0.5;\" x=\"314.370629371\" xlink:href=\"#mc7db9fdffb\" y=\"315.0\"/>\n",
       "      </g>\n",
       "     </g>\n",
       "     <g id=\"line2d_26\">\n",
       "      <g>\n",
       "       <use style=\"stroke:#000000;stroke-width:0.5;\" x=\"314.370629371\" xlink:href=\"#m5a7d422ac3\" y=\"36.0\"/>\n",
       "      </g>\n",
       "     </g>\n",
       "     <g id=\"text_12\">\n",
       "      <!-- 23 -->\n",
       "      <g transform=\"translate(308.775316871 326.5984375)scale(0.1 -0.1)\">\n",
       "       <use xlink:href=\"#BitstreamVeraSans-Roman-32\"/>\n",
       "       <use x=\"63.623046875\" xlink:href=\"#BitstreamVeraSans-Roman-33\"/>\n",
       "      </g>\n",
       "     </g>\n",
       "    </g>\n",
       "    <g id=\"xtick_13\">\n",
       "     <g id=\"line2d_27\">\n",
       "      <g>\n",
       "       <use style=\"stroke:#000000;stroke-width:0.5;\" x=\"333.881118881\" xlink:href=\"#mc7db9fdffb\" y=\"315.0\"/>\n",
       "      </g>\n",
       "     </g>\n",
       "     <g id=\"line2d_28\">\n",
       "      <g>\n",
       "       <use style=\"stroke:#000000;stroke-width:0.5;\" x=\"333.881118881\" xlink:href=\"#m5a7d422ac3\" y=\"36.0\"/>\n",
       "      </g>\n",
       "     </g>\n",
       "     <g id=\"text_13\">\n",
       "      <!-- 25 -->\n",
       "      <g transform=\"translate(328.321743881 326.5984375)scale(0.1 -0.1)\">\n",
       "       <use xlink:href=\"#BitstreamVeraSans-Roman-32\"/>\n",
       "       <use x=\"63.623046875\" xlink:href=\"#BitstreamVeraSans-Roman-35\"/>\n",
       "      </g>\n",
       "     </g>\n",
       "    </g>\n",
       "    <g id=\"text_14\">\n",
       "     <!-- $i$ -->\n",
       "     <defs>\n",
       "      <path d=\" M7.8125 7.17188 Q7.8125 9.03125 8.59375 11.0781 L16.7031 32.625 Q18.0156 36.2812 18.0156 38.625 Q18.0156 41.6094 15.8281 41.6094 Q11.8594 41.6094 9.29688 37.5312 Q6.73438 33.4531 5.51562 28.4219 Q5.32812 27.7812 4.6875 27.7812 L3.51562 27.7812 Q2.6875 27.7812 2.6875 28.7188 L2.6875 29 Q4.29688 34.9688 7.60938 39.5781 Q10.9375 44.1875 16.0156 44.1875 Q19.5781 44.1875 22.0469 41.8438 Q24.5156 39.5 24.5156 35.8906 Q24.5156 34.0312 23.6875 31.9844 L15.5781 10.5 Q14.2031 7.17188 14.2031 4.5 Q14.2031 1.51562 16.5 1.51562 Q20.4062 1.51562 23.0156 5.6875 Q25.6406 9.85938 26.7031 14.7031 Q26.9062 15.2812 27.4844 15.2812 L28.7188 15.2812 Q29.1094 15.2812 29.3438 15.0156 Q29.5938 14.75 29.5938 14.4062 Q29.5938 14.3125 29.5 14.1094 Q28.125 8.45312 24.7344 3.65625 Q21.3438 -1.125 16.3125 -1.125 Q12.7969 -1.125 10.2969 1.29688 Q7.8125 3.71875 7.8125 7.17188 M19.0938 60.5938 Q19.0938 62.7031 20.8438 64.4062 Q22.6094 66.1094 24.7031 66.1094 Q26.4219 66.1094 27.5156 65.0625 Q28.6094 64.0156 28.6094 62.4062 Q28.6094 60.1562 26.8281 58.4688 Q25.0469 56.7812 22.9062 56.7812 Q21.2969 56.7812 20.1875 57.875 Q19.0938 58.9844 19.0938 60.5938\" id=\"Cmmi10-69\"/>\n",
       "     </defs>\n",
       "     <g transform=\"translate(213.318181818 348.875)scale(0.2 -0.2)\">\n",
       "      <use transform=\"translate(0.0 0.890625)\" xlink:href=\"#Cmmi10-69\"/>\n",
       "     </g>\n",
       "    </g>\n",
       "   </g>\n",
       "   <g id=\"matplotlib.axis_2\">\n",
       "    <g id=\"ytick_1\">\n",
       "     <g id=\"line2d_29\">\n",
       "      <defs>\n",
       "       <path d=\" M0 0 L4 0\" id=\"md7965d1ba0\" style=\"stroke:#000000;stroke-width:0.5;\"/>\n",
       "      </defs>\n",
       "      <g>\n",
       "       <use style=\"stroke:#000000;stroke-width:0.5;\" x=\"90.0\" xlink:href=\"#md7965d1ba0\" y=\"315.0\"/>\n",
       "      </g>\n",
       "     </g>\n",
       "     <g id=\"line2d_30\">\n",
       "      <defs>\n",
       "       <path d=\" M0 0 L-4 0\" id=\"md9a1c1a7cd\" style=\"stroke:#000000;stroke-width:0.5;\"/>\n",
       "      </defs>\n",
       "      <g>\n",
       "       <use style=\"stroke:#000000;stroke-width:0.5;\" x=\"343.636363636\" xlink:href=\"#md9a1c1a7cd\" y=\"315.0\"/>\n",
       "      </g>\n",
       "     </g>\n",
       "     <g id=\"text_15\">\n",
       "      <!-- −2 -->\n",
       "      <defs>\n",
       "       <path d=\" M10.5938 35.5 L73.1875 35.5 L73.1875 27.2031 L10.5938 27.2031 z \" id=\"BitstreamVeraSans-Roman-2212\"/>\n",
       "      </defs>\n",
       "      <g transform=\"translate(73.31875 317.759375)scale(0.1 -0.1)\">\n",
       "       <use xlink:href=\"#BitstreamVeraSans-Roman-2212\"/>\n",
       "       <use x=\"83.7890625\" xlink:href=\"#BitstreamVeraSans-Roman-32\"/>\n",
       "      </g>\n",
       "     </g>\n",
       "    </g>\n",
       "    <g id=\"ytick_2\">\n",
       "     <g id=\"line2d_31\">\n",
       "      <g>\n",
       "       <use style=\"stroke:#000000;stroke-width:0.5;\" x=\"90.0\" xlink:href=\"#md7965d1ba0\" y=\"245.25\"/>\n",
       "      </g>\n",
       "     </g>\n",
       "     <g id=\"line2d_32\">\n",
       "      <g>\n",
       "       <use style=\"stroke:#000000;stroke-width:0.5;\" x=\"343.636363636\" xlink:href=\"#md9a1c1a7cd\" y=\"245.25\"/>\n",
       "      </g>\n",
       "     </g>\n",
       "     <g id=\"text_16\">\n",
       "      <!-- −1 -->\n",
       "      <g transform=\"translate(73.240625 248.009375)scale(0.1 -0.1)\">\n",
       "       <use xlink:href=\"#BitstreamVeraSans-Roman-2212\"/>\n",
       "       <use x=\"83.7890625\" xlink:href=\"#BitstreamVeraSans-Roman-31\"/>\n",
       "      </g>\n",
       "     </g>\n",
       "    </g>\n",
       "    <g id=\"ytick_3\">\n",
       "     <g id=\"line2d_33\">\n",
       "      <g>\n",
       "       <use style=\"stroke:#000000;stroke-width:0.5;\" x=\"90.0\" xlink:href=\"#md7965d1ba0\" y=\"175.5\"/>\n",
       "      </g>\n",
       "     </g>\n",
       "     <g id=\"line2d_34\">\n",
       "      <g>\n",
       "       <use style=\"stroke:#000000;stroke-width:0.5;\" x=\"343.636363636\" xlink:href=\"#md9a1c1a7cd\" y=\"175.5\"/>\n",
       "      </g>\n",
       "     </g>\n",
       "     <g id=\"text_17\">\n",
       "      <!-- 0 -->\n",
       "      <defs>\n",
       "       <path d=\" M31.7812 66.4062 Q24.1719 66.4062 20.3281 58.9062 Q16.5 51.4219 16.5 36.375 Q16.5 21.3906 20.3281 13.8906 Q24.1719 6.39062 31.7812 6.39062 Q39.4531 6.39062 43.2812 13.8906 Q47.125 21.3906 47.125 36.375 Q47.125 51.4219 43.2812 58.9062 Q39.4531 66.4062 31.7812 66.4062 M31.7812 74.2188 Q44.0469 74.2188 50.5156 64.5156 Q56.9844 54.8281 56.9844 36.375 Q56.9844 17.9688 50.5156 8.26562 Q44.0469 -1.42188 31.7812 -1.42188 Q19.5312 -1.42188 13.0625 8.26562 Q6.59375 17.9688 6.59375 36.375 Q6.59375 54.8281 13.0625 64.5156 Q19.5312 74.2188 31.7812 74.2188\" id=\"BitstreamVeraSans-Roman-30\"/>\n",
       "      </defs>\n",
       "      <g transform=\"translate(80.9609375 178.259375)scale(0.1 -0.1)\">\n",
       "       <use xlink:href=\"#BitstreamVeraSans-Roman-30\"/>\n",
       "      </g>\n",
       "     </g>\n",
       "    </g>\n",
       "    <g id=\"ytick_4\">\n",
       "     <g id=\"line2d_35\">\n",
       "      <g>\n",
       "       <use style=\"stroke:#000000;stroke-width:0.5;\" x=\"90.0\" xlink:href=\"#md7965d1ba0\" y=\"105.75\"/>\n",
       "      </g>\n",
       "     </g>\n",
       "     <g id=\"line2d_36\">\n",
       "      <g>\n",
       "       <use style=\"stroke:#000000;stroke-width:0.5;\" x=\"343.636363636\" xlink:href=\"#md9a1c1a7cd\" y=\"105.75\"/>\n",
       "      </g>\n",
       "     </g>\n",
       "     <g id=\"text_18\">\n",
       "      <!-- 1 -->\n",
       "      <g transform=\"translate(81.659375 108.509375)scale(0.1 -0.1)\">\n",
       "       <use xlink:href=\"#BitstreamVeraSans-Roman-31\"/>\n",
       "      </g>\n",
       "     </g>\n",
       "    </g>\n",
       "    <g id=\"ytick_5\">\n",
       "     <g id=\"line2d_37\">\n",
       "      <g>\n",
       "       <use style=\"stroke:#000000;stroke-width:0.5;\" x=\"90.0\" xlink:href=\"#md7965d1ba0\" y=\"36.0\"/>\n",
       "      </g>\n",
       "     </g>\n",
       "     <g id=\"line2d_38\">\n",
       "      <g>\n",
       "       <use style=\"stroke:#000000;stroke-width:0.5;\" x=\"343.636363636\" xlink:href=\"#md9a1c1a7cd\" y=\"36.0\"/>\n",
       "      </g>\n",
       "     </g>\n",
       "     <g id=\"text_19\">\n",
       "      <!-- 2 -->\n",
       "      <g transform=\"translate(81.371875 38.759375)scale(0.1 -0.1)\">\n",
       "       <use xlink:href=\"#BitstreamVeraSans-Roman-32\"/>\n",
       "      </g>\n",
       "     </g>\n",
       "    </g>\n",
       "    <g id=\"text_20\">\n",
       "     <!-- $f$ -->\n",
       "     <defs>\n",
       "      <path d=\" M9.71875 -16.5 Q11.5781 -17.9219 14.2031 -17.9219 Q17.7812 -17.9219 20.0156 -10.0156 Q20.9531 -6.20312 25.0938 15.0938 L29.6875 39.5938 L21.0938 39.5938 Q20.125 39.5938 20.125 40.9219 Q20.5156 43.1094 21.3906 43.1094 L30.3281 43.1094 L31.5 49.6094 Q32.0781 52.6406 32.5625 54.8125 Q33.0625 56.9844 33.625 58.8281 Q34.1875 60.6875 35.2969 62.9844 Q37.0156 66.2656 39.9219 68.3906 Q42.8281 70.5156 46.1875 70.5156 Q48.3906 70.5156 50.4688 69.7031 Q52.5469 68.8906 53.8594 67.2812 Q55.1719 65.6719 55.1719 63.4844 Q55.1719 60.9375 53.4844 59.0469 Q51.8125 57.1719 49.4219 57.1719 Q47.7969 57.1719 46.6562 58.1719 Q45.5156 59.1875 45.5156 60.7969 Q45.5156 62.9844 47 64.625 Q48.4844 66.2656 50.6875 66.5 Q48.8281 67.9219 46.0938 67.9219 Q44.5781 67.9219 43.2344 66.5 Q41.8906 65.0938 41.5 63.4844 Q40.875 60.9375 38.7188 49.7031 L37.5 43.1094 L47.7969 43.1094 Q48.7812 43.1094 48.7812 41.7969 Q48.7344 41.5469 48.5781 40.9375 Q48.4375 40.3281 48.1719 39.9531 Q47.9062 39.5938 47.5156 39.5938 L36.8125 39.5938 L32.1719 15.1875 Q31.2969 9.85938 30.1406 4.35938 Q29 -1.125 26.9219 -6.90625 Q24.8594 -12.7031 21.625 -16.6094 Q18.4062 -20.5156 14.0156 -20.5156 Q10.6406 -20.5156 7.98438 -18.5781 Q5.32812 -16.6562 5.32812 -13.4844 Q5.32812 -10.9375 6.95312 -9.04688 Q8.59375 -7.17188 11.0781 -7.17188 Q12.75 -7.17188 13.8594 -8.17188 Q14.9844 -9.1875 14.9844 -10.7969 Q14.9844 -12.9375 13.3906 -14.7188 Q11.8125 -16.5 9.71875 -16.5\" id=\"Cmmi10-66\"/>\n",
       "     </defs>\n",
       "     <g transform=\"translate(64.040625 180.4)rotate(-90.0)scale(0.2 -0.2)\">\n",
       "      <use transform=\"translate(0.0 0.484375)\" xlink:href=\"#Cmmi10-66\"/>\n",
       "     </g>\n",
       "    </g>\n",
       "   </g>\n",
       "  </g>\n",
       "  <g id=\"axes_2\">\n",
       "   <g clip-path=\"url(#pf6dab5210c)\">\n",
       "    <image height=\"254.0\" id=\"imagec29bba9f4d\" width=\"255.0\" x=\"394.363636364\" xlink:href=\"data:image/png;base64, iVBORw0KGgoAAAANSUhEUgAAAP8AAAD+CAYAAAD1VNNvAAAABHNCSVQICAgIfAhkiAAAAyJJREFUeJzt1UENAgEQBMGD8D4npxGR5wQDYIJkk+0qBfPpzON9HN+DvzqnByx0TQ9Y6Dk9AJghfogSP0SJH6LED1HihyjxQ5T4IUr8ECV+iBI/RIkfosQPUeKHKPFDlPghSvwQJX6IEj9EiR+ixA9R4oco8UOU+CFK/BAlfogSP0SJH6LED1HihyjxQ5T4IUr8ECV+iBI/RIkfosQPUeKHKPFDlPghSvwQJX6IEj9EiR+ixA9R4oco8UOU+CFK/BAlfogSP0SJH6LED1HihyjxQ5T4IUr8ECV+iBI/RIkfosQPUeKHKPFDlPghSvwQJX6IEj9EiR+ixA9R4oco8UOU+CFK/BAlfogSP0SJH6LED1HihyjxQ5T4IUr8ECV+iBI/RIkfol7n9IKFPtMDFrqnByzk+SFK/BAlfogSP0SJH6LED1HihyjxQ5T4IUr8ECV+iBI/RIkfosQPUeKHKPFDlPghSvwQJX6IEj9EiR+ixA9R4oco8UOU+CFK/BAlfogSP0SJH6LED1HihyjxQ5T4IUr8ECV+iBI/RIkfosQPUeKHKPFDlPghSvwQJX6IEj9EiR+ixA9R4oco8UOU+CFK/BAlfogSP0SJH6LED1HihyjxQ5T4IUr8ECV+iBI/RIkfosQPUeKHKPFDlPghSvwQJX6IEj9EiR+ixA9R4oco8UOU+CFK/BAlfogSP0SJH6LED1HihyjxQ5T4IUr8ECV+iHpd0wsWuqcHLPSZHrCQ54co8UOU+CFK/BAlfogSP0SJH6LED1HihyjxQ5T4IUr8ECV+iBI/RIkfosQPUeKHKPFDlPghSvwQJX6IEj9EiR+ixA9R4oco8UOU+CFK/BAlfogSP0SJH6LED1HihyjxQ5T4IUr8ECV+iBI/RIkfosQPUeKHKPFDlPghSvwQJX6IEj9EiR+ixA9R4oco8UOU+CFK/BAlfogSP0SJH6LED1HihyjxQ5T4IUr8ECV+iBI/RIkfosQPUeKHKPFDlPghSvwQJX6IEj9EiR+ixA9R4oco8UOU+CFK/BAlfogSP0SJH6LED1HihyjxQ5T4IUr8EPUDigIHfvqlF8EAAAAASUVORK5CYII=\" y=\"48.3181818182\"/>\n",
       "   </g>\n",
       "   <g id=\"line2d_39\">\n",
       "    <path clip-path=\"url(#pf6dab5210c)\" d=\" M394.364 27.5455 L373.227 27.5455 L373.227 361\" style=\"fill:none;stroke:#000000;stroke-linecap:square;stroke-width:3;\"/>\n",
       "   </g>\n",
       "   <g id=\"line2d_40\">\n",
       "    <path clip-path=\"url(#pf6dab5210c)\" d=\" M2508 27.5455\" style=\"fill:none;stroke:#000000;stroke-linecap:square;stroke-width:3;\"/>\n",
       "   </g>\n",
       "   <g id=\"line2d_41\">\n",
       "    <path clip-path=\"url(#pf6dab5210c)\" d=\" M394.364 48.6818 L394.364 217.773 L563.455 217.773 L563.455 48.6818 L394.364 48.6818\" style=\"fill:none;stroke:#ff00ff;stroke-linecap:square;stroke-width:7;\"/>\n",
       "   </g>\n",
       "   <g id=\"matplotlib.axis_3\">\n",
       "    <g id=\"text_21\">\n",
       "     <!-- $i$ -->\n",
       "     <g transform=\"translate(518.381818182 319.475681818)scale(0.16 -0.16)\">\n",
       "      <use transform=\"translate(0.0 0.890625)\" xlink:href=\"#Cmmi10-69\"/>\n",
       "     </g>\n",
       "    </g>\n",
       "   </g>\n",
       "   <g id=\"matplotlib.axis_4\">\n",
       "    <g id=\"text_22\">\n",
       "     <!-- $i^\\prime$ -->\n",
       "     <defs>\n",
       "      <path d=\" M3.51562 5.42188 Q2.875 5.60938 2.875 6.39062 L15.0938 51.8125 Q15.6719 53.6562 17.0781 54.7812 Q18.5 55.9062 20.3125 55.9062 Q22.6562 55.9062 24.4375 54.3594 Q26.2188 52.8281 26.2188 50.4844 Q26.2188 49.4688 25.6875 48.1875 L7.625 4.98438 Q7.28125 4.29688 6.6875 4.29688 Q6.15625 4.29688 5 4.78125 Q3.85938 5.28125 3.51562 5.42188\" id=\"Cmsy10-30\"/>\n",
       "     </defs>\n",
       "     <g transform=\"translate(386.036136364 181.82)rotate(-90.0)scale(0.16 -0.16)\">\n",
       "      <use transform=\"translate(0.0 0.3499999999999943)\" xlink:href=\"#Cmmi10-69\"/>\n",
       "      <use transform=\"translate(34.423828125 42.865624999999994)scale(0.7)\" xlink:href=\"#Cmsy10-30\"/>\n",
       "     </g>\n",
       "    </g>\n",
       "   </g>\n",
       "  </g>\n",
       " </g>\n",
       " <defs>\n",
       "  <clipPath id=\"pf6dab5210c\">\n",
       "   <rect height=\"253.636363636\" width=\"253.636363636\" x=\"394.363636364\" y=\"48.6818181818\"/>\n",
       "  </clipPath>\n",
       "  <clipPath id=\"p4bbcf401cb\">\n",
       "   <rect height=\"279.0\" width=\"253.636363636\" x=\"90.0\" y=\"36.0\"/>\n",
       "  </clipPath>\n",
       " </defs>\n",
       "</svg>"
      ],
      "text/plain": [
       "<IPython.core.display.SVG object>"
      ]
     },
     "metadata": {},
     "output_type": "display_data"
    }
   ],
   "source": [
    "pods.notebook.display_plots('dem_two_point_sample{sample}.svg', './diagrams/', sample=(0,12))"
   ]
  },
  {
   "cell_type": "markdown",
   "metadata": {
    "slideshow": {
     "slide_type": "slide"
    }
   },
   "source": [
    "<img src=\"https://upload.wikimedia.org/wikipedia/commons/thumb/3/3e/Uluru_Panorama.jpg/799px-Uluru_Panorama.jpg\" alignment='center'>"
   ]
  },
  {
   "cell_type": "markdown",
   "metadata": {
    "slideshow": {
     "slide_type": "slide"
    }
   },
   "source": [
    "## Prediction with Correlated Gaussians\n",
    "  * Prediction of $f_2$ from $f_1$ requires *conditional density*.\n",
    "  * Conditional density is *also* Gaussian.\n",
    "    $$\n",
    "    p(f_2|f_1) = \\mathcal{N}\\left(f_2|\\frac{k_{1, 2}}{k_{1, 1}}f_1, k_{2, 2} - \\frac{k_{1,2}^2}{k_{1,1}}\\right)\n",
    "    $$\n",
    "    where covariance of joint density is given by\n",
    "    $$\n",
    "    \\mathbf{K} = \\begin{bmatrix} k_{1, 1} & k_{1, 2}\\\\ k_{2, 1} & k_{2, 2}\\end{bmatrix}\n",
    "    $$"
   ]
  },
  {
   "cell_type": "markdown",
   "metadata": {
    "slideshow": {
     "slide_type": "slide"
    }
   },
   "source": [
    "## Gaussian Samples"
   ]
  },
  {
   "cell_type": "code",
   "execution_count": 38,
   "metadata": {
    "collapsed": false,
    "scrolled": true,
    "slideshow": {
     "slide_type": "-"
    }
   },
   "outputs": [
    {
     "data": {
      "image/svg+xml": [
       "<svg height=\"360pt\" version=\"1.1\" viewBox=\"0 0 720 360\" width=\"720pt\" xmlns=\"http://www.w3.org/2000/svg\" xmlns:xlink=\"http://www.w3.org/1999/xlink\">\n",
       " <defs>\n",
       "  <style type=\"text/css\">\n",
       "*{stroke-linecap:butt;stroke-linejoin:round;}\n",
       "  </style>\n",
       " </defs>\n",
       " <g id=\"figure_1\">\n",
       "  <g id=\"patch_1\">\n",
       "   <path d=\" M0 360 L720 360 L720 0 L0 0 z \" style=\"fill:#ffffff;\"/>\n",
       "  </g>\n",
       "  <g id=\"axes_1\">\n",
       "   <g id=\"patch_2\">\n",
       "    <path d=\" M90 302.318 L343.636 302.318 L343.636 48.6818 L90 48.6818 z \" style=\"fill:#ffffff;\"/>\n",
       "   </g>\n",
       "   <g id=\"line2d_1\">\n",
       "    <path clip-path=\"url(#p327466bd2e)\" d=\" M190.132 148.814 L192.678 146.294 L195.248 143.804 L200.449 138.921 L205.716 134.184 L211.028 129.612 L216.362 125.222 L221.698 121.033 L227.015 117.061 L232.291 113.322 L237.505 109.831 L242.637 106.601 L247.666 103.646 L252.572 100.978 L257.335 98.6068 L261.937 96.542 L266.359 94.792 L270.584 93.3637 L274.594 92.2629 L278.374 91.4938 L281.909 91.0596 L285.184 90.962 L288.187 91.2014 L290.905 91.7769 L293.327 92.6861 L295.445 93.9254 L296.387 94.6673 L297.25 95.4899 L298.032 96.3921 L298.733 97.3733 L299.891 99.5682 L300.717 102.066 L301.208 104.856 L301.363 107.928 L301.182 111.269 L300.663 114.866 L299.811 118.705 L298.628 122.771 L297.119 127.046 L295.289 131.515 L293.147 136.159 L290.7 140.96 L287.959 145.899 L284.935 150.955 L281.639 156.11 L278.084 161.342 L274.285 166.63 L270.258 171.953 L266.017 177.291 L261.58 182.621 L256.964 187.924 L252.189 193.176 L247.273 198.358 L242.235 203.449 L237.096 208.429 L231.876 213.277 L226.596 217.975 L221.277 222.504 L215.94 226.845 L210.607 230.981 L205.298 234.896 L200.036 238.575 L194.84 242.002 L189.732 245.164 L184.732 248.048 L179.86 250.643 L175.135 252.938 L170.576 254.925 L166.202 256.595 L162.029 257.942 L158.075 258.961 L154.355 259.646 L150.884 259.996 L147.676 260.01 L144.743 259.686 L142.098 259.027 L139.75 258.035 L137.71 256.714 L136.808 255.931 L135.986 255.069 L135.244 254.127 L134.004 252.009 L133.095 249.587 L132.52 246.868 L132.28 243.866 L132.378 240.591 L132.812 237.056 L133.581 233.276 L134.682 229.266 L136.11 225.041 L137.86 220.619 L139.925 216.017 L142.296 211.254 L144.965 206.348 L147.919 201.319 L151.149 196.187 L154.64 190.972 L158.379 185.696 L162.351 180.38 L166.54 175.044 L170.93 169.709 L175.502 164.398 L180.24 159.131 L185.123 153.929 L190.132 148.814 L190.132 148.814\" style=\"fill:none;stroke:#0000ff;stroke-linecap:square;stroke-width:4;\"/>\n",
       "   </g>\n",
       "   <g id=\"line2d_2\">\n",
       "    <path clip-path=\"url(#p327466bd2e)\" d=\" M216.818 175.5\" style=\"fill:none;stroke:#0000ff;stroke-linecap:square;stroke-width:4;\"/>\n",
       "    <defs>\n",
       "     <path d=\" M-2 2 L2 -2 M-2 -2 L2 2\" id=\"mf17e2e6b86\" style=\"stroke:#0000ff;stroke-width:0.5;\"/>\n",
       "    </defs>\n",
       "    <g clip-path=\"url(#p327466bd2e)\">\n",
       "     <use style=\"fill:#0000ff;stroke:#0000ff;stroke-width:0.5;\" x=\"216.818181818\" xlink:href=\"#mf17e2e6b86\" y=\"175.5\"/>\n",
       "    </g>\n",
       "   </g>\n",
       "   <g id=\"line2d_3\">\n",
       "    <path clip-path=\"url(#p327466bd2e)\" d=\" M90 175.5 L343.636 175.5\" style=\"fill:none;stroke:#000000;stroke-linecap:square;\"/>\n",
       "   </g>\n",
       "   <g id=\"line2d_4\">\n",
       "    <path clip-path=\"url(#p327466bd2e)\" d=\" M216.818 302.318 L216.818 48.6818\" style=\"fill:none;stroke:#000000;stroke-linecap:square;\"/>\n",
       "   </g>\n",
       "   <g id=\"line2d_5\">\n",
       "    <path clip-path=\"url(#p327466bd2e)\" d=\" M90 293.916 L343.636 293.916\" style=\"fill:none;stroke:#00ff00;stroke-linecap:square;stroke-width:4;\"/>\n",
       "   </g>\n",
       "   <g id=\"patch_3\">\n",
       "    <path d=\" M90 302.318 L343.636 302.318\" style=\"fill:none;stroke:#000000;stroke-linecap:square;stroke-linejoin:miter;\"/>\n",
       "   </g>\n",
       "   <g id=\"patch_4\">\n",
       "    <path d=\" M343.636 302.318 L343.636 48.6818\" style=\"fill:none;stroke:#000000;stroke-linecap:square;stroke-linejoin:miter;\"/>\n",
       "   </g>\n",
       "   <g id=\"patch_5\">\n",
       "    <path d=\" M90 48.6818 L343.636 48.6818\" style=\"fill:none;stroke:#000000;stroke-linecap:square;stroke-linejoin:miter;\"/>\n",
       "   </g>\n",
       "   <g id=\"patch_6\">\n",
       "    <path d=\" M90 302.318 L90 48.6818\" style=\"fill:none;stroke:#000000;stroke-linecap:square;stroke-linejoin:miter;\"/>\n",
       "   </g>\n",
       "   <g id=\"matplotlib.axis_1\">\n",
       "    <g id=\"xtick_1\">\n",
       "     <g id=\"line2d_6\">\n",
       "      <defs>\n",
       "       <path d=\" M0 0 L0 -4\" id=\"mc7db9fdffb\" style=\"stroke:#000000;stroke-width:0.5;\"/>\n",
       "      </defs>\n",
       "      <g>\n",
       "       <use style=\"stroke:#000000;stroke-width:0.5;\" x=\"132.272727273\" xlink:href=\"#mc7db9fdffb\" y=\"302.318181818\"/>\n",
       "      </g>\n",
       "     </g>\n",
       "     <g id=\"line2d_7\">\n",
       "      <defs>\n",
       "       <path d=\" M0 0 L0 4\" id=\"m5a7d422ac3\" style=\"stroke:#000000;stroke-width:0.5;\"/>\n",
       "      </defs>\n",
       "      <g>\n",
       "       <use style=\"stroke:#000000;stroke-width:0.5;\" x=\"132.272727273\" xlink:href=\"#m5a7d422ac3\" y=\"48.6818181818\"/>\n",
       "      </g>\n",
       "     </g>\n",
       "     <g id=\"text_1\">\n",
       "      <!-- −1 -->\n",
       "      <defs>\n",
       "       <path d=\" M10.5938 35.5 L73.1875 35.5 L73.1875 27.2031 L10.5938 27.2031 z \" id=\"BitstreamVeraSans-Roman-2212\"/>\n",
       "       <path d=\" M12.4062 8.29688 L28.5156 8.29688 L28.5156 63.9219 L10.9844 60.4062 L10.9844 69.3906 L28.4219 72.9062 L38.2812 72.9062 L38.2812 8.29688 L54.3906 8.29688 L54.3906 0 L12.4062 0 z \" id=\"BitstreamVeraSans-Roman-31\"/>\n",
       "      </defs>\n",
       "      <g transform=\"translate(125.893039773 313.916619318)scale(0.1 -0.1)\">\n",
       "       <use xlink:href=\"#BitstreamVeraSans-Roman-2212\"/>\n",
       "       <use x=\"83.7890625\" xlink:href=\"#BitstreamVeraSans-Roman-31\"/>\n",
       "      </g>\n",
       "     </g>\n",
       "    </g>\n",
       "    <g id=\"xtick_2\">\n",
       "     <g id=\"line2d_8\">\n",
       "      <g>\n",
       "       <use style=\"stroke:#000000;stroke-width:0.5;\" x=\"216.818181818\" xlink:href=\"#mc7db9fdffb\" y=\"302.318181818\"/>\n",
       "      </g>\n",
       "     </g>\n",
       "     <g id=\"line2d_9\">\n",
       "      <g>\n",
       "       <use style=\"stroke:#000000;stroke-width:0.5;\" x=\"216.818181818\" xlink:href=\"#m5a7d422ac3\" y=\"48.6818181818\"/>\n",
       "      </g>\n",
       "     </g>\n",
       "     <g id=\"text_2\">\n",
       "      <!-- 0 -->\n",
       "      <defs>\n",
       "       <path d=\" M31.7812 66.4062 Q24.1719 66.4062 20.3281 58.9062 Q16.5 51.4219 16.5 36.375 Q16.5 21.3906 20.3281 13.8906 Q24.1719 6.39062 31.7812 6.39062 Q39.4531 6.39062 43.2812 13.8906 Q47.125 21.3906 47.125 36.375 Q47.125 51.4219 43.2812 58.9062 Q39.4531 66.4062 31.7812 66.4062 M31.7812 74.2188 Q44.0469 74.2188 50.5156 64.5156 Q56.9844 54.8281 56.9844 36.375 Q56.9844 17.9688 50.5156 8.26562 Q44.0469 -1.42188 31.7812 -1.42188 Q19.5312 -1.42188 13.0625 8.26562 Q6.59375 17.9688 6.59375 36.375 Q6.59375 54.8281 13.0625 64.5156 Q19.5312 74.2188 31.7812 74.2188\" id=\"BitstreamVeraSans-Roman-30\"/>\n",
       "      </defs>\n",
       "      <g transform=\"translate(214.298650568 313.916619318)scale(0.1 -0.1)\">\n",
       "       <use xlink:href=\"#BitstreamVeraSans-Roman-30\"/>\n",
       "      </g>\n",
       "     </g>\n",
       "    </g>\n",
       "    <g id=\"xtick_3\">\n",
       "     <g id=\"line2d_10\">\n",
       "      <g>\n",
       "       <use style=\"stroke:#000000;stroke-width:0.5;\" x=\"301.363636364\" xlink:href=\"#mc7db9fdffb\" y=\"302.318181818\"/>\n",
       "      </g>\n",
       "     </g>\n",
       "     <g id=\"line2d_11\">\n",
       "      <g>\n",
       "       <use style=\"stroke:#000000;stroke-width:0.5;\" x=\"301.363636364\" xlink:href=\"#m5a7d422ac3\" y=\"48.6818181818\"/>\n",
       "      </g>\n",
       "     </g>\n",
       "     <g id=\"text_3\">\n",
       "      <!-- 1 -->\n",
       "      <g transform=\"translate(299.193323864 313.916619318)scale(0.1 -0.1)\">\n",
       "       <use xlink:href=\"#BitstreamVeraSans-Roman-31\"/>\n",
       "      </g>\n",
       "     </g>\n",
       "    </g>\n",
       "    <g id=\"text_4\">\n",
       "     <!-- $f_{5}$ -->\n",
       "     <defs>\n",
       "      <path d=\" M8.6875 11.375 Q9.71875 8.45312 11.8438 6.04688 Q13.9688 3.65625 16.875 2.3125 Q19.7812 0.984375 22.9062 0.984375 Q30.125 0.984375 32.8594 6.59375 Q35.5938 12.2031 35.5938 20.2188 Q35.5938 23.6875 35.4688 26.0469 Q35.3594 28.4219 34.8125 30.6094 Q33.8906 34.125 31.5625 36.7656 Q29.25 39.4062 25.875 39.4062 Q22.5156 39.4062 20.0938 38.375 Q17.6719 37.3594 16.1562 35.9844 Q14.6562 34.625 13.4844 33.1094 Q12.3125 31.5938 12.0156 31.5 L10.8906 31.5 Q10.6406 31.5 10.2656 31.8125 Q9.90625 32.125 9.90625 32.4219 L9.90625 65.8281 Q9.90625 66.0625 10.2188 66.3281 Q10.5469 66.6094 10.8906 66.6094 L11.1875 66.6094 Q17.9219 63.375 25.4844 63.375 Q32.9062 63.375 39.7969 66.6094 L40.0938 66.6094 Q40.4375 66.6094 40.7188 66.3594 Q41.0156 66.1094 41.0156 65.8281 L41.0156 64.8906 Q41.0156 64.4062 40.8281 64.4062 Q37.4062 59.8594 32.25 57.3125 Q27.0938 54.7812 21.5781 54.7812 Q17.5781 54.7812 13.375 55.9062 L13.375 37.0156 Q16.7031 39.7031 19.3125 40.8438 Q21.9219 42 25.9844 42 Q31.5 42 35.8594 38.8125 Q40.2344 35.6406 42.5781 30.5312 Q44.9219 25.4375 44.9219 20.125 Q44.9219 14.1094 41.9688 8.98438 Q39.0156 3.85938 33.9375 0.828125 Q28.8594 -2.20312 22.9062 -2.20312 Q17.9688 -2.20312 13.8438 0.328125 Q9.71875 2.875 7.34375 7.17188 Q4.98438 11.4688 4.98438 16.3125 Q4.98438 18.5625 6.4375 19.9688 Q7.90625 21.3906 10.1094 21.3906 Q12.3125 21.3906 13.7969 19.9375 Q15.2812 18.5 15.2812 16.3125 Q15.2812 14.1562 13.7969 12.6719 Q12.3125 11.1875 10.1094 11.1875 Q9.76562 11.1875 9.32812 11.25 Q8.89062 11.3281 8.6875 11.375\" id=\"Cmr10-35\"/>\n",
       "      <path d=\" M9.71875 -16.5 Q11.5781 -17.9219 14.2031 -17.9219 Q17.7812 -17.9219 20.0156 -10.0156 Q20.9531 -6.20312 25.0938 15.0938 L29.6875 39.5938 L21.0938 39.5938 Q20.125 39.5938 20.125 40.9219 Q20.5156 43.1094 21.3906 43.1094 L30.3281 43.1094 L31.5 49.6094 Q32.0781 52.6406 32.5625 54.8125 Q33.0625 56.9844 33.625 58.8281 Q34.1875 60.6875 35.2969 62.9844 Q37.0156 66.2656 39.9219 68.3906 Q42.8281 70.5156 46.1875 70.5156 Q48.3906 70.5156 50.4688 69.7031 Q52.5469 68.8906 53.8594 67.2812 Q55.1719 65.6719 55.1719 63.4844 Q55.1719 60.9375 53.4844 59.0469 Q51.8125 57.1719 49.4219 57.1719 Q47.7969 57.1719 46.6562 58.1719 Q45.5156 59.1875 45.5156 60.7969 Q45.5156 62.9844 47 64.625 Q48.4844 66.2656 50.6875 66.5 Q48.8281 67.9219 46.0938 67.9219 Q44.5781 67.9219 43.2344 66.5 Q41.8906 65.0938 41.5 63.4844 Q40.875 60.9375 38.7188 49.7031 L37.5 43.1094 L47.7969 43.1094 Q48.7812 43.1094 48.7812 41.7969 Q48.7344 41.5469 48.5781 40.9375 Q48.4375 40.3281 48.1719 39.9531 Q47.9062 39.5938 47.5156 39.5938 L36.8125 39.5938 L32.1719 15.1875 Q31.2969 9.85938 30.1406 4.35938 Q29 -1.125 26.9219 -6.90625 Q24.8594 -12.7031 21.625 -16.6094 Q18.4062 -20.5156 14.0156 -20.5156 Q10.6406 -20.5156 7.98438 -18.5781 Q5.32812 -16.6562 5.32812 -13.4844 Q5.32812 -10.9375 6.95312 -9.04688 Q8.59375 -7.17188 11.0781 -7.17188 Q12.75 -7.17188 13.8594 -8.17188 Q14.9844 -9.1875 14.9844 -10.7969 Q14.9844 -12.9375 13.3906 -14.7188 Q11.8125 -16.5 9.71875 -16.5\" id=\"Cmmi10-66\"/>\n",
       "     </defs>\n",
       "     <g transform=\"translate(208.418181818 335.196306818)scale(0.2 -0.2)\">\n",
       "      <use transform=\"translate(0.0 0.484375)\" xlink:href=\"#Cmmi10-66\"/>\n",
       "      <use transform=\"translate(48.876953125 -25.025000000000006)scale(0.7)\" xlink:href=\"#Cmr10-35\"/>\n",
       "     </g>\n",
       "    </g>\n",
       "   </g>\n",
       "   <g id=\"matplotlib.axis_2\">\n",
       "    <g id=\"ytick_1\">\n",
       "     <g id=\"line2d_12\">\n",
       "      <defs>\n",
       "       <path d=\" M0 0 L4 0\" id=\"md7965d1ba0\" style=\"stroke:#000000;stroke-width:0.5;\"/>\n",
       "      </defs>\n",
       "      <g>\n",
       "       <use style=\"stroke:#000000;stroke-width:0.5;\" x=\"90.0\" xlink:href=\"#md7965d1ba0\" y=\"260.045454545\"/>\n",
       "      </g>\n",
       "     </g>\n",
       "     <g id=\"line2d_13\">\n",
       "      <defs>\n",
       "       <path d=\" M0 0 L-4 0\" id=\"md9a1c1a7cd\" style=\"stroke:#000000;stroke-width:0.5;\"/>\n",
       "      </defs>\n",
       "      <g>\n",
       "       <use style=\"stroke:#000000;stroke-width:0.5;\" x=\"343.636363636\" xlink:href=\"#md9a1c1a7cd\" y=\"260.045454545\"/>\n",
       "      </g>\n",
       "     </g>\n",
       "     <g id=\"text_5\">\n",
       "      <!-- −1 -->\n",
       "      <g transform=\"translate(73.240625 262.804829545)scale(0.1 -0.1)\">\n",
       "       <use xlink:href=\"#BitstreamVeraSans-Roman-2212\"/>\n",
       "       <use x=\"83.7890625\" xlink:href=\"#BitstreamVeraSans-Roman-31\"/>\n",
       "      </g>\n",
       "     </g>\n",
       "    </g>\n",
       "    <g id=\"ytick_2\">\n",
       "     <g id=\"line2d_14\">\n",
       "      <g>\n",
       "       <use style=\"stroke:#000000;stroke-width:0.5;\" x=\"90.0\" xlink:href=\"#md7965d1ba0\" y=\"175.5\"/>\n",
       "      </g>\n",
       "     </g>\n",
       "     <g id=\"line2d_15\">\n",
       "      <g>\n",
       "       <use style=\"stroke:#000000;stroke-width:0.5;\" x=\"343.636363636\" xlink:href=\"#md9a1c1a7cd\" y=\"175.5\"/>\n",
       "      </g>\n",
       "     </g>\n",
       "     <g id=\"text_6\">\n",
       "      <!-- 0 -->\n",
       "      <g transform=\"translate(80.9609375 178.259375)scale(0.1 -0.1)\">\n",
       "       <use xlink:href=\"#BitstreamVeraSans-Roman-30\"/>\n",
       "      </g>\n",
       "     </g>\n",
       "    </g>\n",
       "    <g id=\"ytick_3\">\n",
       "     <g id=\"line2d_16\">\n",
       "      <g>\n",
       "       <use style=\"stroke:#000000;stroke-width:0.5;\" x=\"90.0\" xlink:href=\"#md7965d1ba0\" y=\"90.9545454545\"/>\n",
       "      </g>\n",
       "     </g>\n",
       "     <g id=\"line2d_17\">\n",
       "      <g>\n",
       "       <use style=\"stroke:#000000;stroke-width:0.5;\" x=\"343.636363636\" xlink:href=\"#md9a1c1a7cd\" y=\"90.9545454545\"/>\n",
       "      </g>\n",
       "     </g>\n",
       "     <g id=\"text_7\">\n",
       "      <!-- 1 -->\n",
       "      <g transform=\"translate(81.659375 93.7139204545)scale(0.1 -0.1)\">\n",
       "       <use xlink:href=\"#BitstreamVeraSans-Roman-31\"/>\n",
       "      </g>\n",
       "     </g>\n",
       "    </g>\n",
       "    <g id=\"text_8\">\n",
       "     <!-- $f_{1}$ -->\n",
       "     <defs>\n",
       "      <path d=\" M9.28125 0 L9.28125 3.51562 Q21.7812 3.51562 21.7812 6.6875 L21.7812 59.1875 Q16.6094 56.6875 8.6875 56.6875 L8.6875 60.2031 Q20.9531 60.2031 27.2031 66.6094 L28.6094 66.6094 Q28.9531 66.6094 29.2656 66.3281 Q29.5938 66.0625 29.5938 65.7188 L29.5938 6.6875 Q29.5938 3.51562 42.0938 3.51562 L42.0938 0 z \" id=\"Cmr10-31\"/>\n",
       "     </defs>\n",
       "     <g transform=\"translate(63.040625 183.9)rotate(-90.0)scale(0.2 -0.2)\">\n",
       "      <use transform=\"translate(0.0 0.484375)\" xlink:href=\"#Cmmi10-66\"/>\n",
       "      <use transform=\"translate(48.876953125 -25.025000000000006)scale(0.7)\" xlink:href=\"#Cmr10-31\"/>\n",
       "     </g>\n",
       "    </g>\n",
       "   </g>\n",
       "  </g>\n",
       "  <g id=\"axes_2\">\n",
       "   <g id=\"line2d_18\">\n",
       "    <path clip-path=\"url(#pf6dab5210c)\" d=\" M419.727 48.6818 L394.364 48.6818 L394.364 302.318 L419.727 302.318\" style=\"fill:none;stroke:#000000;stroke-linecap:square;stroke-width:3;\"/>\n",
       "   </g>\n",
       "   <g id=\"line2d_19\">\n",
       "    <path clip-path=\"url(#pf6dab5210c)\" d=\" M622.636 48.6818 L648 48.6818 L648 302.318 L622.636 302.318\" style=\"fill:none;stroke:#000000;stroke-linecap:square;stroke-width:3;\"/>\n",
       "   </g>\n",
       "   <g id=\"matplotlib.axis_3\">\n",
       "    <g id=\"text_9\">\n",
       "     <!-- $i$ -->\n",
       "     <defs>\n",
       "      <path d=\" M7.8125 7.17188 Q7.8125 9.03125 8.59375 11.0781 L16.7031 32.625 Q18.0156 36.2812 18.0156 38.625 Q18.0156 41.6094 15.8281 41.6094 Q11.8594 41.6094 9.29688 37.5312 Q6.73438 33.4531 5.51562 28.4219 Q5.32812 27.7812 4.6875 27.7812 L3.51562 27.7812 Q2.6875 27.7812 2.6875 28.7188 L2.6875 29 Q4.29688 34.9688 7.60938 39.5781 Q10.9375 44.1875 16.0156 44.1875 Q19.5781 44.1875 22.0469 41.8438 Q24.5156 39.5 24.5156 35.8906 Q24.5156 34.0312 23.6875 31.9844 L15.5781 10.5 Q14.2031 7.17188 14.2031 4.5 Q14.2031 1.51562 16.5 1.51562 Q20.4062 1.51562 23.0156 5.6875 Q25.6406 9.85938 26.7031 14.7031 Q26.9062 15.2812 27.4844 15.2812 L28.7188 15.2812 Q29.1094 15.2812 29.3438 15.0156 Q29.5938 14.75 29.5938 14.4062 Q29.5938 14.3125 29.5 14.1094 Q28.125 8.45312 24.7344 3.65625 Q21.3438 -1.125 16.3125 -1.125 Q12.7969 -1.125 10.2969 1.29688 Q7.8125 3.71875 7.8125 7.17188 M19.0938 60.5938 Q19.0938 62.7031 20.8438 64.4062 Q22.6094 66.1094 24.7031 66.1094 Q26.4219 66.1094 27.5156 65.0625 Q28.6094 64.0156 28.6094 62.4062 Q28.6094 60.1562 26.8281 58.4688 Q25.0469 56.7812 22.9062 56.7812 Q21.2969 56.7812 20.1875 57.875 Q19.0938 58.9844 19.0938 60.5938\" id=\"Cmmi10-69\"/>\n",
       "     </defs>\n",
       "     <g transform=\"translate(518.381818182 319.475681818)scale(0.16 -0.16)\">\n",
       "      <use transform=\"translate(0.0 0.890625)\" xlink:href=\"#Cmmi10-69\"/>\n",
       "     </g>\n",
       "    </g>\n",
       "   </g>\n",
       "   <g id=\"matplotlib.axis_4\">\n",
       "    <g id=\"text_10\">\n",
       "     <!-- $i^\\prime$ -->\n",
       "     <defs>\n",
       "      <path d=\" M3.51562 5.42188 Q2.875 5.60938 2.875 6.39062 L15.0938 51.8125 Q15.6719 53.6562 17.0781 54.7812 Q18.5 55.9062 20.3125 55.9062 Q22.6562 55.9062 24.4375 54.3594 Q26.2188 52.8281 26.2188 50.4844 Q26.2188 49.4688 25.6875 48.1875 L7.625 4.98438 Q7.28125 4.29688 6.6875 4.29688 Q6.15625 4.29688 5 4.78125 Q3.85938 5.28125 3.51562 5.42188\" id=\"Cmsy10-30\"/>\n",
       "     </defs>\n",
       "     <g transform=\"translate(386.036136364 181.82)rotate(-90.0)scale(0.16 -0.16)\">\n",
       "      <use transform=\"translate(0.0 0.3499999999999943)\" xlink:href=\"#Cmmi10-69\"/>\n",
       "      <use transform=\"translate(34.423828125 42.865624999999994)scale(0.7)\" xlink:href=\"#Cmsy10-30\"/>\n",
       "     </g>\n",
       "    </g>\n",
       "   </g>\n",
       "   <g id=\"text_11\">\n",
       "    <!-- 1.0 -->\n",
       "    <defs>\n",
       "     <path d=\" M10.6875 12.4062 L21 12.4062 L21 0 L10.6875 0 z \" id=\"BitstreamVeraSans-Roman-2e\"/>\n",
       "    </defs>\n",
       "    <g transform=\"translate(463.384232955 124.772727273)scale(0.1 -0.1)\">\n",
       "     <use xlink:href=\"#BitstreamVeraSans-Roman-31\"/>\n",
       "     <use x=\"63.623046875\" xlink:href=\"#BitstreamVeraSans-Roman-2e\"/>\n",
       "     <use x=\"95.41015625\" xlink:href=\"#BitstreamVeraSans-Roman-30\"/>\n",
       "    </g>\n",
       "   </g>\n",
       "   <g id=\"text_12\">\n",
       "    <!-- 0.986207116744 -->\n",
       "    <defs>\n",
       "     <path d=\" M10.9844 1.51562 L10.9844 10.5 Q14.7031 8.73438 18.5 7.8125 Q22.3125 6.89062 25.9844 6.89062 Q35.75 6.89062 40.8906 13.4531 Q46.0469 20.0156 46.7812 33.4062 Q43.9531 29.2031 39.5938 26.9531 Q35.25 24.7031 29.9844 24.7031 Q19.0469 24.7031 12.6719 31.3125 Q6.29688 37.9375 6.29688 49.4219 Q6.29688 60.6406 12.9375 67.4219 Q19.5781 74.2188 30.6094 74.2188 Q43.2656 74.2188 49.9219 64.5156 Q56.5938 54.8281 56.5938 36.375 Q56.5938 19.1406 48.4062 8.85938 Q40.2344 -1.42188 26.4219 -1.42188 Q22.7031 -1.42188 18.8906 -0.6875 Q15.0938 0.046875 10.9844 1.51562 M30.6094 32.4219 Q37.25 32.4219 41.125 36.9531 Q45.0156 41.5 45.0156 49.4219 Q45.0156 57.2812 41.125 61.8438 Q37.25 66.4062 30.6094 66.4062 Q23.9688 66.4062 20.0938 61.8438 Q16.2188 57.2812 16.2188 49.4219 Q16.2188 41.5 20.0938 36.9531 Q23.9688 32.4219 30.6094 32.4219\" id=\"BitstreamVeraSans-Roman-39\"/>\n",
       "     <path d=\" M37.7969 64.3125 L12.8906 25.3906 L37.7969 25.3906 z  M35.2031 72.9062 L47.6094 72.9062 L47.6094 25.3906 L58.0156 25.3906 L58.0156 17.1875 L47.6094 17.1875 L47.6094 0 L37.7969 0 L37.7969 17.1875 L4.89062 17.1875 L4.89062 26.7031 z \" id=\"BitstreamVeraSans-Roman-34\"/>\n",
       "     <path d=\" M8.20312 72.9062 L55.0781 72.9062 L55.0781 68.7031 L28.6094 0 L18.3125 0 L43.2188 64.5938 L8.20312 64.5938 z \" id=\"BitstreamVeraSans-Roman-37\"/>\n",
       "     <path d=\" M31.7812 34.625 Q24.75 34.625 20.7188 30.8594 Q16.7031 27.0938 16.7031 20.5156 Q16.7031 13.9219 20.7188 10.1562 Q24.75 6.39062 31.7812 6.39062 Q38.8125 6.39062 42.8594 10.1719 Q46.9219 13.9688 46.9219 20.5156 Q46.9219 27.0938 42.8906 30.8594 Q38.875 34.625 31.7812 34.625 M21.9219 38.8125 Q15.5781 40.375 12.0312 44.7188 Q8.5 49.0781 8.5 55.3281 Q8.5 64.0625 14.7188 69.1406 Q20.9531 74.2188 31.7812 74.2188 Q42.6719 74.2188 48.875 69.1406 Q55.0781 64.0625 55.0781 55.3281 Q55.0781 49.0781 51.5312 44.7188 Q48 40.375 41.7031 38.8125 Q48.8281 37.1562 52.7969 32.3125 Q56.7812 27.4844 56.7812 20.5156 Q56.7812 9.90625 50.3125 4.23438 Q43.8438 -1.42188 31.7812 -1.42188 Q19.7344 -1.42188 13.25 4.23438 Q6.78125 9.90625 6.78125 20.5156 Q6.78125 27.4844 10.7812 32.3125 Q14.7969 37.1562 21.9219 38.8125 M18.3125 54.3906 Q18.3125 48.7344 21.8438 45.5625 Q25.3906 42.3906 31.7812 42.3906 Q38.1406 42.3906 41.7188 45.5625 Q45.3125 48.7344 45.3125 54.3906 Q45.3125 60.0625 41.7188 63.2344 Q38.1406 66.4062 31.7812 66.4062 Q25.3906 66.4062 21.8438 63.2344 Q18.3125 60.0625 18.3125 54.3906\" id=\"BitstreamVeraSans-Roman-38\"/>\n",
       "     <path d=\" M33.0156 40.375 Q26.375 40.375 22.4844 35.8281 Q18.6094 31.2969 18.6094 23.3906 Q18.6094 15.5312 22.4844 10.9531 Q26.375 6.39062 33.0156 6.39062 Q39.6562 6.39062 43.5312 10.9531 Q47.4062 15.5312 47.4062 23.3906 Q47.4062 31.2969 43.5312 35.8281 Q39.6562 40.375 33.0156 40.375 M52.5938 71.2969 L52.5938 62.3125 Q48.875 64.0625 45.0938 64.9844 Q41.3125 65.9219 37.5938 65.9219 Q27.8281 65.9219 22.6719 59.3281 Q17.5312 52.7344 16.7969 39.4062 Q19.6719 43.6562 24.0156 45.9219 Q28.375 48.1875 33.5938 48.1875 Q44.5781 48.1875 50.9531 41.5156 Q57.3281 34.8594 57.3281 23.3906 Q57.3281 12.1562 50.6875 5.35938 Q44.0469 -1.42188 33.0156 -1.42188 Q20.3594 -1.42188 13.6719 8.26562 Q6.98438 17.9688 6.98438 36.375 Q6.98438 53.6562 15.1875 63.9375 Q23.3906 74.2188 37.2031 74.2188 Q40.9219 74.2188 44.7031 73.4844 Q48.4844 72.75 52.5938 71.2969\" id=\"BitstreamVeraSans-Roman-36\"/>\n",
       "     <path d=\" M19.1875 8.29688 L53.6094 8.29688 L53.6094 0 L7.32812 0 L7.32812 8.29688 Q12.9375 14.1094 22.625 23.8906 Q32.3281 33.6875 34.8125 36.5312 Q39.5469 41.8438 41.4219 45.5312 Q43.3125 49.2188 43.3125 52.7812 Q43.3125 58.5938 39.2344 62.25 Q35.1562 65.9219 28.6094 65.9219 Q23.9688 65.9219 18.8125 64.3125 Q13.6719 62.7031 7.8125 59.4219 L7.8125 69.3906 Q13.7656 71.7812 18.9375 73 Q24.125 74.2188 28.4219 74.2188 Q39.75 74.2188 46.4844 68.5469 Q53.2188 62.8906 53.2188 53.4219 Q53.2188 48.9219 51.5312 44.8906 Q49.8594 40.875 45.4062 35.4062 Q44.1875 33.9844 37.6406 27.2188 Q31.1094 20.4531 19.1875 8.29688\" id=\"BitstreamVeraSans-Roman-32\"/>\n",
       "    </defs>\n",
       "    <g transform=\"translate(529.573934659 124.772727273)scale(0.1 -0.1)\">\n",
       "     <use xlink:href=\"#BitstreamVeraSans-Roman-30\"/>\n",
       "     <use x=\"63.623046875\" xlink:href=\"#BitstreamVeraSans-Roman-2e\"/>\n",
       "     <use x=\"95.41015625\" xlink:href=\"#BitstreamVeraSans-Roman-39\"/>\n",
       "     <use x=\"159.033203125\" xlink:href=\"#BitstreamVeraSans-Roman-38\"/>\n",
       "     <use x=\"222.65625\" xlink:href=\"#BitstreamVeraSans-Roman-36\"/>\n",
       "     <use x=\"286.279296875\" xlink:href=\"#BitstreamVeraSans-Roman-32\"/>\n",
       "     <use x=\"349.90234375\" xlink:href=\"#BitstreamVeraSans-Roman-30\"/>\n",
       "     <use x=\"413.525390625\" xlink:href=\"#BitstreamVeraSans-Roman-37\"/>\n",
       "     <use x=\"477.1484375\" xlink:href=\"#BitstreamVeraSans-Roman-31\"/>\n",
       "     <use x=\"540.771484375\" xlink:href=\"#BitstreamVeraSans-Roman-31\"/>\n",
       "     <use x=\"604.39453125\" xlink:href=\"#BitstreamVeraSans-Roman-36\"/>\n",
       "     <use x=\"668.017578125\" xlink:href=\"#BitstreamVeraSans-Roman-37\"/>\n",
       "     <use x=\"731.640625\" xlink:href=\"#BitstreamVeraSans-Roman-34\"/>\n",
       "     <use x=\"795.263671875\" xlink:href=\"#BitstreamVeraSans-Roman-34\"/>\n",
       "    </g>\n",
       "   </g>\n",
       "   <g id=\"text_13\">\n",
       "    <!-- 0.986207116744 -->\n",
       "    <g transform=\"translate(428.119389205 226.227272727)scale(0.1 -0.1)\">\n",
       "     <use xlink:href=\"#BitstreamVeraSans-Roman-30\"/>\n",
       "     <use x=\"63.623046875\" xlink:href=\"#BitstreamVeraSans-Roman-2e\"/>\n",
       "     <use x=\"95.41015625\" xlink:href=\"#BitstreamVeraSans-Roman-39\"/>\n",
       "     <use x=\"159.033203125\" xlink:href=\"#BitstreamVeraSans-Roman-38\"/>\n",
       "     <use x=\"222.65625\" xlink:href=\"#BitstreamVeraSans-Roman-36\"/>\n",
       "     <use x=\"286.279296875\" xlink:href=\"#BitstreamVeraSans-Roman-32\"/>\n",
       "     <use x=\"349.90234375\" xlink:href=\"#BitstreamVeraSans-Roman-30\"/>\n",
       "     <use x=\"413.525390625\" xlink:href=\"#BitstreamVeraSans-Roman-37\"/>\n",
       "     <use x=\"477.1484375\" xlink:href=\"#BitstreamVeraSans-Roman-31\"/>\n",
       "     <use x=\"540.771484375\" xlink:href=\"#BitstreamVeraSans-Roman-31\"/>\n",
       "     <use x=\"604.39453125\" xlink:href=\"#BitstreamVeraSans-Roman-36\"/>\n",
       "     <use x=\"668.017578125\" xlink:href=\"#BitstreamVeraSans-Roman-37\"/>\n",
       "     <use x=\"731.640625\" xlink:href=\"#BitstreamVeraSans-Roman-34\"/>\n",
       "     <use x=\"795.263671875\" xlink:href=\"#BitstreamVeraSans-Roman-34\"/>\n",
       "    </g>\n",
       "   </g>\n",
       "   <g id=\"text_14\">\n",
       "    <!-- 1.0 -->\n",
       "    <g transform=\"translate(564.838778409 226.227272727)scale(0.1 -0.1)\">\n",
       "     <use xlink:href=\"#BitstreamVeraSans-Roman-31\"/>\n",
       "     <use x=\"63.623046875\" xlink:href=\"#BitstreamVeraSans-Roman-2e\"/>\n",
       "     <use x=\"95.41015625\" xlink:href=\"#BitstreamVeraSans-Roman-30\"/>\n",
       "    </g>\n",
       "   </g>\n",
       "  </g>\n",
       " </g>\n",
       " <defs>\n",
       "  <clipPath id=\"p327466bd2e\">\n",
       "   <rect height=\"253.636363636\" width=\"253.636363636\" x=\"90.0\" y=\"48.6818181818\"/>\n",
       "  </clipPath>\n",
       "  <clipPath id=\"pf6dab5210c\">\n",
       "   <rect height=\"253.636363636\" width=\"253.636363636\" x=\"394.363636364\" y=\"48.6818181818\"/>\n",
       "  </clipPath>\n",
       " </defs>\n",
       "</svg>"
      ],
      "text/plain": [
       "<IPython.core.display.SVG object>"
      ]
     },
     "metadata": {},
     "output_type": "display_data"
    }
   ],
   "source": [
    "pods.notebook.display_plots('dem_two_point_sample{sample}.svg', './diagrams/', sample=(13,16))"
   ]
  },
  {
   "cell_type": "markdown",
   "metadata": {
    "slideshow": {
     "slide_type": "slide"
    }
   },
   "source": [
    "## Prediction with Correlated Gaussians\n",
    "  * Prediction of $\\mathbf{f}_*$ from $\\mathbf{f}$ requires multivariate *conditional density*.\n",
    "  * Multivariate conditional density is *also* Gaussian.\n",
    "    $$\n",
    "    p(\\mathbf{f}_*|\\mathbf{f}) = \\mathcal{N}\\left(\\mathbf{f}_*|\\mathbf{K}_{*,\\mathbf{f}}\\mathbf{K}_{\\mathbf{f},\\mathbf{f}}^{-1}\\mathbf{f},\\mathbf{K}_{*,*}-\\mathbf{K}_{*,\\mathbf{f}} \\mathbf{K}_{\\mathbf{f},\\mathbf{f}}^{-1}\\mathbf{K}_{\\mathbf{f},*}\\right)\n",
    "    $$"
   ]
  },
  {
   "cell_type": "markdown",
   "metadata": {
    "slideshow": {
     "slide_type": "slide"
    }
   },
   "source": [
    "## Prediction with Correlated Gaussians\n",
    "  * Prediction of $\\mathbf{f}_*$ from $\\mathbf{f}$ requires multivariate *conditional density*.\n",
    "  * Multivariate conditional density is *also* Gaussian.\n",
    "    $$\n",
    "    p(\\mathbf{f}_*|\\mathbf{f}) = \\mathcal{N}\\left(\\mathbf{f}_*|\\boldsymbol{\\mu},\\boldsymbol{\\Sigma}\\right)\n",
    "    $$\n",
    "    $$\n",
    "    \\boldsymbol{\\mu} = \\mathbf{K}_{*,\\mathbf{f}}\\mathbf{K}_{\\mathbf{f},\\mathbf{f}}^{-1}\\mathbf{f}     \n",
    "    $$\n",
    "    $$\n",
    "    \\boldsymbol{\\Sigma} = \\mathbf{K}_{*,*}-\\mathbf{K}_{*,\\mathbf{f}} \\mathbf{K}_{\\mathbf{f},\\mathbf{f}}^{-1}\\mathbf{K}_{\\mathbf{f},*}\n",
    "    $$\n",
    "  * Here covariance of joint density is given by\n",
    "    $$\n",
    "    \\mathbf{K} = \\begin{bmatrix} \\mathbf{K}_{\\mathbf{f}, \\mathbf{f}} & \\mathbf{K}_{*, \\mathbf{f}}\\\\ \\mathbf{K}_{\\mathbf{f}, *} & \\mathbf{K}_{*, *}\\end{bmatrix}\n",
    "    $$\n",
    "  "
   ]
  },
  {
   "cell_type": "code",
   "execution_count": 39,
   "metadata": {
    "collapsed": false,
    "slideshow": {
     "slide_type": "skip"
    }
   },
   "outputs": [
    {
     "data": {
      "image/png": "[encoded data removed]",
      "text/plain": [
       "<matplotlib.figure.Figure at 0x11a449be0>"
      ]
     },
     "metadata": {},
     "output_type": "display_data"
    },
    {
     "data": {
      "image/png": "[encoded data removed]",
      "text/plain": [
       "<matplotlib.figure.Figure at 0x118ce3ef0>"
      ]
     },
     "metadata": {},
     "output_type": "display_data"
    }
   ],
   "source": [
    "fig, ax = plt.subplots(figsize=((5,5)))\n",
    "hcolor = [1., 0., 1.]\n",
    "x = np.linspace(-1, 1, 25)[:, None]\n",
    "K = compute_kernel(x, x, exponentiated_quadratic, lengthscale=0.5)\n",
    "obj = plot_matrix(K, ax=ax, type='image', bracket_style='boxes')\n",
    "plt.savefig('./diagrams/eq_covariance.svg')\n",
    "\n",
    "fig, ax = plt.subplots(figsize=((5,5)))\n",
    "kern_circular_sample([], K, filename='eq_covariance.gif')"
   ]
  },
  {
   "cell_type": "markdown",
   "metadata": {
    "slideshow": {
     "slide_type": "slide"
    }
   },
   "source": [
    "## Where Did This Covariance Matrix Come From?\n",
    "$$\n",
    "k(\\mathbf{x}, \\mathbf{x}^\\prime) = \\alpha \\exp\\left(-\\frac{\\left\\Vert \\mathbf{x} - \\mathbf{x}^\\prime\\right\\Vert^2_2}{2\\ell^2}\\right)$$\n",
    "\n",
    "<table cellspacing=\"0\" cellpadding=\"0\" border=\"none\">\n",
    "<tr><td>\n",
    "<ul><li>Covariance matrix is\n",
    "built using the *inputs* to\n",
    "the function x.</li>\n",
    "\n",
    "<li>For the example above it\n",
    "was based on Euclidean\n",
    "distance.</li>\n",
    "\n",
    "<li>The covariance function\n",
    "is also know as a kernel.</li>\n",
    "</ul></td><td><img src='./diagrams/eq_covariance.svg' align='right'></td></tr>\n",
    "</table>"
   ]
  },
  {
   "cell_type": "markdown",
   "metadata": {
    "slideshow": {
     "slide_type": "slide"
    }
   },
   "source": [
    "## Where Did This Covariance Matrix Come From?\n",
    "$$\n",
    "k(\\mathbf{x}, \\mathbf{x}^\\prime) = \\alpha \\exp\\left(-\\frac{\\left\\Vert \\mathbf{x} - \\mathbf{x}^\\prime\\right\\Vert^2_2}{2\\ell^2}\\right)$$\n",
    "\n",
    "<table cellspacing=\"0\" cellpadding=\"0\" border=\"none\">\n",
    "<tr><td>\n",
    "<ul><li>Covariance matrix is\n",
    "built using the *inputs* to\n",
    "the function x.</li>\n",
    "\n",
    "<li>For the example above it\n",
    "was based on Euclidean\n",
    "distance.</li>\n",
    "\n",
    "<li>The covariance function\n",
    "is also know as a kernel.</li>\n",
    "</ul></td><td><img src='./diagrams/eq_covariance.gif' align='right'></td></tr>\n",
    "</table>"
   ]
  },
  {
   "cell_type": "markdown",
   "metadata": {
    "slideshow": {
     "slide_type": "slide"
    }
   },
   "source": [
    "### Gaussian Distribution Sample\n",
    "  \n"
   ]
  },
  {
   "cell_type": "markdown",
   "metadata": {
    "slideshow": {
     "slide_type": "slide"
    }
   },
   "source": [
    "## Extremely Short Overview\n"
   ]
  },
  {
   "cell_type": "markdown",
   "metadata": {
    "slideshow": {
     "slide_type": "slide"
    }
   },
   "source": [
    "## Log Odds\n",
    "\n",
    "* model the *log-odds* with the basis functions.\n",
    "* [odds](http://en.wikipedia.org/wiki/Odds) are defined as the ratio of the probability of a positive outcome, to the probability of a negative outcome. \n",
    "* Probability is between zero and one, odds are:\n",
    "    $$ \\frac{\\pi}{1-\\pi} $$\n",
    "* Odds are between $0$ and $\\infty$. \n",
    "* Logarithm of odds maps them to $-\\infty$ to $\\infty$."
   ]
  },
  {
   "cell_type": "markdown",
   "metadata": {
    "slideshow": {
     "slide_type": "slide"
    }
   },
   "source": [
    "### Logit Link Function\n",
    "\n",
    "* The [Logit function](http://en.wikipedia.org/wiki/Logit), $$g^{-1}(\\pi_i) = \\log\\frac{\\pi_i}{1-\\pi_i}.$$ This function is known as a *link function*.\n",
    "\n",
    "* For a standard regression we take,\n",
    "    $$f(\\mathbf{x}_i) = \\mathbf{w}^\\top \\boldsymbol{\\phi}(\\mathbf{x}_i),$$\n",
    "* For classification we perform a logistic regression. \n",
    "    $$\\log \\frac{\\pi_i}{1-\\pi_i} = \\mathbf{w}^\\top \\boldsymbol{\\phi}(\\mathbf{x}_i)$$"
   ]
  },
  {
   "cell_type": "markdown",
   "metadata": {
    "slideshow": {
     "slide_type": "slide"
    }
   },
   "source": [
    "### Inverse Link Function\n",
    "\n",
    "We have defined the link function as taking the form $g^{-1}(\\cdot)$ implying that the inverse link function is given by $g(\\cdot)$. Since we have defined,\n",
    "$$\n",
    "g^{-1}(\\pi(\\mathbf{x})) = \\mathbf{w}^\\top \\boldsymbol{\\phi}(\\mathbf{x})\n",
    "$$\n",
    "we can write $\\pi$ in terms of the *inverse link* function, $g(\\cdot)$ as \n",
    "$$\n",
    "\\pi(\\mathbf{x}) = g(\\mathbf{w}^\\top \\boldsymbol{\\phi}(\\mathbf{x})).\n",
    "$$"
   ]
  },
  {
   "cell_type": "code",
   "execution_count": 42,
   "metadata": {
    "collapsed": false,
    "slideshow": {
     "slide_type": "skip"
    }
   },
   "outputs": [
    {
     "data": {
      "image/png": "[encoded data removed]",
      "text/plain": [
       "<matplotlib.figure.Figure at 0x11a4a2e48>"
      ]
     },
     "metadata": {},
     "output_type": "display_data"
    }
   ],
   "source": [
    "fig, ax = plt.subplots(figsize=(14,7))\n",
    "f = np.linspace(-8, 8, 100)\n",
    "g = 1/(1+np.exp(-f))\n",
    "\n",
    "ax.plot(f, g, 'r-', lw=3)\n",
    "ax.set_title('Logistic Function', fontsize=20)\n",
    "ax.set_xlabel('$f_i$', fontsize=20)\n",
    "ax.set_ylabel('$g_i$', fontsize=20)\n",
    "plt.savefig('./diagrams/logistic.svg')"
   ]
  },
  {
   "cell_type": "markdown",
   "metadata": {
    "slideshow": {
     "slide_type": "slide"
    }
   },
   "source": [
    "### Logistic function\n",
    "\n",
    "* [Logistic](http://en.wikipedia.org/wiki/Logistic_function) (or sigmoid) squashes real line to between 0   & 1. Sometimes also called a 'squashing function'. \n",
    "![](./diagrams/logistic.svg)"
   ]
  },
  {
   "cell_type": "markdown",
   "metadata": {
    "slideshow": {
     "slide_type": "slide"
    }
   },
   "source": [
    "\n",
    "### Prediction Function\n",
    "* Can now write $\\pi$ as a function of the input and the parameter vector as, $$\\pi(\\mathbf{x},\\mathbf{w}) = \\frac{1}{1+ \\exp\\left(-\\mathbf{w}^\\top \\boldsymbol{\\phi}(\\mathbf{x})\\right)}.$$\n",
    "\n",
    "* Compute the output of a standard linear basis function composition ($\\mathbf{w}^\\top \\boldsymbol{\\phi}(\\mathbf{x})$, as we did for linear regression)\n",
    "\n",
    "* Apply the inverse link function, $g(\\mathbf{w}^\\top \\boldsymbol{\\phi}(\\mathbf{x}))$. \n",
    "\n",
    "* Use this value in a Bernoulli distribution to form the likelihood. "
   ]
  },
  {
   "cell_type": "markdown",
   "metadata": {
    "slideshow": {
     "slide_type": "slide"
    }
   },
   "source": [
    "### Bernoulli Reminder\n",
    "\n",
    "$$P(y_i|\\mathbf{w}, \\mathbf{x}) = \\pi_i^{y_i} (1-\\pi_i)^{1-y_i}$$\n",
    "\n",
    "* Trick for switching betwen probabilities\n",
    "```python\n",
    "def bernoulli(y, pi):\n",
    "    if y == 1:\n",
    "        return pi\n",
    "    else:\n",
    "        return 1-pi\n",
    "```"
   ]
  },
  {
   "cell_type": "markdown",
   "metadata": {
    "slideshow": {
     "slide_type": "slide"
    }
   },
   "source": [
    "### Maximum Likelihood\n",
    "\n",
    "\n",
    "* Conditional independence of data:$$P(\\mathbf{y}|\\mathbf{w}, \\mathbf{X}) = \\prod_{i=1}^n P(y_i|\\mathbf{w}, \\mathbf{x}_i). $$"
   ]
  },
  {
   "cell_type": "markdown",
   "metadata": {
    "slideshow": {
     "slide_type": "slide"
    }
   },
   "source": [
    "### Log Likelihood\n",
    "\n",
    "\\begin{align*}\n",
    "\\log P(\\mathbf{y}|\\mathbf{w}, \\mathbf{X}) = & \\sum_{i=1}^n \\log P(y_i|\\mathbf{w}, \\mathbf{x}_i) \\\\ = &\\sum_{i=1}^n y_i \\log \\pi_i \\\\ & + \\sum_{i=1}^n (1-y_i)\\log (1-\\pi_i)\n",
    "\\end{align*}"
   ]
  },
  {
   "cell_type": "markdown",
   "metadata": {
    "slideshow": {
     "slide_type": "slide"
    }
   },
   "source": [
    "### Objective Function\n",
    "\n",
    "* Probability of positive outcome for the $i$th data point $$\\pi_i = g\\left(\\mathbf{w}^\\top \\boldsymbol{\\phi}(\\mathbf{x}_i)\\right),$$ where $g(\\cdot)$ is the *inverse* link function\n",
    "\n",
    "* Objective function of the form \\begin{align*}\n",
    "E(\\mathbf{w}) = & -  \\sum_{i=1}^n y_i \\log g\\left(\\mathbf{w}^\\top \\boldsymbol{\\phi}(\\mathbf{x}_i)\\right) \\\\& - \\sum_{i=1}^n(1-y_i)\\log \\left(1-g\\left(\\mathbf{w}^\\top \\boldsymbol{\\phi}(\\mathbf{x}_i)\\right)\\right).\n",
    "\\end{align*}"
   ]
  },
  {
   "cell_type": "markdown",
   "metadata": {
    "slideshow": {
     "slide_type": "slide"
    }
   },
   "source": [
    "### Minimize Objective\n",
    "\n",
    "* Grdient wrt  $\\pi(\\mathbf{x};\\mathbf{w})$ \n",
    "\\begin{align*}\n",
    "\\frac{\\text{d}E(\\mathbf{w})}{\\text{d}\\mathbf{w}} = & -\\sum_{i=1}^n \\frac{y_i}{g\\left(\\mathbf{w}^\\top \\boldsymbol{\\phi}(\\mathbf{x})\\right)}\\frac{\\text{d}g(f_i)}{\\text{d}f_i} \\boldsymbol{\\phi(\\mathbf{x}_i)} \\\\ & +  \\sum_{i=1}^n \\frac{1-y_i}{1-g\\left(\\mathbf{w}^\\top \\boldsymbol{\\phi}(\\mathbf{x})\\right)}\\frac{\\text{d}g(f_i)}{\\text{d}f_i} \\boldsymbol{\\phi(\\mathbf{x}_i)}\n",
    "\\end{align*}"
   ]
  },
  {
   "cell_type": "markdown",
   "metadata": {
    "slideshow": {
     "slide_type": "slide"
    }
   },
   "source": [
    "### Link Function Gradient\n",
    "\n",
    "* Also need gradient of inverse link function wrt parameters.\n",
    "\\begin{align*}\n",
    "g(f_i) &= \\frac{1}{1+\\exp(-f_i)}\\\\\n",
    "&=(1+\\exp(-f_i))^{-1}\n",
    "\\end{align*}\n",
    "and the gradient can be computed as\n",
    "\\begin{align*}\n",
    "\\frac{\\text{d}g(f_i)}{\\text{d} f_i} & = \\exp(-f_i)(1+\\exp(-f_i))^{-2}\\\\\n",
    "& = \\frac{1}{1+\\exp(-f_i)} \\frac{\\exp(-f_i)}{1+\\exp(-f_i)} \\\\\n",
    "& = g(f_i) (1-g(f_i))\n",
    "\\end{align*}"
   ]
  },
  {
   "cell_type": "markdown",
   "metadata": {
    "slideshow": {
     "slide_type": "slide"
    }
   },
   "source": [
    "### Objective Gradient\n",
    "\n",
    "\\begin{align*}\n",
    "\\frac{\\text{d}E(\\mathbf{w})}{\\text{d}\\mathbf{w}} = & -\\sum_{i=1}^n y_i\\left(1-g\\left(\\mathbf{w}^\\top \\boldsymbol{\\phi}(\\mathbf{x})\\right)\\right) \\boldsymbol{\\phi(\\mathbf{x}_i)} \\\\ & + \\sum_{i=1}^n (1-y_i)\\left(g\\left(\\mathbf{w}^\\top \\boldsymbol{\\phi}(\\mathbf{x})\\right)\\right) \\boldsymbol{\\phi(\\mathbf{x}_i)}.\n",
    "\\end{align*}"
   ]
  },
  {
   "cell_type": "markdown",
   "metadata": {
    "slideshow": {
     "slide_type": "slide"
    }
   },
   "source": [
    "### Optimization of the Function\n",
    "\n",
    "* Can't find a stationary point of the objective function analytically.\n",
    "\n",
    "* Optimization has to proceed by *numerical methods*. \n",
    "    * [Newton's method](http://en.wikipedia.org/wiki/Newton%27s_method) or \n",
    "    * [gradient based optimization methods](http://en.wikipedia.org/wiki/Gradient_method) \n",
    "    \n",
    "* Similarly to matrix factorization, for large data *stochastic gradient descent*  (Robbins Munroe optimization procedure) works well. "
   ]
  },
  {
   "cell_type": "markdown",
   "metadata": {
    "slideshow": {
     "slide_type": "slide"
    }
   },
   "source": [
    "### Ad Matching for Facebook\n",
    "\n",
    "* This approach used in many internet companies.\n",
    "\n",
    "* Example: ad matching for Facebook.\n",
    "    * Millions of advertisers\n",
    "    * Billions of users\n",
    "    * How do you choose who to show what?\n",
    "    \n",
    "* Logistic regression used in combination with [decision trees]()\n",
    "\n",
    "* [Paper available here](http://www.herbrich.me/papers/adclicksfacebook.pdf)"
   ]
  },
  {
   "cell_type": "markdown",
   "metadata": {
    "slideshow": {
     "slide_type": "slide"
    }
   },
   "source": [
    "### Other GLMs\n",
    "\n",
    "* Logistic regression is part of a family known as *generalized linear models*\n",
    "\n",
    "* They all take the form $$g^{-1}(f_i(x)) = \\mathbf{w}^\\top \\boldsymbol{\\phi}(\\mathbf{x}_i)$$\n",
    "\n",
    "* As another example let's look at *Poisson regression*.\n",
    "\n"
   ]
  },
  {
   "cell_type": "markdown",
   "metadata": {
    "slideshow": {
     "slide_type": "slide"
    }
   },
   "source": [
    "### Poisson Distribution\n",
    "\n",
    "* Poisson distribution is used for 'count data'. For non-negative integers, $y$, $$P(y) = \\frac{\\lambda^y}{y!}\\exp(-y)$$\n",
    "\n",
    "* Here $\\lambda$ is a *rate* parameter that can be thought of as the number of arrivals per unit time.\n",
    "\n",
    "* Poisson distributions can be used for disease count data. E.g. number of incidence of malaria in a district.\n"
   ]
  },
  {
   "cell_type": "code",
   "execution_count": 41,
   "metadata": {
    "collapsed": false,
    "slideshow": {
     "slide_type": "skip"
    }
   },
   "outputs": [
    {
     "data": {
      "image/png": "[encoded data removed]",
      "text/plain": [
       "<matplotlib.figure.Figure at 0x11a7277b8>"
      ]
     },
     "metadata": {},
     "output_type": "display_data"
    }
   ],
   "source": [
    "from scipy.stats import poisson\n",
    "fig, ax = plt.subplots(figsize=(14,7))\n",
    "y = np.asarray(range(0, 16))\n",
    "p1 = poisson.pmf(y, mu=1.)\n",
    "p3 = poisson.pmf(y, mu=3.)\n",
    "p10 = poisson.pmf(y, mu=10.)\n",
    "\n",
    "ax.plot(y, p1, 'r.-', markersize=20, label='$\\lambda=1$', lw=3)\n",
    "ax.plot(y, p3, 'g.-', markersize=20, label='$\\lambda=3$', lw=3)\n",
    "ax.plot(y, p10, 'b.-', markersize=20, label='$\\lambda=10$', lw=3)\n",
    "ax.set_title('Poisson Distribution', fontsize=20)\n",
    "ax.set_xlabel('$y_i$', fontsize=20)\n",
    "ax.set_ylabel('$p(y_i)$', fontsize=20)\n",
    "ax.legend(fontsize=20)\n",
    "plt.savefig('./diagrams/poisson.svg')\n"
   ]
  },
  {
   "cell_type": "markdown",
   "metadata": {
    "slideshow": {
     "slide_type": "slide"
    }
   },
   "source": [
    "### Poisson Distribution\n",
    "\n",
    "![](./diagrams/poisson.svg)"
   ]
  },
  {
   "cell_type": "markdown",
   "metadata": {
    "collapsed": false,
    "slideshow": {
     "slide_type": "slide"
    }
   },
   "source": [
    "### Poisson Regression\n",
    "\n",
    "* In a Poisson regression make rate a function of space/time.$$\\log \\lambda(\\mathbf{x}, t) = \\mathbf{w}_x^\\top \\boldsymbol{\\phi_x(\\mathbf{x})} + \\mathbf{w}_t^\\top \\boldsymbol{\\phi}_t(t)$$\n",
    "\n",
    "* This is known as a *log linear* or *log additive* model. \n",
    "\n",
    "* The link function is a logarithm.\n",
    "\n",
    "* We can rewrite such a function as \n",
    "$$\\log \\lambda(\\mathbf{x}, t) = f_x(\\mathbf{x}) + f_t(t)$$"
   ]
  },
  {
   "cell_type": "markdown",
   "metadata": {
    "slideshow": {
     "slide_type": "slide"
    }
   },
   "source": [
    "### Multiplicative Model\n",
    "\n",
    "* Be careful though ... a log additive model is really multiplicative.\n",
    "$$\\log \\lambda(\\mathbf{x}, t) = f_x(\\mathbf{x}) + f_t(t)$$\n",
    "\n",
    "* Becomes $$\\lambda(\\mathbf{x}, t) = \\exp(f_x(\\mathbf{x}) + f_t(t))$$\n",
    "\n",
    "* Which is equivalent to  $$\\lambda(\\mathbf{x}, t) = \\exp(f_x(\\mathbf{x}))\\exp(f_t(t))$$\n",
    "\n",
    "* Link functions can be deceptive in this way.\n",
    "\n",
    "@Saul:chained16"
   ]
  }
 ],
 "metadata": {
  "celltoolbar": "Slideshow",
  "kernelspec": {
   "display_name": "Python 3",
   "language": "python",
   "name": "python3"
  },
  "language_info": {
   "codemirror_mode": {
    "name": "ipython",
    "version": 3
   },
   "file_extension": ".py",
   "mimetype": "text/x-python",
   "name": "python",
   "nbconvert_exporter": "python",
   "pygments_lexer": "ipython3",
   "version": "3.4.4"
  }
 },
 "nbformat": 4,
 "nbformat_minor": 0
}
